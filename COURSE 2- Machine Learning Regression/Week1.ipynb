{
 "cells": [
  {
   "cell_type": "code",
   "execution_count": 11,
   "metadata": {
    "collapsed": false
   },
   "outputs": [],
   "source": [
    "import graphlab\n",
    "\n",
    "sales = graphlab.SFrame('kc_house_data.gl/')\n",
    "train_data,test_data = sales.random_split(.8, seed=0)\n"
   ]
  },
  {
   "cell_type": "code",
   "execution_count": 31,
   "metadata": {
    "collapsed": false
   },
   "outputs": [
    {
     "data": {
      "text/html": [
       "<div style=\"max-height:1000px;max-width:1500px;overflow:auto;\"><table frame=\"box\" rules=\"cols\">\n",
       "    <tr>\n",
       "        <th style=\"padding-left: 1em; padding-right: 1em; text-align: center\">id</th>\n",
       "        <th style=\"padding-left: 1em; padding-right: 1em; text-align: center\">date</th>\n",
       "        <th style=\"padding-left: 1em; padding-right: 1em; text-align: center\">price</th>\n",
       "        <th style=\"padding-left: 1em; padding-right: 1em; text-align: center\">bedrooms</th>\n",
       "        <th style=\"padding-left: 1em; padding-right: 1em; text-align: center\">bathrooms</th>\n",
       "        <th style=\"padding-left: 1em; padding-right: 1em; text-align: center\">sqft_living</th>\n",
       "        <th style=\"padding-left: 1em; padding-right: 1em; text-align: center\">sqft_lot</th>\n",
       "        <th style=\"padding-left: 1em; padding-right: 1em; text-align: center\">floors</th>\n",
       "        <th style=\"padding-left: 1em; padding-right: 1em; text-align: center\">waterfront</th>\n",
       "    </tr>\n",
       "    <tr>\n",
       "        <td style=\"padding-left: 1em; padding-right: 1em; text-align: center; vertical-align: top\">7129300520</td>\n",
       "        <td style=\"padding-left: 1em; padding-right: 1em; text-align: center; vertical-align: top\">2014-10-13 00:00:00+00:00</td>\n",
       "        <td style=\"padding-left: 1em; padding-right: 1em; text-align: center; vertical-align: top\">221900.0</td>\n",
       "        <td style=\"padding-left: 1em; padding-right: 1em; text-align: center; vertical-align: top\">3.0</td>\n",
       "        <td style=\"padding-left: 1em; padding-right: 1em; text-align: center; vertical-align: top\">1.0</td>\n",
       "        <td style=\"padding-left: 1em; padding-right: 1em; text-align: center; vertical-align: top\">1180.0</td>\n",
       "        <td style=\"padding-left: 1em; padding-right: 1em; text-align: center; vertical-align: top\">5650</td>\n",
       "        <td style=\"padding-left: 1em; padding-right: 1em; text-align: center; vertical-align: top\">1</td>\n",
       "        <td style=\"padding-left: 1em; padding-right: 1em; text-align: center; vertical-align: top\">0</td>\n",
       "    </tr>\n",
       "    <tr>\n",
       "        <td style=\"padding-left: 1em; padding-right: 1em; text-align: center; vertical-align: top\">6414100192</td>\n",
       "        <td style=\"padding-left: 1em; padding-right: 1em; text-align: center; vertical-align: top\">2014-12-09 00:00:00+00:00</td>\n",
       "        <td style=\"padding-left: 1em; padding-right: 1em; text-align: center; vertical-align: top\">538000.0</td>\n",
       "        <td style=\"padding-left: 1em; padding-right: 1em; text-align: center; vertical-align: top\">3.0</td>\n",
       "        <td style=\"padding-left: 1em; padding-right: 1em; text-align: center; vertical-align: top\">2.25</td>\n",
       "        <td style=\"padding-left: 1em; padding-right: 1em; text-align: center; vertical-align: top\">2570.0</td>\n",
       "        <td style=\"padding-left: 1em; padding-right: 1em; text-align: center; vertical-align: top\">7242</td>\n",
       "        <td style=\"padding-left: 1em; padding-right: 1em; text-align: center; vertical-align: top\">2</td>\n",
       "        <td style=\"padding-left: 1em; padding-right: 1em; text-align: center; vertical-align: top\">0</td>\n",
       "    </tr>\n",
       "    <tr>\n",
       "        <td style=\"padding-left: 1em; padding-right: 1em; text-align: center; vertical-align: top\">5631500400</td>\n",
       "        <td style=\"padding-left: 1em; padding-right: 1em; text-align: center; vertical-align: top\">2015-02-25 00:00:00+00:00</td>\n",
       "        <td style=\"padding-left: 1em; padding-right: 1em; text-align: center; vertical-align: top\">180000.0</td>\n",
       "        <td style=\"padding-left: 1em; padding-right: 1em; text-align: center; vertical-align: top\">2.0</td>\n",
       "        <td style=\"padding-left: 1em; padding-right: 1em; text-align: center; vertical-align: top\">1.0</td>\n",
       "        <td style=\"padding-left: 1em; padding-right: 1em; text-align: center; vertical-align: top\">770.0</td>\n",
       "        <td style=\"padding-left: 1em; padding-right: 1em; text-align: center; vertical-align: top\">10000</td>\n",
       "        <td style=\"padding-left: 1em; padding-right: 1em; text-align: center; vertical-align: top\">1</td>\n",
       "        <td style=\"padding-left: 1em; padding-right: 1em; text-align: center; vertical-align: top\">0</td>\n",
       "    </tr>\n",
       "    <tr>\n",
       "        <td style=\"padding-left: 1em; padding-right: 1em; text-align: center; vertical-align: top\">2487200875</td>\n",
       "        <td style=\"padding-left: 1em; padding-right: 1em; text-align: center; vertical-align: top\">2014-12-09 00:00:00+00:00</td>\n",
       "        <td style=\"padding-left: 1em; padding-right: 1em; text-align: center; vertical-align: top\">604000.0</td>\n",
       "        <td style=\"padding-left: 1em; padding-right: 1em; text-align: center; vertical-align: top\">4.0</td>\n",
       "        <td style=\"padding-left: 1em; padding-right: 1em; text-align: center; vertical-align: top\">3.0</td>\n",
       "        <td style=\"padding-left: 1em; padding-right: 1em; text-align: center; vertical-align: top\">1960.0</td>\n",
       "        <td style=\"padding-left: 1em; padding-right: 1em; text-align: center; vertical-align: top\">5000</td>\n",
       "        <td style=\"padding-left: 1em; padding-right: 1em; text-align: center; vertical-align: top\">1</td>\n",
       "        <td style=\"padding-left: 1em; padding-right: 1em; text-align: center; vertical-align: top\">0</td>\n",
       "    </tr>\n",
       "    <tr>\n",
       "        <td style=\"padding-left: 1em; padding-right: 1em; text-align: center; vertical-align: top\">1954400510</td>\n",
       "        <td style=\"padding-left: 1em; padding-right: 1em; text-align: center; vertical-align: top\">2015-02-18 00:00:00+00:00</td>\n",
       "        <td style=\"padding-left: 1em; padding-right: 1em; text-align: center; vertical-align: top\">510000.0</td>\n",
       "        <td style=\"padding-left: 1em; padding-right: 1em; text-align: center; vertical-align: top\">3.0</td>\n",
       "        <td style=\"padding-left: 1em; padding-right: 1em; text-align: center; vertical-align: top\">2.0</td>\n",
       "        <td style=\"padding-left: 1em; padding-right: 1em; text-align: center; vertical-align: top\">1680.0</td>\n",
       "        <td style=\"padding-left: 1em; padding-right: 1em; text-align: center; vertical-align: top\">8080</td>\n",
       "        <td style=\"padding-left: 1em; padding-right: 1em; text-align: center; vertical-align: top\">1</td>\n",
       "        <td style=\"padding-left: 1em; padding-right: 1em; text-align: center; vertical-align: top\">0</td>\n",
       "    </tr>\n",
       "    <tr>\n",
       "        <td style=\"padding-left: 1em; padding-right: 1em; text-align: center; vertical-align: top\">7237550310</td>\n",
       "        <td style=\"padding-left: 1em; padding-right: 1em; text-align: center; vertical-align: top\">2014-05-12 00:00:00+00:00</td>\n",
       "        <td style=\"padding-left: 1em; padding-right: 1em; text-align: center; vertical-align: top\">1225000.0</td>\n",
       "        <td style=\"padding-left: 1em; padding-right: 1em; text-align: center; vertical-align: top\">4.0</td>\n",
       "        <td style=\"padding-left: 1em; padding-right: 1em; text-align: center; vertical-align: top\">4.5</td>\n",
       "        <td style=\"padding-left: 1em; padding-right: 1em; text-align: center; vertical-align: top\">5420.0</td>\n",
       "        <td style=\"padding-left: 1em; padding-right: 1em; text-align: center; vertical-align: top\">101930</td>\n",
       "        <td style=\"padding-left: 1em; padding-right: 1em; text-align: center; vertical-align: top\">1</td>\n",
       "        <td style=\"padding-left: 1em; padding-right: 1em; text-align: center; vertical-align: top\">0</td>\n",
       "    </tr>\n",
       "    <tr>\n",
       "        <td style=\"padding-left: 1em; padding-right: 1em; text-align: center; vertical-align: top\">1321400060</td>\n",
       "        <td style=\"padding-left: 1em; padding-right: 1em; text-align: center; vertical-align: top\">2014-06-27 00:00:00+00:00</td>\n",
       "        <td style=\"padding-left: 1em; padding-right: 1em; text-align: center; vertical-align: top\">257500.0</td>\n",
       "        <td style=\"padding-left: 1em; padding-right: 1em; text-align: center; vertical-align: top\">3.0</td>\n",
       "        <td style=\"padding-left: 1em; padding-right: 1em; text-align: center; vertical-align: top\">2.25</td>\n",
       "        <td style=\"padding-left: 1em; padding-right: 1em; text-align: center; vertical-align: top\">1715.0</td>\n",
       "        <td style=\"padding-left: 1em; padding-right: 1em; text-align: center; vertical-align: top\">6819</td>\n",
       "        <td style=\"padding-left: 1em; padding-right: 1em; text-align: center; vertical-align: top\">2</td>\n",
       "        <td style=\"padding-left: 1em; padding-right: 1em; text-align: center; vertical-align: top\">0</td>\n",
       "    </tr>\n",
       "    <tr>\n",
       "        <td style=\"padding-left: 1em; padding-right: 1em; text-align: center; vertical-align: top\">2008000270</td>\n",
       "        <td style=\"padding-left: 1em; padding-right: 1em; text-align: center; vertical-align: top\">2015-01-15 00:00:00+00:00</td>\n",
       "        <td style=\"padding-left: 1em; padding-right: 1em; text-align: center; vertical-align: top\">291850.0</td>\n",
       "        <td style=\"padding-left: 1em; padding-right: 1em; text-align: center; vertical-align: top\">3.0</td>\n",
       "        <td style=\"padding-left: 1em; padding-right: 1em; text-align: center; vertical-align: top\">1.5</td>\n",
       "        <td style=\"padding-left: 1em; padding-right: 1em; text-align: center; vertical-align: top\">1060.0</td>\n",
       "        <td style=\"padding-left: 1em; padding-right: 1em; text-align: center; vertical-align: top\">9711</td>\n",
       "        <td style=\"padding-left: 1em; padding-right: 1em; text-align: center; vertical-align: top\">1</td>\n",
       "        <td style=\"padding-left: 1em; padding-right: 1em; text-align: center; vertical-align: top\">0</td>\n",
       "    </tr>\n",
       "    <tr>\n",
       "        <td style=\"padding-left: 1em; padding-right: 1em; text-align: center; vertical-align: top\">2414600126</td>\n",
       "        <td style=\"padding-left: 1em; padding-right: 1em; text-align: center; vertical-align: top\">2015-04-15 00:00:00+00:00</td>\n",
       "        <td style=\"padding-left: 1em; padding-right: 1em; text-align: center; vertical-align: top\">229500.0</td>\n",
       "        <td style=\"padding-left: 1em; padding-right: 1em; text-align: center; vertical-align: top\">3.0</td>\n",
       "        <td style=\"padding-left: 1em; padding-right: 1em; text-align: center; vertical-align: top\">1.0</td>\n",
       "        <td style=\"padding-left: 1em; padding-right: 1em; text-align: center; vertical-align: top\">1780.0</td>\n",
       "        <td style=\"padding-left: 1em; padding-right: 1em; text-align: center; vertical-align: top\">7470</td>\n",
       "        <td style=\"padding-left: 1em; padding-right: 1em; text-align: center; vertical-align: top\">1</td>\n",
       "        <td style=\"padding-left: 1em; padding-right: 1em; text-align: center; vertical-align: top\">0</td>\n",
       "    </tr>\n",
       "    <tr>\n",
       "        <td style=\"padding-left: 1em; padding-right: 1em; text-align: center; vertical-align: top\">3793500160</td>\n",
       "        <td style=\"padding-left: 1em; padding-right: 1em; text-align: center; vertical-align: top\">2015-03-12 00:00:00+00:00</td>\n",
       "        <td style=\"padding-left: 1em; padding-right: 1em; text-align: center; vertical-align: top\">323000.0</td>\n",
       "        <td style=\"padding-left: 1em; padding-right: 1em; text-align: center; vertical-align: top\">3.0</td>\n",
       "        <td style=\"padding-left: 1em; padding-right: 1em; text-align: center; vertical-align: top\">2.5</td>\n",
       "        <td style=\"padding-left: 1em; padding-right: 1em; text-align: center; vertical-align: top\">1890.0</td>\n",
       "        <td style=\"padding-left: 1em; padding-right: 1em; text-align: center; vertical-align: top\">6560</td>\n",
       "        <td style=\"padding-left: 1em; padding-right: 1em; text-align: center; vertical-align: top\">2</td>\n",
       "        <td style=\"padding-left: 1em; padding-right: 1em; text-align: center; vertical-align: top\">0</td>\n",
       "    </tr>\n",
       "</table>\n",
       "<table frame=\"box\" rules=\"cols\">\n",
       "    <tr>\n",
       "        <th style=\"padding-left: 1em; padding-right: 1em; text-align: center\">view</th>\n",
       "        <th style=\"padding-left: 1em; padding-right: 1em; text-align: center\">condition</th>\n",
       "        <th style=\"padding-left: 1em; padding-right: 1em; text-align: center\">grade</th>\n",
       "        <th style=\"padding-left: 1em; padding-right: 1em; text-align: center\">sqft_above</th>\n",
       "        <th style=\"padding-left: 1em; padding-right: 1em; text-align: center\">sqft_basement</th>\n",
       "        <th style=\"padding-left: 1em; padding-right: 1em; text-align: center\">yr_built</th>\n",
       "        <th style=\"padding-left: 1em; padding-right: 1em; text-align: center\">yr_renovated</th>\n",
       "        <th style=\"padding-left: 1em; padding-right: 1em; text-align: center\">zipcode</th>\n",
       "        <th style=\"padding-left: 1em; padding-right: 1em; text-align: center\">lat</th>\n",
       "    </tr>\n",
       "    <tr>\n",
       "        <td style=\"padding-left: 1em; padding-right: 1em; text-align: center; vertical-align: top\">0</td>\n",
       "        <td style=\"padding-left: 1em; padding-right: 1em; text-align: center; vertical-align: top\">3</td>\n",
       "        <td style=\"padding-left: 1em; padding-right: 1em; text-align: center; vertical-align: top\">7</td>\n",
       "        <td style=\"padding-left: 1em; padding-right: 1em; text-align: center; vertical-align: top\">1180</td>\n",
       "        <td style=\"padding-left: 1em; padding-right: 1em; text-align: center; vertical-align: top\">0</td>\n",
       "        <td style=\"padding-left: 1em; padding-right: 1em; text-align: center; vertical-align: top\">1955</td>\n",
       "        <td style=\"padding-left: 1em; padding-right: 1em; text-align: center; vertical-align: top\">0</td>\n",
       "        <td style=\"padding-left: 1em; padding-right: 1em; text-align: center; vertical-align: top\">98178</td>\n",
       "        <td style=\"padding-left: 1em; padding-right: 1em; text-align: center; vertical-align: top\">47.51123398</td>\n",
       "    </tr>\n",
       "    <tr>\n",
       "        <td style=\"padding-left: 1em; padding-right: 1em; text-align: center; vertical-align: top\">0</td>\n",
       "        <td style=\"padding-left: 1em; padding-right: 1em; text-align: center; vertical-align: top\">3</td>\n",
       "        <td style=\"padding-left: 1em; padding-right: 1em; text-align: center; vertical-align: top\">7</td>\n",
       "        <td style=\"padding-left: 1em; padding-right: 1em; text-align: center; vertical-align: top\">2170</td>\n",
       "        <td style=\"padding-left: 1em; padding-right: 1em; text-align: center; vertical-align: top\">400</td>\n",
       "        <td style=\"padding-left: 1em; padding-right: 1em; text-align: center; vertical-align: top\">1951</td>\n",
       "        <td style=\"padding-left: 1em; padding-right: 1em; text-align: center; vertical-align: top\">1991</td>\n",
       "        <td style=\"padding-left: 1em; padding-right: 1em; text-align: center; vertical-align: top\">98125</td>\n",
       "        <td style=\"padding-left: 1em; padding-right: 1em; text-align: center; vertical-align: top\">47.72102274</td>\n",
       "    </tr>\n",
       "    <tr>\n",
       "        <td style=\"padding-left: 1em; padding-right: 1em; text-align: center; vertical-align: top\">0</td>\n",
       "        <td style=\"padding-left: 1em; padding-right: 1em; text-align: center; vertical-align: top\">3</td>\n",
       "        <td style=\"padding-left: 1em; padding-right: 1em; text-align: center; vertical-align: top\">6</td>\n",
       "        <td style=\"padding-left: 1em; padding-right: 1em; text-align: center; vertical-align: top\">770</td>\n",
       "        <td style=\"padding-left: 1em; padding-right: 1em; text-align: center; vertical-align: top\">0</td>\n",
       "        <td style=\"padding-left: 1em; padding-right: 1em; text-align: center; vertical-align: top\">1933</td>\n",
       "        <td style=\"padding-left: 1em; padding-right: 1em; text-align: center; vertical-align: top\">0</td>\n",
       "        <td style=\"padding-left: 1em; padding-right: 1em; text-align: center; vertical-align: top\">98028</td>\n",
       "        <td style=\"padding-left: 1em; padding-right: 1em; text-align: center; vertical-align: top\">47.73792661</td>\n",
       "    </tr>\n",
       "    <tr>\n",
       "        <td style=\"padding-left: 1em; padding-right: 1em; text-align: center; vertical-align: top\">0</td>\n",
       "        <td style=\"padding-left: 1em; padding-right: 1em; text-align: center; vertical-align: top\">5</td>\n",
       "        <td style=\"padding-left: 1em; padding-right: 1em; text-align: center; vertical-align: top\">7</td>\n",
       "        <td style=\"padding-left: 1em; padding-right: 1em; text-align: center; vertical-align: top\">1050</td>\n",
       "        <td style=\"padding-left: 1em; padding-right: 1em; text-align: center; vertical-align: top\">910</td>\n",
       "        <td style=\"padding-left: 1em; padding-right: 1em; text-align: center; vertical-align: top\">1965</td>\n",
       "        <td style=\"padding-left: 1em; padding-right: 1em; text-align: center; vertical-align: top\">0</td>\n",
       "        <td style=\"padding-left: 1em; padding-right: 1em; text-align: center; vertical-align: top\">98136</td>\n",
       "        <td style=\"padding-left: 1em; padding-right: 1em; text-align: center; vertical-align: top\">47.52082</td>\n",
       "    </tr>\n",
       "    <tr>\n",
       "        <td style=\"padding-left: 1em; padding-right: 1em; text-align: center; vertical-align: top\">0</td>\n",
       "        <td style=\"padding-left: 1em; padding-right: 1em; text-align: center; vertical-align: top\">3</td>\n",
       "        <td style=\"padding-left: 1em; padding-right: 1em; text-align: center; vertical-align: top\">8</td>\n",
       "        <td style=\"padding-left: 1em; padding-right: 1em; text-align: center; vertical-align: top\">1680</td>\n",
       "        <td style=\"padding-left: 1em; padding-right: 1em; text-align: center; vertical-align: top\">0</td>\n",
       "        <td style=\"padding-left: 1em; padding-right: 1em; text-align: center; vertical-align: top\">1987</td>\n",
       "        <td style=\"padding-left: 1em; padding-right: 1em; text-align: center; vertical-align: top\">0</td>\n",
       "        <td style=\"padding-left: 1em; padding-right: 1em; text-align: center; vertical-align: top\">98074</td>\n",
       "        <td style=\"padding-left: 1em; padding-right: 1em; text-align: center; vertical-align: top\">47.61681228</td>\n",
       "    </tr>\n",
       "    <tr>\n",
       "        <td style=\"padding-left: 1em; padding-right: 1em; text-align: center; vertical-align: top\">0</td>\n",
       "        <td style=\"padding-left: 1em; padding-right: 1em; text-align: center; vertical-align: top\">3</td>\n",
       "        <td style=\"padding-left: 1em; padding-right: 1em; text-align: center; vertical-align: top\">11</td>\n",
       "        <td style=\"padding-left: 1em; padding-right: 1em; text-align: center; vertical-align: top\">3890</td>\n",
       "        <td style=\"padding-left: 1em; padding-right: 1em; text-align: center; vertical-align: top\">1530</td>\n",
       "        <td style=\"padding-left: 1em; padding-right: 1em; text-align: center; vertical-align: top\">2001</td>\n",
       "        <td style=\"padding-left: 1em; padding-right: 1em; text-align: center; vertical-align: top\">0</td>\n",
       "        <td style=\"padding-left: 1em; padding-right: 1em; text-align: center; vertical-align: top\">98053</td>\n",
       "        <td style=\"padding-left: 1em; padding-right: 1em; text-align: center; vertical-align: top\">47.65611835</td>\n",
       "    </tr>\n",
       "    <tr>\n",
       "        <td style=\"padding-left: 1em; padding-right: 1em; text-align: center; vertical-align: top\">0</td>\n",
       "        <td style=\"padding-left: 1em; padding-right: 1em; text-align: center; vertical-align: top\">3</td>\n",
       "        <td style=\"padding-left: 1em; padding-right: 1em; text-align: center; vertical-align: top\">7</td>\n",
       "        <td style=\"padding-left: 1em; padding-right: 1em; text-align: center; vertical-align: top\">1715</td>\n",
       "        <td style=\"padding-left: 1em; padding-right: 1em; text-align: center; vertical-align: top\">0</td>\n",
       "        <td style=\"padding-left: 1em; padding-right: 1em; text-align: center; vertical-align: top\">1995</td>\n",
       "        <td style=\"padding-left: 1em; padding-right: 1em; text-align: center; vertical-align: top\">0</td>\n",
       "        <td style=\"padding-left: 1em; padding-right: 1em; text-align: center; vertical-align: top\">98003</td>\n",
       "        <td style=\"padding-left: 1em; padding-right: 1em; text-align: center; vertical-align: top\">47.30972002</td>\n",
       "    </tr>\n",
       "    <tr>\n",
       "        <td style=\"padding-left: 1em; padding-right: 1em; text-align: center; vertical-align: top\">0</td>\n",
       "        <td style=\"padding-left: 1em; padding-right: 1em; text-align: center; vertical-align: top\">3</td>\n",
       "        <td style=\"padding-left: 1em; padding-right: 1em; text-align: center; vertical-align: top\">7</td>\n",
       "        <td style=\"padding-left: 1em; padding-right: 1em; text-align: center; vertical-align: top\">1060</td>\n",
       "        <td style=\"padding-left: 1em; padding-right: 1em; text-align: center; vertical-align: top\">0</td>\n",
       "        <td style=\"padding-left: 1em; padding-right: 1em; text-align: center; vertical-align: top\">1963</td>\n",
       "        <td style=\"padding-left: 1em; padding-right: 1em; text-align: center; vertical-align: top\">0</td>\n",
       "        <td style=\"padding-left: 1em; padding-right: 1em; text-align: center; vertical-align: top\">98198</td>\n",
       "        <td style=\"padding-left: 1em; padding-right: 1em; text-align: center; vertical-align: top\">47.40949984</td>\n",
       "    </tr>\n",
       "    <tr>\n",
       "        <td style=\"padding-left: 1em; padding-right: 1em; text-align: center; vertical-align: top\">0</td>\n",
       "        <td style=\"padding-left: 1em; padding-right: 1em; text-align: center; vertical-align: top\">3</td>\n",
       "        <td style=\"padding-left: 1em; padding-right: 1em; text-align: center; vertical-align: top\">7</td>\n",
       "        <td style=\"padding-left: 1em; padding-right: 1em; text-align: center; vertical-align: top\">1050</td>\n",
       "        <td style=\"padding-left: 1em; padding-right: 1em; text-align: center; vertical-align: top\">730</td>\n",
       "        <td style=\"padding-left: 1em; padding-right: 1em; text-align: center; vertical-align: top\">1960</td>\n",
       "        <td style=\"padding-left: 1em; padding-right: 1em; text-align: center; vertical-align: top\">0</td>\n",
       "        <td style=\"padding-left: 1em; padding-right: 1em; text-align: center; vertical-align: top\">98146</td>\n",
       "        <td style=\"padding-left: 1em; padding-right: 1em; text-align: center; vertical-align: top\">47.51229381</td>\n",
       "    </tr>\n",
       "    <tr>\n",
       "        <td style=\"padding-left: 1em; padding-right: 1em; text-align: center; vertical-align: top\">0</td>\n",
       "        <td style=\"padding-left: 1em; padding-right: 1em; text-align: center; vertical-align: top\">3</td>\n",
       "        <td style=\"padding-left: 1em; padding-right: 1em; text-align: center; vertical-align: top\">7</td>\n",
       "        <td style=\"padding-left: 1em; padding-right: 1em; text-align: center; vertical-align: top\">1890</td>\n",
       "        <td style=\"padding-left: 1em; padding-right: 1em; text-align: center; vertical-align: top\">0</td>\n",
       "        <td style=\"padding-left: 1em; padding-right: 1em; text-align: center; vertical-align: top\">2003</td>\n",
       "        <td style=\"padding-left: 1em; padding-right: 1em; text-align: center; vertical-align: top\">0</td>\n",
       "        <td style=\"padding-left: 1em; padding-right: 1em; text-align: center; vertical-align: top\">98038</td>\n",
       "        <td style=\"padding-left: 1em; padding-right: 1em; text-align: center; vertical-align: top\">47.36840673</td>\n",
       "    </tr>\n",
       "</table>\n",
       "<table frame=\"box\" rules=\"cols\">\n",
       "    <tr>\n",
       "        <th style=\"padding-left: 1em; padding-right: 1em; text-align: center\">long</th>\n",
       "        <th style=\"padding-left: 1em; padding-right: 1em; text-align: center\">sqft_living15</th>\n",
       "        <th style=\"padding-left: 1em; padding-right: 1em; text-align: center\">sqft_lot15</th>\n",
       "    </tr>\n",
       "    <tr>\n",
       "        <td style=\"padding-left: 1em; padding-right: 1em; text-align: center; vertical-align: top\">-122.25677536</td>\n",
       "        <td style=\"padding-left: 1em; padding-right: 1em; text-align: center; vertical-align: top\">1340.0</td>\n",
       "        <td style=\"padding-left: 1em; padding-right: 1em; text-align: center; vertical-align: top\">5650.0</td>\n",
       "    </tr>\n",
       "    <tr>\n",
       "        <td style=\"padding-left: 1em; padding-right: 1em; text-align: center; vertical-align: top\">-122.3188624</td>\n",
       "        <td style=\"padding-left: 1em; padding-right: 1em; text-align: center; vertical-align: top\">1690.0</td>\n",
       "        <td style=\"padding-left: 1em; padding-right: 1em; text-align: center; vertical-align: top\">7639.0</td>\n",
       "    </tr>\n",
       "    <tr>\n",
       "        <td style=\"padding-left: 1em; padding-right: 1em; text-align: center; vertical-align: top\">-122.23319601</td>\n",
       "        <td style=\"padding-left: 1em; padding-right: 1em; text-align: center; vertical-align: top\">2720.0</td>\n",
       "        <td style=\"padding-left: 1em; padding-right: 1em; text-align: center; vertical-align: top\">8062.0</td>\n",
       "    </tr>\n",
       "    <tr>\n",
       "        <td style=\"padding-left: 1em; padding-right: 1em; text-align: center; vertical-align: top\">-122.39318505</td>\n",
       "        <td style=\"padding-left: 1em; padding-right: 1em; text-align: center; vertical-align: top\">1360.0</td>\n",
       "        <td style=\"padding-left: 1em; padding-right: 1em; text-align: center; vertical-align: top\">5000.0</td>\n",
       "    </tr>\n",
       "    <tr>\n",
       "        <td style=\"padding-left: 1em; padding-right: 1em; text-align: center; vertical-align: top\">-122.04490059</td>\n",
       "        <td style=\"padding-left: 1em; padding-right: 1em; text-align: center; vertical-align: top\">1800.0</td>\n",
       "        <td style=\"padding-left: 1em; padding-right: 1em; text-align: center; vertical-align: top\">7503.0</td>\n",
       "    </tr>\n",
       "    <tr>\n",
       "        <td style=\"padding-left: 1em; padding-right: 1em; text-align: center; vertical-align: top\">-122.00528655</td>\n",
       "        <td style=\"padding-left: 1em; padding-right: 1em; text-align: center; vertical-align: top\">4760.0</td>\n",
       "        <td style=\"padding-left: 1em; padding-right: 1em; text-align: center; vertical-align: top\">101930.0</td>\n",
       "    </tr>\n",
       "    <tr>\n",
       "        <td style=\"padding-left: 1em; padding-right: 1em; text-align: center; vertical-align: top\">-122.32704857</td>\n",
       "        <td style=\"padding-left: 1em; padding-right: 1em; text-align: center; vertical-align: top\">2238.0</td>\n",
       "        <td style=\"padding-left: 1em; padding-right: 1em; text-align: center; vertical-align: top\">6819.0</td>\n",
       "    </tr>\n",
       "    <tr>\n",
       "        <td style=\"padding-left: 1em; padding-right: 1em; text-align: center; vertical-align: top\">-122.31457273</td>\n",
       "        <td style=\"padding-left: 1em; padding-right: 1em; text-align: center; vertical-align: top\">1650.0</td>\n",
       "        <td style=\"padding-left: 1em; padding-right: 1em; text-align: center; vertical-align: top\">9711.0</td>\n",
       "    </tr>\n",
       "    <tr>\n",
       "        <td style=\"padding-left: 1em; padding-right: 1em; text-align: center; vertical-align: top\">-122.33659507</td>\n",
       "        <td style=\"padding-left: 1em; padding-right: 1em; text-align: center; vertical-align: top\">1780.0</td>\n",
       "        <td style=\"padding-left: 1em; padding-right: 1em; text-align: center; vertical-align: top\">8113.0</td>\n",
       "    </tr>\n",
       "    <tr>\n",
       "        <td style=\"padding-left: 1em; padding-right: 1em; text-align: center; vertical-align: top\">-122.0308176</td>\n",
       "        <td style=\"padding-left: 1em; padding-right: 1em; text-align: center; vertical-align: top\">2390.0</td>\n",
       "        <td style=\"padding-left: 1em; padding-right: 1em; text-align: center; vertical-align: top\">7570.0</td>\n",
       "    </tr>\n",
       "</table>\n",
       "[10 rows x 21 columns]<br/>\n",
       "</div>"
      ],
      "text/plain": [
       "Columns:\n",
       "\tid\tstr\n",
       "\tdate\tdatetime\n",
       "\tprice\tfloat\n",
       "\tbedrooms\tfloat\n",
       "\tbathrooms\tfloat\n",
       "\tsqft_living\tfloat\n",
       "\tsqft_lot\tint\n",
       "\tfloors\tstr\n",
       "\twaterfront\tint\n",
       "\tview\tint\n",
       "\tcondition\tint\n",
       "\tgrade\tint\n",
       "\tsqft_above\tint\n",
       "\tsqft_basement\tint\n",
       "\tyr_built\tint\n",
       "\tyr_renovated\tint\n",
       "\tzipcode\tstr\n",
       "\tlat\tfloat\n",
       "\tlong\tfloat\n",
       "\tsqft_living15\tfloat\n",
       "\tsqft_lot15\tfloat\n",
       "\n",
       "Rows: 10\n",
       "\n",
       "Data:\n",
       "+------------+---------------------------+-----------+----------+-----------+\n",
       "|     id     |            date           |   price   | bedrooms | bathrooms |\n",
       "+------------+---------------------------+-----------+----------+-----------+\n",
       "| 7129300520 | 2014-10-13 00:00:00+00:00 |  221900.0 |   3.0    |    1.0    |\n",
       "| 6414100192 | 2014-12-09 00:00:00+00:00 |  538000.0 |   3.0    |    2.25   |\n",
       "| 5631500400 | 2015-02-25 00:00:00+00:00 |  180000.0 |   2.0    |    1.0    |\n",
       "| 2487200875 | 2014-12-09 00:00:00+00:00 |  604000.0 |   4.0    |    3.0    |\n",
       "| 1954400510 | 2015-02-18 00:00:00+00:00 |  510000.0 |   3.0    |    2.0    |\n",
       "| 7237550310 | 2014-05-12 00:00:00+00:00 | 1225000.0 |   4.0    |    4.5    |\n",
       "| 1321400060 | 2014-06-27 00:00:00+00:00 |  257500.0 |   3.0    |    2.25   |\n",
       "| 2008000270 | 2015-01-15 00:00:00+00:00 |  291850.0 |   3.0    |    1.5    |\n",
       "| 2414600126 | 2015-04-15 00:00:00+00:00 |  229500.0 |   3.0    |    1.0    |\n",
       "| 3793500160 | 2015-03-12 00:00:00+00:00 |  323000.0 |   3.0    |    2.5    |\n",
       "+------------+---------------------------+-----------+----------+-----------+\n",
       "+-------------+----------+--------+------------+------+-----------+-------+------------+\n",
       "| sqft_living | sqft_lot | floors | waterfront | view | condition | grade | sqft_above |\n",
       "+-------------+----------+--------+------------+------+-----------+-------+------------+\n",
       "|    1180.0   |   5650   |   1    |     0      |  0   |     3     |   7   |    1180    |\n",
       "|    2570.0   |   7242   |   2    |     0      |  0   |     3     |   7   |    2170    |\n",
       "|    770.0    |  10000   |   1    |     0      |  0   |     3     |   6   |    770     |\n",
       "|    1960.0   |   5000   |   1    |     0      |  0   |     5     |   7   |    1050    |\n",
       "|    1680.0   |   8080   |   1    |     0      |  0   |     3     |   8   |    1680    |\n",
       "|    5420.0   |  101930  |   1    |     0      |  0   |     3     |   11  |    3890    |\n",
       "|    1715.0   |   6819   |   2    |     0      |  0   |     3     |   7   |    1715    |\n",
       "|    1060.0   |   9711   |   1    |     0      |  0   |     3     |   7   |    1060    |\n",
       "|    1780.0   |   7470   |   1    |     0      |  0   |     3     |   7   |    1050    |\n",
       "|    1890.0   |   6560   |   2    |     0      |  0   |     3     |   7   |    1890    |\n",
       "+-------------+----------+--------+------------+------+-----------+-------+------------+\n",
       "+---------------+----------+--------------+---------+-------------+\n",
       "| sqft_basement | yr_built | yr_renovated | zipcode |     lat     |\n",
       "+---------------+----------+--------------+---------+-------------+\n",
       "|       0       |   1955   |      0       |  98178  | 47.51123398 |\n",
       "|      400      |   1951   |     1991     |  98125  | 47.72102274 |\n",
       "|       0       |   1933   |      0       |  98028  | 47.73792661 |\n",
       "|      910      |   1965   |      0       |  98136  |   47.52082  |\n",
       "|       0       |   1987   |      0       |  98074  | 47.61681228 |\n",
       "|      1530     |   2001   |      0       |  98053  | 47.65611835 |\n",
       "|       0       |   1995   |      0       |  98003  | 47.30972002 |\n",
       "|       0       |   1963   |      0       |  98198  | 47.40949984 |\n",
       "|      730      |   1960   |      0       |  98146  | 47.51229381 |\n",
       "|       0       |   2003   |      0       |  98038  | 47.36840673 |\n",
       "+---------------+----------+--------------+---------+-------------+\n",
       "+---------------+---------------+-----+\n",
       "|      long     | sqft_living15 | ... |\n",
       "+---------------+---------------+-----+\n",
       "| -122.25677536 |     1340.0    | ... |\n",
       "|  -122.3188624 |     1690.0    | ... |\n",
       "| -122.23319601 |     2720.0    | ... |\n",
       "| -122.39318505 |     1360.0    | ... |\n",
       "| -122.04490059 |     1800.0    | ... |\n",
       "| -122.00528655 |     4760.0    | ... |\n",
       "| -122.32704857 |     2238.0    | ... |\n",
       "| -122.31457273 |     1650.0    | ... |\n",
       "| -122.33659507 |     1780.0    | ... |\n",
       "|  -122.0308176 |     2390.0    | ... |\n",
       "+---------------+---------------+-----+\n",
       "[10 rows x 21 columns]"
      ]
     },
     "execution_count": 31,
     "metadata": {},
     "output_type": "execute_result"
    }
   ],
   "source": [
    "sales.head()"
   ]
  },
  {
   "cell_type": "code",
   "execution_count": 13,
   "metadata": {
    "collapsed": false
   },
   "outputs": [],
   "source": [
    "#Write a function to compute the Simple Linear Regression weights using the closed form solution\n",
    "#y = intercept + slope*x\n",
    "#intercept = sum(y)*sum(x**2)-sum(x)*sum(x*y)/number*sum(x**2) - sum(x)**2\n",
    "#slope = number*sum(x*y)-sum(x)*sum(y)/number*sum(x**2)-sum(x)**2\n",
    "\n",
    "def simple_linear_regression(input_feature, output):\n",
    "    squared_input_feature = input_feature*input_feature\n",
    "    number = output.size()\n",
    "    product = input_feature*output\n",
    "    intercept_numerator = (output.sum()*squared_input_feature.sum())-(input_feature.sum()*product.sum())\n",
    "    intercept_denominator = (number*squared_input_feature.sum() - (input_feature.sum())*(input_feature.sum()))\n",
    "    \n",
    "    intercept = intercept_numerator/intercept_denominator\n",
    "    \n",
    "    slope_numerator = (number*product.sum()-input_feature.sum()*output.sum())\n",
    "    slope_denominator = (number*squared_input_feature.sum() - (input_feature.sum())*(input_feature.sum()))\n",
    "    \n",
    "    slope = slope_numerator/slope_denominator\n",
    "\n",
    "    return(intercept, slope)"
   ]
  },
  {
   "cell_type": "code",
   "execution_count": 14,
   "metadata": {
    "collapsed": false
   },
   "outputs": [
    {
     "name": "stdout",
     "output_type": "stream",
     "text": [
      "Intercept: 1\n",
      "Slope: 1\n"
     ]
    }
   ],
   "source": [
    "#test simple_linear_regression\n",
    "\n",
    "test_feature = graphlab.SArray(range(5))\n",
    "test_output = graphlab.SArray(1 + 1*test_feature)\n",
    "(test_intercept, test_slope) =  simple_linear_regression(test_feature, test_output)\n",
    "print \"Intercept: \" + str(test_intercept)\n",
    "print \"Slope: \" + str(test_slope)"
   ]
  },
  {
   "cell_type": "code",
   "execution_count": 16,
   "metadata": {
    "collapsed": false
   },
   "outputs": [
    {
     "name": "stdout",
     "output_type": "stream",
     "text": [
      "Intercept: -47116.0765749\n",
      "Slope: 281.958838568\n"
     ]
    }
   ],
   "source": [
    "#a simple linear regression model for predicting price based on sqft_living\n",
    "\n",
    "sqft_intercept, sqft_slope = simple_linear_regression(train_data['sqft_living'], train_data['price'])\n",
    "\n",
    "print \"Intercept: \" + str(sqft_intercept)\n",
    "print \"Slope: \" + str(sqft_slope)"
   ]
  },
  {
   "cell_type": "code",
   "execution_count": 21,
   "metadata": {
    "collapsed": true
   },
   "outputs": [],
   "source": [
    "#Write a function that accepts a column of data ‘input_feature’, the ‘slope’\n",
    "#and the ‘intercept’ you learned, and returns an a column of predictions\n",
    "\n",
    "def get_regression_predictions(input_feature, intercept, slope):\n",
    "    predicted_output = intercept + (slope*input_feature)\n",
    "    \n",
    "    return(predicted_output)"
   ]
  },
  {
   "cell_type": "code",
   "execution_count": 22,
   "metadata": {
    "collapsed": false
   },
   "outputs": [
    {
     "name": "stdout",
     "output_type": "stream",
     "text": [
      "The estimated price for a house with 2650 squarefeet is $700074.85\n"
     ]
    }
   ],
   "source": [
    "#6. Quiz Question: Using your Slope and Intercept from (4), What is the predicted price for a house with 2650 sqft?\n",
    "\n",
    "my_house_sqft = 2650\n",
    "estimated_price = get_regression_predictions(my_house_sqft, sqft_intercept, sqft_slope)\n",
    "\n",
    "print \"The estimated price for a house with %d squarefeet is $%.2f\" % (my_house_sqft, estimated_price)"
   ]
  },
  {
   "cell_type": "code",
   "execution_count": 53,
   "metadata": {
    "collapsed": false
   },
   "outputs": [],
   "source": [
    "#Write a function that accepts column of data: ‘input_feature’, and ‘output’ and the regression parameters\n",
    "#‘slope’ and ‘intercept’ and outputs the Residual Sum of Squares\n",
    "\n",
    "#RSS = sum((sum(y)-(intercept+slope*input_features))**2)\n",
    "\n",
    "def get_residual_sum_of_squares(input_feature, output, intercept, slope):\n",
    "    predicted_output = intercept + (slope*input_feature)\n",
    "    residual = output-predicted_output\n",
    "    RSS = (residual*residual).sum()\n",
    "    \n",
    "    return(RSS)"
   ]
  },
  {
   "cell_type": "code",
   "execution_count": 54,
   "metadata": {
    "collapsed": false
   },
   "outputs": [
    {
     "name": "stdout",
     "output_type": "stream",
     "text": [
      "0\n"
     ]
    }
   ],
   "source": [
    "#test get_residual_sum_of_squares\n",
    "#Since the data in the test model lie exactly on a line the residual sum of squares should be zero\n",
    "\n",
    "print get_residual_sum_of_squares(test_feature, test_output, test_intercept, test_slope)"
   ]
  },
  {
   "cell_type": "code",
   "execution_count": 55,
   "metadata": {
    "collapsed": false
   },
   "outputs": [
    {
     "name": "stdout",
     "output_type": "stream",
     "text": [
      "The RSS of predicting Prices based on Square Feet is : 1.20191835632e+15\n"
     ]
    }
   ],
   "source": [
    "#8. Quiz Question: According to this function and the slope and intercept from (4) \n",
    "#What is the RSS for the simple linear regression using squarefeet to predict prices on TRAINING data?\n",
    "\n",
    "rss_prices_on_sqft = get_residual_sum_of_squares(train_data['sqft_living'], train_data['price'], sqft_intercept, sqft_slope)\n",
    "\n",
    "print 'The RSS of predicting Prices based on Square Feet is : ' + str(rss_prices_on_sqft)"
   ]
  },
  {
   "cell_type": "code",
   "execution_count": 29,
   "metadata": {
    "collapsed": false
   },
   "outputs": [],
   "source": [
    "#Write a function that accept a column of data:‘output’ and the regression parameters ‘slope’ and ‘intercept’ \n",
    "# and outputs the column of data: ‘estimated_input’\n",
    "\n",
    "#Do this by solving the linear function output = intercept + slope*input for the ‘input’ variable\n",
    "#(i.e. ‘input’ should be on one side of the equals sign by itself)\n",
    "\n",
    "def inverse_regression_predictions(output, intercept, slope):\n",
    "    estimated_input = (output-intercept)/slope\n",
    "    \n",
    "    return(estimated_input)"
   ]
  },
  {
   "cell_type": "code",
   "execution_count": 30,
   "metadata": {
    "collapsed": false
   },
   "outputs": [
    {
     "name": "stdout",
     "output_type": "stream",
     "text": [
      "The estimated squarefeet for a house worth $800000.00 is 3004\n"
     ]
    }
   ],
   "source": [
    "#10. Quiz Question: According to this function and the regression slope and intercept from (3)\n",
    "#what is the estimated square-feet for a house costing $800,000?\n",
    "\n",
    "my_house_price = 800000\n",
    "estimated_squarefeet = inverse_regression_predictions(my_house_price, sqft_intercept, sqft_slope)\n",
    "\n",
    "print \"The estimated squarefeet for a house worth $%.2f is %d\" % (my_house_price, estimated_squarefeet)"
   ]
  },
  {
   "cell_type": "code",
   "execution_count": 48,
   "metadata": {
    "collapsed": false
   },
   "outputs": [
    {
     "name": "stdout",
     "output_type": "stream",
     "text": [
      "Intercept: 109473.180469\n",
      "Slope: 127588.952175\n"
     ]
    }
   ],
   "source": [
    "# Estimate the slope and intercept for predicting 'price' based on 'bedrooms'\n",
    "\n",
    "bedroom_intercept, bedroom_slope = simple_linear_regression(train_data['bedrooms'], train_data['price'])\n",
    "\n",
    "print \"Intercept: \" + str(bedroom_intercept)\n",
    "print \"Slope: \" + str(bedroom_slope)"
   ]
  },
  {
   "cell_type": "code",
   "execution_count": 47,
   "metadata": {
    "collapsed": false
   },
   "outputs": [
    {
     "data": {
      "application/javascript": [
       "$(\"head\").append($(\"<link/>\").attr({\n",
       "  rel:  \"stylesheet\",\n",
       "  type: \"text/css\",\n",
       "  href: \"//cdnjs.cloudflare.com/ajax/libs/font-awesome/4.1.0/css/font-awesome.min.css\"\n",
       "}));\n",
       "$(\"head\").append($(\"<link/>\").attr({\n",
       "  rel:  \"stylesheet\",\n",
       "  type: \"text/css\",\n",
       "  href: \"https://static.turi.com/products/graphlab-create/2.1/canvas/css/canvas.css\"\n",
       "}));\n",
       "\n",
       "            (function(){\n",
       "\n",
       "                var e = null;\n",
       "                if (typeof element == 'undefined') {\n",
       "                    var scripts = document.getElementsByTagName('script');\n",
       "                    var thisScriptTag = scripts[scripts.length-1];\n",
       "                    var parentDiv = thisScriptTag.parentNode;\n",
       "                    e = document.createElement('div');\n",
       "                    parentDiv.appendChild(e);\n",
       "                } else {\n",
       "                    e = element[0];\n",
       "                }\n",
       "\n",
       "                if (typeof requirejs !== 'undefined') {\n",
       "                    // disable load timeout; ipython_app.js is large and can take a while to load.\n",
       "                    requirejs.config({waitSeconds: 0});\n",
       "                }\n",
       "\n",
       "                require(['https://static.turi.com/products/graphlab-create/2.1/canvas/js/ipython_app.js'], function(IPythonApp){\n",
       "                    var app = new IPythonApp();\n",
       "                    app.attachView('sframe','Plots', {\"selected_variable\": {\"name\": [\"sales\"], \"descriptives\": {\"rows\": 21613, \"columns\": 21}, \"view_component\": \"Plots\", \"view_file\": \"sframe\", \"view_params\": {\"y\": \"price\", \"x\": \"bedrooms\", \"columns\": [\"id\", \"date\", \"price\", \"bedrooms\", \"bathrooms\", \"sqft_living\", \"sqft_lot\", \"floors\", \"waterfront\", \"view\", \"condition\", \"grade\", \"sqft_above\", \"sqft_basement\", \"yr_built\", \"yr_renovated\", \"zipcode\", \"lat\", \"long\", \"sqft_living15\", \"sqft_lot15\"], \"view\": \"Scatter Plot\"}, \"view_components\": [\"Summary\", \"Table\", \"Bar Chart\", \"BoxWhisker Plot\", \"Line Chart\", \"Scatter Plot\", \"Heat Map\", \"Plots\"], \"type\": \"SFrame\", \"columns\": [{\"dtype\": \"str\", \"name\": \"id\"}, {\"dtype\": \"datetime\", \"name\": \"date\"}, {\"dtype\": \"float\", \"name\": \"price\"}, {\"dtype\": \"float\", \"name\": \"bedrooms\"}, {\"dtype\": \"float\", \"name\": \"bathrooms\"}, {\"dtype\": \"float\", \"name\": \"sqft_living\"}, {\"dtype\": \"int\", \"name\": \"sqft_lot\"}, {\"dtype\": \"str\", \"name\": \"floors\"}, {\"dtype\": \"int\", \"name\": \"waterfront\"}, {\"dtype\": \"int\", \"name\": \"view\"}, {\"dtype\": \"int\", \"name\": \"condition\"}, {\"dtype\": \"int\", \"name\": \"grade\"}, {\"dtype\": \"int\", \"name\": \"sqft_above\"}, {\"dtype\": \"int\", \"name\": \"sqft_basement\"}, {\"dtype\": \"int\", \"name\": \"yr_built\"}, {\"dtype\": \"int\", \"name\": \"yr_renovated\"}, {\"dtype\": \"str\", \"name\": \"zipcode\"}, {\"dtype\": \"float\", \"name\": \"lat\"}, {\"dtype\": \"float\", \"name\": \"long\"}, {\"dtype\": \"float\", \"name\": \"sqft_living15\"}, {\"dtype\": \"float\", \"name\": \"sqft_lot15\"}], \"column_identifiers\": [\"bathrooms\", \"sqft_living15\", \"sqft_above\", \"grade\", \"yr_built\", \"price\", \"bedrooms\", \"zipcode\", \"long\", \"id\", \"sqft_lot15\", \"sqft_living\", \"floors\", \"sqft_lot\", \"date\", \"waterfront\", \"sqft_basement\", \"yr_renovated\", \"lat\", \"condition\", \"view\"]}, \"complete\": 1, \"ipython\": true, \"progress\": 1.0, \"data\": [[3.0, 425000.0], [3.0, 400000.0], [4.0, 590000.0], [4.0, 436000.0], [3.0, 1825000.0], [3.0, 385000.0], [3.0, 699000.0], [3.0, 392500.0], [3.0, 423500.0], [5.0, 359950.0], [2.0, 282000.0], [3.0, 425000.0], [3.0, 233000.0], [2.0, 418000.0], [5.0, 530000.0], [4.0, 399000.0], [4.0, 390000.0], [3.0, 540000.0], [4.0, 759900.0], [4.0, 609000.0], [3.0, 400000.0], [4.0, 790000.0], [4.0, 424500.0], [4.0, 635000.0], [3.0, 295000.0], [2.0, 660000.0], [3.0, 552500.0], [4.0, 605004.0], [4.0, 430000.0], [3.0, 534640.0], [4.0, 254500.0], [3.0, 567000.0], [3.0, 275000.0], [4.0, 335000.0], [4.0, 909000.0], [4.0, 585000.0], [3.0, 260000.0], [2.0, 360000.0], [3.0, 975000.0], [5.0, 438000.0], [2.0, 355000.0], [4.0, 707500.0], [4.0, 425000.0], [3.0, 718500.0], [3.0, 230000.0], [4.0, 840500.0], [3.0, 388000.0], [4.0, 723000.0], [4.0, 211000.0], [5.0, 357000.0], [3.0, 244000.0], [3.0, 179500.0], [3.0, 295000.0], [3.0, 435000.0], [5.0, 920000.0], [3.0, 475000.0], [5.0, 600000.0], [2.0, 146000.0], [4.0, 470000.0], [4.0, 1027500.0], [3.0, 1165000.0], [4.0, 1151250.0], [3.0, 808000.0], [2.0, 340000.0], [4.0, 485230.0], [4.0, 497000.0], [4.0, 440000.0], [4.0, 400000.0], [3.0, 125000.0], [3.0, 235000.0], [5.0, 1040000.0], [3.0, 570000.0], [2.0, 630000.0], [3.0, 172000.0], [5.0, 1170000.0], [3.0, 390000.0], [5.0, 342500.0], [2.0, 118125.0], [3.0, 415000.0], [2.0, 487000.0], [2.0, 496000.0], [4.0, 625250.0], [3.0, 190000.0], [4.0, 300000.0], [3.0, 237000.0], [3.0, 263500.0], [3.0, 252000.0], [6.0, 1098000.0], [3.0, 767450.0], [4.0, 270000.0], [4.0, 765000.0], [3.0, 457500.0], [5.0, 574950.0], [5.0, 411500.0], [4.0, 1436000.0], [3.0, 480000.0], [3.0, 150000.0], [4.0, 365000.0], [5.0, 4668000.0], [2.0, 579000.0], [4.0, 772500.0], [4.0, 660000.0], [3.0, 245000.0], [5.0, 731000.0], [2.0, 239000.0], [6.0, 1750000.0], [2.0, 672324.0], [2.0, 150000.0], [2.0, 435000.0], [3.0, 765000.0], [3.0, 453000.0], [4.0, 1275000.0], [3.0, 272500.0], [4.0, 760000.0], [3.0, 425000.0], [3.0, 518000.0], [3.0, 265000.0], [2.0, 205425.0], [3.0, 579000.0], [5.0, 438000.0], [3.0, 625000.0], [3.0, 700000.0], [3.0, 430000.0], [3.0, 539000.0], [4.0, 360000.0], [4.0, 1264000.0], [2.0, 216000.0], [5.0, 1102030.0], [4.0, 1691000.0], [3.0, 265000.0], [2.0, 438000.0], [4.0, 424950.0], [5.0, 875000.0], [3.0, 490000.0], [3.0, 319950.0], [5.0, 250750.0], [3.0, 625000.0], [5.0, 770000.0], [2.0, 1505000.0], [3.0, 215000.0], [5.0, 641000.0], [5.0, 527700.0], [3.0, 260000.0], [3.0, 270000.0], [3.0, 400000.0], [4.0, 1688000.0], [6.0, 1140000.0], [3.0, 367000.0], [2.0, 737000.0], [2.0, 850000.0], [4.0, 820000.0], [2.0, 995000.0], [3.0, 525000.0], [4.0, 2250000.0], [3.0, 875000.0], [3.0, 1100000.0], [4.0, 830000.0], [3.0, 530000.0], [4.0, 498000.0], [4.0, 855000.0], [4.0, 160000.0], [4.0, 631500.0], [3.0, 375000.0], [4.0, 270000.0], [4.0, 464000.0], [3.0, 640000.0], [3.0, 510000.0], [3.0, 470000.0], [3.0, 340000.0], [2.0, 299950.0], [4.0, 463000.0], [4.0, 560000.0], [2.0, 195000.0], [5.0, 734000.0], [3.0, 456000.0], [2.0, 390000.0], [5.0, 515000.0], [3.0, 500000.0], [3.0, 420000.0], [2.0, 330000.0], [3.0, 324950.0], [6.0, 643500.0], [2.0, 575000.0], [3.0, 495000.0], [3.0, 272000.0], [4.0, 245000.0], [3.0, 267000.0], [4.0, 1099500.0], [3.0, 262500.0], [3.0, 335000.0], [2.0, 520000.0], [4.0, 530000.0], [3.0, 585000.0], [3.0, 400000.0], [3.0, 240000.0], [3.0, 623000.0], [3.0, 250000.0], [2.0, 700180.0], [6.0, 1125000.0], [2.0, 299800.0], [2.0, 402500.0], [3.0, 225000.0], [3.0, 720000.0], [4.0, 455000.0], [3.0, 540500.0], [4.0, 810000.0], [2.0, 335000.0], [3.0, 659950.0], [4.0, 1242500.0], [3.0, 375000.0], [3.0, 350000.0], [5.0, 670000.0], [4.0, 310000.0], [4.0, 281000.0], [1.0, 110000.0], [3.0, 217000.0], [3.0, 219500.0], [4.0, 770000.0], [4.0, 293000.0], [3.0, 547500.0], [3.0, 895000.0], [3.0, 465750.0], [2.0, 389000.0], [2.0, 326000.0], [3.0, 820000.0], [4.0, 785000.0], [2.0, 3278000.0], [3.0, 325000.0], [4.0, 605000.0], [3.0, 930000.0], [3.0, 535000.0], [2.0, 295000.0], [3.0, 230000.0], [3.0, 661000.0], [3.0, 249000.0], [2.0, 319000.0], [3.0, 225000.0], [3.0, 340000.0], [3.0, 265000.0], [3.0, 270000.0], [3.0, 330000.0], [4.0, 347500.0], [5.0, 1295000.0], [4.0, 353000.0], [4.0, 518380.0], [4.0, 475000.0], [4.0, 1100000.0], [3.0, 425000.0], [3.0, 643000.0], [3.0, 433000.0], [4.0, 419950.0], [4.0, 455000.0], [3.0, 415000.0], [3.0, 248000.0], [2.0, 243000.0], [2.0, 592500.0], [3.0, 195000.0], [2.0, 257000.0], [3.0, 750000.0], [4.0, 400000.0], [5.0, 627000.0], [4.0, 280000.0], [3.0, 525000.0], [4.0, 575000.0], [5.0, 615000.0], [3.0, 332220.0], [2.0, 219000.0], [2.0, 415000.0], [3.0, 541000.0], [4.0, 1125000.0], [3.0, 415000.0], [4.0, 701000.0], [2.0, 276000.0], [4.0, 628000.0], [3.0, 150000.0], [4.0, 875000.0], [3.0, 330000.0], [4.0, 264950.0], [4.0, 455000.0], [3.0, 775000.0], [3.0, 705000.0], [3.0, 279000.0], [3.0, 495000.0], [3.0, 280000.0], [3.0, 780000.0], [2.0, 305000.0], [4.0, 464625.0], [5.0, 1350000.0], [4.0, 353000.0], [3.0, 336950.0], [3.0, 700000.0], [5.0, 292000.0], [2.0, 228000.0], [3.0, 285000.0], [3.0, 456000.0], [4.0, 247500.0], [3.0, 775000.0], [4.0, 360000.0], [3.0, 404000.0], [3.0, 491500.0], [1.0, 229000.0], [2.0, 325000.0], [4.0, 633000.0], [3.0, 525000.0], [7.0, 2885000.0], [2.0, 253500.0], [5.0, 905000.0], [4.0, 620000.0], [3.0, 269000.0], [1.0, 403500.0], [5.0, 837000.0], [3.0, 420000.0], [1.0, 199950.0], [4.0, 990000.0], [3.0, 575000.0], [2.0, 380950.0], [2.0, 249500.0], [4.0, 380000.0], [3.0, 430000.0], [2.0, 548000.0], [4.0, 1315000.0], [3.0, 342000.0], [3.0, 389000.0], [4.0, 447055.0], [4.0, 480000.0], [6.0, 1500000.0], [3.0, 274950.0], [5.0, 579950.0], [3.0, 307635.0], [4.0, 745000.0], [4.0, 880000.0], [3.0, 499950.0], [4.0, 275000.0], [4.0, 332500.0], [4.0, 788500.0], [6.0, 598800.0], [3.0, 370000.0], [2.0, 399950.0], [4.0, 560000.0], [3.0, 530000.0], [4.0, 743000.0], [4.0, 684000.0], [3.0, 515000.0], [4.0, 309600.0], [4.0, 552250.0], [3.0, 637000.0], [4.0, 239900.0], [3.0, 422000.0], [3.0, 465000.0], [3.0, 232000.0], [4.0, 540000.0], [4.0, 325000.0], [3.0, 399000.0], [3.0, 160000.0], [3.0, 263950.0], [4.0, 870000.0], [3.0, 425000.0], [3.0, 361000.0], [5.0, 339000.0], [4.0, 264950.0], [3.0, 255000.0], [4.0, 564950.0], [3.0, 276750.0], [2.0, 460000.0], [3.0, 375000.0], [3.0, 411100.0], [0.0, 142000.0], [2.0, 575000.0], [5.0, 760000.0], [5.0, 392000.0], [4.0, 216000.0], [5.0, 183750.0], [4.0, 1388000.0], [5.0, 530000.0], [3.0, 526000.0], [3.0, 380000.0], [4.0, 725000.0], [3.0, 280500.0], [3.0, 510000.0], [4.0, 1000000.0], [3.0, 445000.0], [3.0, 310000.0], [3.0, 500000.0], [3.0, 680000.0], [4.0, 459000.0], [3.0, 2250000.0], [5.0, 750000.0], [4.0, 275000.0], [2.0, 304700.0], [2.0, 520000.0], [3.0, 542000.0], [4.0, 862500.0], [3.0, 320000.0], [4.0, 790000.0], [3.0, 249000.0], [4.0, 833000.0], [4.0, 470000.0], [3.0, 450000.0], [4.0, 405000.0], [3.0, 280000.0], [4.0, 765000.0], [1.0, 395000.0], [3.0, 585000.0], [3.0, 250000.0], [4.0, 1650000.0], [4.0, 240000.0], [4.0, 206000.0], [3.0, 553000.0], [3.0, 625000.0], [3.0, 970000.0], [2.0, 430000.0], [5.0, 385000.0], [5.0, 302000.0], [3.0, 625000.0], [2.0, 235750.0], [3.0, 263900.0], [5.0, 523460.0], [3.0, 223000.0], [3.0, 355000.0], [5.0, 1550000.0], [3.0, 350000.0], [5.0, 630000.0], [3.0, 199000.0], [3.0, 465000.0], [3.0, 257500.0], [4.0, 360000.0], [3.0, 247200.0], [2.0, 258000.0], [2.0, 277000.0], [4.0, 760000.0], [5.0, 630000.0], [5.0, 5110800.0], [4.0, 410000.0], [1.0, 570000.0], [4.0, 350000.0], [3.0, 345000.0], [3.0, 365000.0], [3.0, 234000.0], [4.0, 485000.0], [0.0, 320000.0], [3.0, 645000.0], [3.0, 623000.0], [3.0, 425000.0], [3.0, 490000.0], [2.0, 275000.0], [4.0, 430236.0], [4.0, 460000.0], [3.0, 605000.0], [3.0, 435000.0], [4.0, 353500.0], [3.0, 659000.0], [4.0, 650000.0], [3.0, 551000.0], [2.0, 279000.0], [4.0, 426000.0], [2.0, 343000.0], [4.0, 275000.0], [5.0, 834995.0], [2.0, 482000.0], [4.0, 450000.0], [3.0, 658588.0], [3.0, 580050.0], [4.0, 899000.0], [3.0, 510000.0], [5.0, 3567000.0], [3.0, 340000.0], [2.0, 455000.0], [3.0, 719000.0], [4.0, 302200.0], [3.0, 342500.0], [3.0, 395000.0], [3.0, 498000.0], [3.0, 432500.0], [3.0, 580000.0], [3.0, 340000.0], [2.0, 220000.0], [2.0, 245000.0], [3.0, 410500.0], [2.0, 474000.0], [5.0, 739900.0], [5.0, 739000.0], [4.0, 1495000.0], [3.0, 330000.0], [3.0, 301000.0], [5.0, 330000.0], [3.0, 348580.0], [4.0, 250000.0], [3.0, 267300.0], [2.0, 645000.0], [4.0, 750000.0], [3.0, 199950.0], [3.0, 360000.0], [4.0, 272000.0], [3.0, 385000.0], [3.0, 419950.0], [4.0, 1234000.0], [4.0, 392000.0], [3.0, 475000.0], [3.0, 500000.0], [2.0, 310000.0], [5.0, 995000.0], [4.0, 575000.0], [3.0, 560000.0], [3.0, 458000.0], [2.0, 382000.0], [3.0, 230000.0], [4.0, 575000.0], [2.0, 281000.0], [6.0, 480000.0], [3.0, 240000.0], [3.0, 240000.0], [3.0, 937500.0], [3.0, 519000.0], [2.0, 550285.0], [4.0, 417500.0], [4.0, 385000.0], [4.0, 555000.0], [2.0, 290000.0], [5.0, 495200.0], [5.0, 1236300.0], [3.0, 612000.0], [4.0, 330000.0], [3.0, 285000.0], [3.0, 325000.0], [4.0, 359000.0], [1.0, 145000.0], [4.0, 840000.0], [3.0, 419500.0], [4.0, 270000.0], [3.0, 359950.0], [3.0, 378000.0], [3.0, 510000.0], [4.0, 268500.0], [4.0, 658100.0], [3.0, 554000.0], [4.0, 500000.0], [3.0, 357500.0], [2.0, 625000.0], [4.0, 776000.0], [4.0, 556000.0], [3.0, 538000.0], [3.0, 467100.0], [4.0, 376000.0], [3.0, 244615.0], [2.0, 439888.0], [4.0, 1325000.0], [2.0, 422000.0], [2.0, 259950.0], [2.0, 338500.0], [7.0, 420000.0], [6.0, 470000.0], [3.0, 268000.0], [3.0, 658000.0], [2.0, 525000.0], [2.0, 255000.0], [4.0, 870515.0], [5.0, 648000.0], [3.0, 311000.0], [4.0, 450000.0], [4.0, 280927.0], [4.0, 600000.0], [3.0, 262500.0], [3.0, 370000.0], [3.0, 589999.0], [2.0, 380000.0], [4.0, 339900.0], [4.0, 1249000.0], [3.0, 476000.0], [4.0, 700000.0], [3.0, 270000.0], [2.0, 505000.0], [4.0, 285000.0], [5.0, 442000.0], [2.0, 741500.0], [4.0, 1415000.0], [4.0, 760000.0], [3.0, 487000.0], [4.0, 330000.0], [3.0, 493500.0], [2.0, 135000.0], [2.0, 350000.0], [3.0, 645000.0], [5.0, 660500.0], [3.0, 1762000.0], [4.0, 268500.0], [3.0, 326500.0], [3.0, 402000.0], [3.0, 740000.0], [4.0, 500000.0], [3.0, 551100.0], [4.0, 730000.0], [3.0, 835000.0], [5.0, 250000.0], [3.0, 448500.0], [4.0, 294450.0], [3.0, 436000.0], [3.0, 431000.0], [4.0, 269500.0], [4.0, 209950.0], [2.0, 365000.0], [4.0, 409500.0], [4.0, 630000.0], [3.0, 507000.0], [3.0, 300000.0], [3.0, 410000.0], [3.0, 445000.0], [3.0, 547000.0], [4.0, 550000.0], [2.0, 472500.0], [3.0, 3300000.0], [4.0, 920000.0], [5.0, 590000.0], [3.0, 279000.0], [1.0, 280000.0], [3.0, 445000.0], [3.0, 169000.0], [4.0, 365000.0], [3.0, 550000.0], [3.0, 210000.0], [1.0, 305000.0], [3.0, 1070000.0], [3.0, 291750.0], [4.0, 405000.0], [3.0, 225000.0], [4.0, 535000.0], [3.0, 830000.0], [4.0, 456000.0], [3.0, 1042500.0], [3.0, 370000.0], [3.0, 240000.0], [3.0, 348000.0], [5.0, 935000.0], [3.0, 426700.0], [3.0, 515000.0], [3.0, 519500.0], [3.0, 2230000.0], [4.0, 539950.0], [3.0, 245000.0], [4.0, 535000.0], [3.0, 536650.0], [4.0, 459995.0], [5.0, 185000.0], [4.0, 800000.0], [3.0, 312000.0], [3.0, 624000.0], [3.0, 785000.0], [2.0, 339950.0], [2.0, 395825.0], [1.0, 157000.0], [2.0, 547000.0], [3.0, 220000.0], [4.0, 772500.0], [3.0, 460000.0], [4.0, 685000.0], [4.0, 475000.0], [2.0, 238000.0], [3.0, 665000.0], [4.0, 555000.0], [3.0, 350000.0], [3.0, 427000.0], [3.0, 870000.0], [4.0, 2574000.0], [3.0, 469000.0], [2.0, 300000.0], [3.0, 900000.0], [3.0, 405000.0], [2.0, 416000.0], [4.0, 775000.0], [3.0, 210000.0], [3.0, 515000.0], [3.0, 740000.0], [3.0, 315000.0], [3.0, 250000.0], [3.0, 199950.0], [4.0, 405000.0], [3.0, 497000.0], [5.0, 534000.0], [4.0, 352750.0], [3.0, 478500.0], [3.0, 450000.0], [4.0, 450000.0], [4.0, 690000.0], [5.0, 533000.0], [4.0, 468000.0], [2.0, 268500.0], [4.0, 1210000.0], [4.0, 300000.0], [3.0, 640000.0], [2.0, 226950.0], [2.0, 273000.0], [3.0, 371025.0], [3.0, 265000.0], [6.0, 400000.0], [5.0, 259875.0], [4.0, 1215000.0], [4.0, 655000.0], [3.0, 280000.0], [4.0, 268000.0], [4.0, 712000.0], [3.0, 367500.0], [4.0, 325000.0], [3.0, 499922.0], [3.0, 203000.0], [3.0, 440000.0], [3.0, 470000.0], [3.0, 699000.0], [4.0, 599950.0], [3.0, 260000.0], [3.0, 626000.0], [4.0, 704111.0], [3.0, 675000.0], [3.0, 510000.0], [4.0, 655000.0], [4.0, 850000.0], [5.0, 405000.0], [3.0, 399000.0], [2.0, 168000.0], [4.0, 483500.0], [3.0, 214000.0], [4.0, 260000.0], [2.0, 455000.0], [2.0, 565000.0], [4.0, 389900.0], [5.0, 1900000.0], [5.0, 616200.0], [5.0, 1500000.0], [3.0, 207500.0], [2.0, 324800.0], [3.0, 830000.0], [4.0, 520000.0], [3.0, 345000.0], [3.0, 315000.0], [3.0, 183500.0], [2.0, 500000.0], [3.0, 499000.0], [4.0, 388500.0], [3.0, 199500.0], [3.0, 605000.0], [2.0, 296000.0], [3.0, 234000.0], [3.0, 355000.0], [3.0, 692500.0], [4.0, 490000.0], [3.0, 770000.0], [3.0, 429900.0], [3.0, 460000.0], [3.0, 350000.0], [4.0, 705000.0], [3.0, 265953.0], [4.0, 243400.0], [2.0, 425000.0], [3.0, 178500.0], [3.0, 535900.0], [3.0, 420000.0], [2.0, 280000.0], [2.0, 470000.0], [4.0, 355000.0], [4.0, 540000.0], [4.0, 810000.0], [3.0, 710500.0], [4.0, 775000.0], [4.0, 320000.0], [3.0, 625000.0], [2.0, 1065000.0], [3.0, 439950.0], [5.0, 247000.0], [4.0, 788000.0], [3.0, 512500.0], [5.0, 539950.0], [4.0, 277000.0], [4.0, 429900.0], [4.0, 580000.0], [3.0, 360000.0], [3.0, 724500.0], [5.0, 670000.0], [3.0, 274500.0], [3.0, 413000.0], [3.0, 185000.0], [3.0, 750000.0], [3.0, 356000.0], [4.0, 350000.0], [4.0, 162000.0], [3.0, 245000.0], [2.0, 367000.0], [3.0, 374000.0], [3.0, 337000.0], [3.0, 245000.0], [3.0, 450000.0], [3.0, 509990.0], [3.0, 293000.0], [3.0, 225205.0], [4.0, 525000.0], [4.0, 497950.0], [1.0, 490000.0], [2.0, 505000.0], [3.0, 335000.0], [3.0, 400000.0], [2.0, 255000.0], [4.0, 590000.0], [2.0, 439000.0], [5.0, 410000.0], [3.0, 605000.0], [5.0, 307700.0], [5.0, 268000.0], [4.0, 645000.0], [4.0, 570000.0], [3.0, 419000.0], [4.0, 599000.0], [3.0, 500000.0], [4.0, 507000.0], [6.0, 1646000.0], [4.0, 914500.0], [5.0, 937500.0], [4.0, 680000.0], [3.0, 273500.0], [4.0, 1440000.0], [4.0, 579000.0], [3.0, 635000.0], [3.0, 254950.0], [3.0, 431000.0], [3.0, 458000.0], [4.0, 310950.0], [6.0, 5300000.0], [4.0, 370000.0], [4.0, 265000.0], [4.0, 379000.0], [4.0, 669000.0], [3.0, 410000.0], [3.0, 308000.0], [4.0, 359950.0], [3.0, 290000.0], [3.0, 625000.0], [4.0, 299900.0], [4.0, 406000.0], [3.0, 459950.0], [3.0, 250000.0], [2.0, 430000.0], [4.0, 762500.0], [4.0, 502700.0], [3.0, 525000.0], [3.0, 300000.0], [3.0, 620000.0], [2.0, 280000.0], [4.0, 262000.0], [3.0, 329950.0], [4.0, 345000.0], [3.0, 397500.0], [3.0, 203000.0], [5.0, 230000.0], [3.0, 183750.0], [4.0, 1735000.0], [3.0, 732000.0], [4.0, 569950.0], [2.0, 450000.0], [3.0, 295500.0], [5.0, 568450.0], [6.0, 779000.0], [4.0, 385000.0], [5.0, 1600000.0], [3.0, 395000.0], [3.0, 235000.0], [3.0, 260000.0], [3.0, 580000.0], [3.0, 235000.0], [4.0, 750000.0], [3.0, 420000.0], [3.0, 467000.0], [4.0, 295700.0], [3.0, 539000.0], [5.0, 1850000.0], [4.0, 253779.0], [4.0, 692000.0], [2.0, 550000.0], [3.0, 365000.0], [5.0, 515000.0], [3.0, 257000.0], [3.0, 355000.0], [5.0, 1380000.0], [3.0, 86500.0], [3.0, 560000.0], [4.0, 575000.0], [4.0, 539500.0], [2.0, 265000.0], [5.0, 330000.0], [2.0, 290000.0], [4.0, 425000.0], [3.0, 510000.0], [4.0, 379400.0], [3.0, 310000.0], [3.0, 1565000.0], [3.0, 685900.0], [1.0, 75000.0], [4.0, 436000.0], [4.0, 675000.0], [4.0, 347500.0], [3.0, 850000.0], [2.0, 350000.0], [3.0, 302000.0], [3.0, 515000.0], [3.0, 229900.0], [2.0, 219000.0], [4.0, 800000.0], [2.0, 235000.0], [3.0, 765000.0], [4.0, 394000.0], [3.0, 209950.0], [3.0, 875000.0], [2.0, 345000.0], [3.0, 343000.0], [3.0, 435000.0], [4.0, 315000.0], [3.0, 350000.0], [3.0, 472800.0], [4.0, 745000.0], [2.0, 850000.0], [3.0, 615000.0], [3.0, 450000.0], [2.0, 319000.0], [3.0, 490000.0], [4.0, 645000.0], [4.0, 400000.0], [3.0, 275000.0], [4.0, 499950.0], [3.0, 595000.0], [3.0, 340000.0], [2.0, 255000.0], [2.0, 380000.0], [5.0, 310000.0], [4.0, 419000.0], [3.0, 555000.0], [2.0, 290000.0], [2.0, 215000.0], [3.0, 179000.0], [4.0, 269950.0], [3.0, 250000.0], [4.0, 359999.0], [7.0, 310000.0], [2.0, 95000.0], [3.0, 650000.0], [4.0, 970000.0], [3.0, 327500.0], [3.0, 391000.0], [5.0, 695000.0], [3.0, 568000.0], [5.0, 1540000.0], [2.0, 361000.0], [4.0, 841000.0], [2.0, 720000.0], [3.0, 858450.0], [4.0, 425000.0], [4.0, 840000.0], [2.0, 229000.0], [3.0, 247200.0], [3.0, 163000.0], [3.0, 248000.0], [4.0, 450000.0], [5.0, 510000.0], [3.0, 323000.0], [2.0, 426000.0], [3.0, 382000.0], [3.0, 575000.0], [4.0, 415000.0], [3.0, 875000.0], [3.0, 700000.0], [4.0, 615000.0], [5.0, 380000.0], [3.0, 660000.0], [3.0, 178000.0], [3.0, 147500.0], [3.0, 394000.0], [5.0, 275000.0], [4.0, 340000.0], [3.0, 399995.0], [4.0, 464950.0], [6.0, 838300.0], [3.0, 272500.0], [4.0, 310000.0], [7.0, 1240000.0], [4.0, 516000.0], [2.0, 492000.0], [2.0, 329000.0], [2.0, 360000.0], [3.0, 275000.0], [3.0, 535000.0], [3.0, 240000.0], [1.0, 565000.0], [4.0, 344500.0], [3.0, 326995.0], [2.0, 260000.0], [3.0, 484950.0], [4.0, 154200.0], [4.0, 229900.0], [5.0, 359800.0], [4.0, 1765000.0], [3.0, 363000.0], [4.0, 500000.0], [4.0, 587500.0], [3.0, 432500.0], [3.0, 390000.0], [5.0, 975000.0]], \"columns\": [{\"dtype\": \"str\", \"name\": \"id\"}, {\"dtype\": \"datetime\", \"name\": \"date\"}, {\"dtype\": \"float\", \"name\": \"price\"}, {\"dtype\": \"float\", \"name\": \"bedrooms\"}, {\"dtype\": \"float\", \"name\": \"bathrooms\"}, {\"dtype\": \"float\", \"name\": \"sqft_living\"}, {\"dtype\": \"int\", \"name\": \"sqft_lot\"}, {\"dtype\": \"str\", \"name\": \"floors\"}, {\"dtype\": \"int\", \"name\": \"waterfront\"}, {\"dtype\": \"int\", \"name\": \"view\"}, {\"dtype\": \"int\", \"name\": \"condition\"}, {\"dtype\": \"int\", \"name\": \"grade\"}, {\"dtype\": \"int\", \"name\": \"sqft_above\"}, {\"dtype\": \"int\", \"name\": \"sqft_basement\"}, {\"dtype\": \"int\", \"name\": \"yr_built\"}, {\"dtype\": \"int\", \"name\": \"yr_renovated\"}, {\"dtype\": \"str\", \"name\": \"zipcode\"}, {\"dtype\": \"float\", \"name\": \"lat\"}, {\"dtype\": \"float\", \"name\": \"long\"}, {\"dtype\": \"float\", \"name\": \"sqft_living15\"}, {\"dtype\": \"float\", \"name\": \"sqft_lot15\"}]}, e);\n",
       "                });\n",
       "            })();\n",
       "        "
      ]
     },
     "metadata": {},
     "output_type": "display_data"
    }
   ],
   "source": [
    "import matplotlib.pyplot as plt\n",
    "%matplotlib inline\n",
    "\n",
    "graphlab.canvas.set_target('ipynb')\n",
    "sales.show(view=\"Scatter Plot\", x=\"bedrooms\", y=\"price\")"
   ]
  },
  {
   "cell_type": "code",
   "execution_count": 58,
   "metadata": {
    "collapsed": false
   },
   "outputs": [
    {
     "name": "stdout",
     "output_type": "stream",
     "text": [
      "The RSS of predicting Prices based on Bedrooms is : 4.93364582868e+14\n"
     ]
    }
   ],
   "source": [
    "# Compute RSS when using bedrooms on TEST data:\n",
    "\n",
    "rss_prices_on_bedrooms = get_residual_sum_of_squares(test_data['bedrooms'], test_data['price'], bedroom_intercept, bedroom_slope)\n",
    "\n",
    "print 'The RSS of predicting Prices based on Bedrooms is : ' + str(rss_prices_on_bedrooms)"
   ]
  },
  {
   "cell_type": "code",
   "execution_count": 57,
   "metadata": {
    "collapsed": false
   },
   "outputs": [
    {
     "name": "stdout",
     "output_type": "stream",
     "text": [
      "The RSS of predicting Prices based on Square Feet is : 2.75402936247e+14\n"
     ]
    }
   ],
   "source": [
    "# Compute RSS when using squarefeet on TEST data:\n",
    "\n",
    "rss_prices_on_sqft_test = get_residual_sum_of_squares(test_data['sqft_living'], test_data['price'], sqft_intercept, sqft_slope)\n",
    "\n",
    "print 'The RSS of predicting Prices based on Square Feet is : ' + str(rss_prices_on_sqft_test)"
   ]
  },
  {
   "cell_type": "code",
   "execution_count": null,
   "metadata": {
    "collapsed": true
   },
   "outputs": [],
   "source": []
  }
 ],
 "metadata": {
  "kernelspec": {
   "display_name": "Python 2",
   "language": "python",
   "name": "python2"
  },
  "language_info": {
   "codemirror_mode": {
    "name": "ipython",
    "version": 2
   },
   "file_extension": ".py",
   "mimetype": "text/x-python",
   "name": "python",
   "nbconvert_exporter": "python",
   "pygments_lexer": "ipython2",
   "version": "2.7.12"
  }
 },
 "nbformat": 4,
 "nbformat_minor": 1
}
