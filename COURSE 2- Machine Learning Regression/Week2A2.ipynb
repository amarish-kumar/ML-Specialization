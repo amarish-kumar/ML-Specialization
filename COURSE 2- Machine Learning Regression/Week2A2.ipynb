{
 "cells": [
  {
   "cell_type": "code",
   "execution_count": 95,
   "metadata": {
    "collapsed": false
   },
   "outputs": [],
   "source": [
    "import graphlab\n",
    "import numpy as np\n",
    "import pandas as pd\n",
    "from math import sqrt\n",
    "\n",
    "graphlab.set_runtime_config('GRAPHLAB_DEFAULT_NUM_PYLAMBDA_WORKERS', 8)\n",
    "\n",
    "sales = graphlab.SFrame('kc_house_data.gl/')\n",
    "\n",
    "#converts the SFrame into a Pandas dataframe\n",
    "sales_panda = sales.to_dataframe()\n",
    "#convert the dataframe into a numpy matrix\n",
    "sales_numpyarray = sales_panda.as_matrix()"
   ]
  },
  {
   "cell_type": "markdown",
   "metadata": {},
   "source": [
    "a function that will accept an SFrame, a list of feature names (e.g. ['sqft_living', 'bedrooms']) and an target feature e.g. ('price') and will return two things:\n",
    "* A numpy matrix whose columns are the desired features plus a constant column (this is how we create an 'intercept')\n",
    "* A numpy array containing the values of the output"
   ]
  },
  {
   "cell_type": "code",
   "execution_count": 136,
   "metadata": {
    "collapsed": true
   },
   "outputs": [],
   "source": [
    "def get_numpy_data(data_sframe, features, output):\n",
    "    data_sframe['constant'] = 1 # add a constant column to an SFrame\n",
    "    # prepend variable 'constant' to the features list\n",
    "    features = ['constant'] + features\n",
    "    # select the columns of data_SFrame given by the ‘features’ list into the SFrame ‘features_sframe’\n",
    "    features_sframe = data_sframe[features]\n",
    "    # this will convert the features_sframe into a numpy matrix\n",
    "    features_matrix = features_sframe.to_numpy()\n",
    "    # assign the column of data_sframe associated with the target to the variable ‘output_sarray’\n",
    "    output_sarray = data_sframe[output]\n",
    "    # this will convert the SArray into a numpy array:\n",
    "    output_array = output_sarray.to_numpy()\n",
    "    return(features_matrix, output_array)"
   ]
  },
  {
   "cell_type": "code",
   "execution_count": 137,
   "metadata": {
    "collapsed": false
   },
   "outputs": [
    {
     "name": "stdout",
     "output_type": "stream",
     "text": [
      "[  1.00000000e+00   1.18000000e+03]\n",
      "221900.0\n"
     ]
    }
   ],
   "source": [
    "#test get_numpy_data\n",
    "(example_features, example_output) = get_numpy_data(sales, ['sqft_living'], 'price') #the [] around 'sqft_living' makes it a list\n",
    "print example_features[0,:] # this accesses the first row of the data the ':' indicates 'all columns'\n",
    "print example_output[0] # and the corresponding output"
   ]
  },
  {
   "cell_type": "code",
   "execution_count": 140,
   "metadata": {
    "collapsed": true
   },
   "outputs": [],
   "source": [
    "#function ‘predict_output’ which accepts a 2D array ‘feature_matrix’ and a 1D array ‘weights’ & returns a 1D array ‘predictions’\n",
    "def predict_outcome(feature_matrix, weights):\n",
    "    # assume feature_matrix is a numpy matrix containing the features as columns and weights is a corresponding numpy array\n",
    "    # create the predictions vector by using np.dot()\n",
    "    predictions = np.dot(feature_matrix, weights)\n",
    "    return(predictions)"
   ]
  },
  {
   "cell_type": "code",
   "execution_count": 141,
   "metadata": {
    "collapsed": false
   },
   "outputs": [
    {
     "name": "stdout",
     "output_type": "stream",
     "text": [
      "1181.0\n",
      "2571.0\n"
     ]
    }
   ],
   "source": [
    "#test predict_outcome\n",
    "my_weights = np.array([1., 1.]) # the example weights\n",
    "test_predictions = predict_outcome(example_features, my_weights)\n",
    "print test_predictions[0] # should be 1181.0\n",
    "print test_predictions[1] # should be 2571.0"
   ]
  },
  {
   "cell_type": "code",
   "execution_count": 117,
   "metadata": {
    "collapsed": true
   },
   "outputs": [],
   "source": [
    "#cost function is the sum over the data points of the squared difference between an observed output and a predicted output.\n",
    "#errors= (predictions - output)\n",
    "\n",
    "#a function that accepts a ‘feature’ array and ‘error’ array and returns the ‘derivative’ \n",
    "def feature_derivative(errors, feature):\n",
    "    derivative = 2*np.dot(errors, feature)\n",
    "    return(derivative)"
   ]
  },
  {
   "cell_type": "code",
   "execution_count": 23,
   "metadata": {
    "collapsed": false
   },
   "outputs": [
    {
     "name": "stdout",
     "output_type": "stream",
     "text": [
      "-23345850022.0\n",
      "-23345850022.0\n"
     ]
    }
   ],
   "source": [
    "#test feature_derivative\n",
    "\n",
    "(example_features, example_output) = get_numpy_data(sales, ['sqft_living'], 'price') \n",
    "my_weights = np.array([0., 0.]) # this makes all the predictions 0\n",
    "test_predictions = predict_outcome(example_features, my_weights) \n",
    "# just like SFrames 2 numpy arrays can be elementwise subtracted with '-': \n",
    "errors = test_predictions - example_output # prediction errors in this case is just the -example_output\n",
    "feature = example_features[:,0] # let's compute the derivative with respect to 'constant', the \":\" indicates \"all rows\"\n",
    "derivative = feature_derivative(errors, feature)\n",
    "print derivative\n",
    "print -np.sum(example_output)*2 # should be the same as derivative"
   ]
  },
  {
   "cell_type": "markdown",
   "metadata": {},
   "source": [
    "#### Write a gradient descent function that does the following:\n",
    "\n",
    "* Accepts a numpy feature_matrix 2D array, a 1D output array, an array of initial weights, a step size and a convergence tolerance.\n",
    "* While not converged updates each feature weight by subtracting the step size times the derivative for that feature given the current weights\n",
    "* At each step computes the magnitude/length of the gradient (square root of the sum of squared components)\n",
    "* When the magnitude of the gradient is smaller than the input tolerance returns the final weight vector."
   ]
  },
  {
   "cell_type": "code",
   "execution_count": 118,
   "metadata": {
    "collapsed": true
   },
   "outputs": [],
   "source": [
    "def regression_gradient_descent(feature_matrix, output, initial_weights, step_size, tolerance):\n",
    "    converged = False\n",
    "    weights = np.array(initial_weights)\n",
    "    while not converged:\n",
    "        # compute the predictions based on feature_matrix and weights:\n",
    "        predictions = predict_outcome(feature_matrix,weights)      \n",
    "        # compute the errors as predictions - output:\n",
    "        errors = predictions - output     \n",
    "        gradient_sum_squares = 0 # initialize the gradient\n",
    "        \n",
    "        # while not converged, update each weight individually:\n",
    "        for i in range(len(weights)):\n",
    "            # Recall that feature_matrix[:, i] is the feature column associated with weights[i]\n",
    "            # compute the derivative for weight[i]:\n",
    "            derivatives = feature_derivative(feature_matrix[:, i], errors)          \n",
    "            # add the squared derivative to the gradient magnitude\n",
    "            gradient_sum_squares += derivatives**2        \n",
    "            # update the weight based on step size and derivative:\n",
    "            weights[i] -= step_size*derivatives         \n",
    "        # compute the square-root of the gradient sum of squares to get the gradient magnitude:\n",
    "        gradient_magnitude = sqrt(gradient_sum_squares)\n",
    "        if gradient_magnitude < tolerance:\n",
    "            converged = True\n",
    "    return(weights)"
   ]
  },
  {
   "cell_type": "code",
   "execution_count": 119,
   "metadata": {
    "collapsed": true
   },
   "outputs": [],
   "source": [
    "train_data,test_data = sales.random_split(.8,seed=0)"
   ]
  },
  {
   "cell_type": "code",
   "execution_count": 120,
   "metadata": {
    "collapsed": false
   },
   "outputs": [],
   "source": [
    "#Use these parameters to estimate the slope and intercept for predicting prices based only on ‘sqft_living’.\n",
    "simple_features = ['sqft_living']\n",
    "my_output= 'price'\n",
    "(simple_feature_matrix, output) = get_numpy_data(train_data, simple_features, my_output)\n",
    "initial_weights = np.array([-47000., 1.])\n",
    "step_size = 7e-12\n",
    "tolerance = 2.5e7\n",
    "\n",
    "simple_weights = regression_gradient_descent(simple_feature_matrix,\n",
    "                                             output,\n",
    "                                             initial_weights,\n",
    "                                             step_size,\n",
    "                                             tolerance)"
   ]
  },
  {
   "cell_type": "code",
   "execution_count": 167,
   "metadata": {
    "collapsed": false
   },
   "outputs": [
    {
     "name": "stdout",
     "output_type": "stream",
     "text": [
      "281.9\n"
     ]
    }
   ],
   "source": [
    "# What is the value of the weight for sqft_living -- the second element of ‘simple_weights’ (rounded to 1 decimal place)?\n",
    "\n",
    "print round(simple_weights[1], 1)"
   ]
  },
  {
   "cell_type": "code",
   "execution_count": 160,
   "metadata": {
    "collapsed": false
   },
   "outputs": [],
   "source": [
    "#Now build a corresponding ‘test_simple_feature_matrix’ and ‘test_output’ using test_data. \n",
    "#Using ‘test_simple_feature_matrix’ and ‘simple_weights’ compute the predicted house prices on all the test data\n",
    "\n",
    "(test_simple_feature_matrix, test_output) = get_numpy_data(test_data, simple_features, my_output)\n",
    "predict_simple_features = predict_outcome(test_simple_feature_matrix, simple_weights)"
   ]
  },
  {
   "cell_type": "code",
   "execution_count": 171,
   "metadata": {
    "collapsed": false
   },
   "outputs": [
    {
     "name": "stdout",
     "output_type": "stream",
     "text": [
      "356134.0\n"
     ]
    }
   ],
   "source": [
    "#What is the predicted price for the 1st house in the Test data set for model 1 (round to nearest dollar)?\n",
    "\n",
    "print round(predict_simple_features[0],0)"
   ]
  },
  {
   "cell_type": "code",
   "execution_count": 151,
   "metadata": {
    "collapsed": false
   },
   "outputs": [
    {
     "name": "stdout",
     "output_type": "stream",
     "text": [
      "2.75400047593e+14\n"
     ]
    }
   ],
   "source": [
    "#compute RSS on all test data for this model\n",
    "residual = test_output-predict_simple_features\n",
    "RSS = (residual*residual).sum()\n",
    "print RSS"
   ]
  },
  {
   "cell_type": "code",
   "execution_count": 153,
   "metadata": {
    "collapsed": true
   },
   "outputs": [],
   "source": [
    "#Note that sqft_living_15 is the average square feet of the nearest 15 neighbouring houses.\n",
    "#Run gradient descent on a model with ‘sqft_living’ and ‘sqft_living_15’ as well as an intercept with the above parameters. \n",
    "\n",
    "model_features = ['sqft_living', 'sqft_living15']\n",
    "my_output = 'price'\n",
    "(feature_matrix, output) = get_numpy_data(train_data, model_features,my_output)\n",
    "initial_weights = np.array([-100000., 1., 1.])\n",
    "step_size = 4e-12\n",
    "tolerance = 1e9\n",
    "\n",
    "multiple_regression_weights = regression_gradient_descent(feature_matrix,\n",
    "                                                  output,\n",
    "                                                  initial_weights,\n",
    "                                                  step_size,\n",
    "                                                  tolerance)"
   ]
  },
  {
   "cell_type": "code",
   "execution_count": 155,
   "metadata": {
    "collapsed": true
   },
   "outputs": [],
   "source": [
    "#Use the regression weights from this second model (using sqft_living and sqft_living_15) and\n",
    "#predict the outcome of all the house prices on the TEST data.\n",
    "\n",
    "(test_multiple_feature_matrix, test_output) = get_numpy_data(test_data, model_features, my_output)\n",
    "predict_multiple_features = predict_outcome(test_multiple_feature_matrix, multiple_regression_weights)"
   ]
  },
  {
   "cell_type": "code",
   "execution_count": 173,
   "metadata": {
    "collapsed": false
   },
   "outputs": [
    {
     "name": "stdout",
     "output_type": "stream",
     "text": [
      "predicted price model 1: 356134.0\n",
      "predicted price model 2: 366651.0\n",
      "actual price: 221900.0\n"
     ]
    }
   ],
   "source": [
    "#What is the predicted price for the 1st house in the TEST data set for model 2 (round to nearest dollar)?\n",
    "#What is the actual price for the 1st house in the Test data set?\n",
    "#Which estimate was closer to the true price for the 1st house on the TEST data set, model 1 or model 2?\n",
    "\n",
    "print \"predicted price model 1:\",round(predict_simple_features[0],0)\n",
    "print \"predicted price model 2:\", round(predict_multiple_features[0],)\n",
    "print \"actual price:\", sales['price'][0]"
   ]
  },
  {
   "cell_type": "code",
   "execution_count": 174,
   "metadata": {
    "collapsed": false
   },
   "outputs": [
    {
     "name": "stdout",
     "output_type": "stream",
     "text": [
      "RSS for model 1 2.75400047593e+14\n",
      "RSS for model 2 2.70263446465e+14\n"
     ]
    }
   ],
   "source": [
    "#compute RSS on all test data for the second model.\n",
    "#Which model (1 or 2) has lowest RSS on all of the TEST data?\n",
    "\n",
    "residual2 = test_output-predict_multiple_features\n",
    "RSS2 = (residual2*residual2).sum()\n",
    "print \"RSS for model 1\", RSS\n",
    "print \"RSS for model 2\", RSS2"
   ]
  },
  {
   "cell_type": "code",
   "execution_count": null,
   "metadata": {
    "collapsed": true
   },
   "outputs": [],
   "source": []
  }
 ],
 "metadata": {
  "kernelspec": {
   "display_name": "Python 2",
   "language": "python",
   "name": "python2"
  },
  "language_info": {
   "codemirror_mode": {
    "name": "ipython",
    "version": 2
   },
   "file_extension": ".py",
   "mimetype": "text/x-python",
   "name": "python",
   "nbconvert_exporter": "python",
   "pygments_lexer": "ipython2",
   "version": "2.7.12"
  }
 },
 "nbformat": 4,
 "nbformat_minor": 1
}
