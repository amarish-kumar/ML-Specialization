{
 "cells": [
  {
   "cell_type": "code",
   "execution_count": 24,
   "metadata": {
    "collapsed": false
   },
   "outputs": [],
   "source": [
    "import graphlab\n",
    "from math import log, sqrt\n",
    "import numpy as np"
   ]
  },
  {
   "cell_type": "code",
   "execution_count": 3,
   "metadata": {
    "collapsed": false
   },
   "outputs": [
    {
     "name": "stderr",
     "output_type": "stream",
     "text": [
      "/opt/conda/lib/python2.7/site-packages/requests/packages/urllib3/connection.py:266: SubjectAltNameWarning: Certificate for beta.graphlab.com has no `subjectAltName`, falling back to check for a `commonName` for now. This feature is being removed by major browsers and deprecated by RFC 2818. (See https://github.com/shazow/urllib3/issues/497 for details.)\n",
      "  SubjectAltNameWarning\n",
      "[INFO] graphlab.cython.cy_server: GraphLab Create v2.1 started. Logging: /tmp/graphlab_server_1500021909.log\n"
     ]
    },
    {
     "name": "stdout",
     "output_type": "stream",
     "text": [
      "This non-commercial license of GraphLab Create for academic use is assigned to mukesh.mithrakumar@jacks.sdstate.edu and will expire on June 17, 2018.\n"
     ]
    }
   ],
   "source": [
    "sales = graphlab.SFrame('kc_house_data.gl/')"
   ]
  },
  {
   "cell_type": "code",
   "execution_count": 6,
   "metadata": {
    "collapsed": false
   },
   "outputs": [],
   "source": [
    "sales['sqft_living_sqrt'] = sales['sqft_living'].apply(sqrt)\n",
    "sales['sqft_lot_sqrt'] = sales['sqft_lot'].apply(sqrt)\n",
    "sales['bedrooms_square'] = sales['bedrooms']*sales['bedrooms']\n",
    "\n",
    "# In the dataset, 'floors' was defined with type string, \n",
    "# so we'll convert them to float, before creating a new feature.\n",
    "sales['floors'] = sales['floors'].astype(float) \n",
    "sales['floors_square'] = sales['floors']*sales['floors']"
   ]
  },
  {
   "cell_type": "code",
   "execution_count": 8,
   "metadata": {
    "collapsed": false
   },
   "outputs": [],
   "source": [
    "all_features = ['bedrooms', 'bedrooms_square',\n",
    "            'bathrooms',\n",
    "            'sqft_living', 'sqft_living_sqrt',\n",
    "            'sqft_lot', 'sqft_lot_sqrt',\n",
    "            'floors', 'floors_square',\n",
    "            'waterfront', 'view', 'condition', 'grade',\n",
    "            'sqft_above',\n",
    "            'sqft_basement',\n",
    "            'yr_built', 'yr_renovated']"
   ]
  },
  {
   "cell_type": "code",
   "execution_count": 21,
   "metadata": {
    "collapsed": false
   },
   "outputs": [],
   "source": [
    "model_all = graphlab.linear_regression.create(sales, target='price', features=all_features,\n",
    "                                              validation_set=None, \n",
    "                                              l2_penalty=0., l1_penalty=1e10,\n",
    "                                             verbose = False)"
   ]
  },
  {
   "cell_type": "code",
   "execution_count": 19,
   "metadata": {
    "collapsed": false
   },
   "outputs": [
    {
     "name": "stdout",
     "output_type": "stream",
     "text": [
      "+------------------+-------+---------------+--------+\n",
      "|       name       | index |     value     | stderr |\n",
      "+------------------+-------+---------------+--------+\n",
      "|   (intercept)    |  None |  274873.05595 |  None  |\n",
      "|     bedrooms     |  None |      0.0      |  None  |\n",
      "| bedrooms_square  |  None |      0.0      |  None  |\n",
      "|    bathrooms     |  None | 8468.53108691 |  None  |\n",
      "|   sqft_living    |  None | 24.4207209824 |  None  |\n",
      "| sqft_living_sqrt |  None | 350.060553386 |  None  |\n",
      "|     sqft_lot     |  None |      0.0      |  None  |\n",
      "|  sqft_lot_sqrt   |  None |      0.0      |  None  |\n",
      "|      floors      |  None |      0.0      |  None  |\n",
      "|  floors_square   |  None |      0.0      |  None  |\n",
      "|    waterfront    |  None |      0.0      |  None  |\n",
      "|       view       |  None |      0.0      |  None  |\n",
      "|    condition     |  None |      0.0      |  None  |\n",
      "|      grade       |  None | 842.068034898 |  None  |\n",
      "|    sqft_above    |  None | 20.0247224171 |  None  |\n",
      "|  sqft_basement   |  None |      0.0      |  None  |\n",
      "|     yr_built     |  None |      0.0      |  None  |\n",
      "|   yr_renovated   |  None |      0.0      |  None  |\n",
      "+------------------+-------+---------------+--------+\n",
      "[18 rows x 4 columns]\n",
      "\n"
     ]
    }
   ],
   "source": [
    "names= model_all.get('coefficients')\n",
    "names.print_rows(18,4)"
   ]
  },
  {
   "cell_type": "code",
   "execution_count": 60,
   "metadata": {
    "collapsed": false
   },
   "outputs": [
    {
     "name": "stdout",
     "output_type": "stream",
     "text": [
      "+-----------------+-------+-------+--------+\n",
      "|       name      | index | value | stderr |\n",
      "+-----------------+-------+-------+--------+\n",
      "|     bedrooms    |  None |  0.0  |  None  |\n",
      "| bedrooms_square |  None |  0.0  |  None  |\n",
      "|     sqft_lot    |  None |  0.0  |  None  |\n",
      "|  sqft_lot_sqrt  |  None |  0.0  |  None  |\n",
      "|      floors     |  None |  0.0  |  None  |\n",
      "|  floors_square  |  None |  0.0  |  None  |\n",
      "|    waterfront   |  None |  0.0  |  None  |\n",
      "|       view      |  None |  0.0  |  None  |\n",
      "|    condition    |  None |  0.0  |  None  |\n",
      "|  sqft_basement  |  None |  0.0  |  None  |\n",
      "|     yr_built    |  None |  0.0  |  None  |\n",
      "|   yr_renovated  |  None |  0.0  |  None  |\n",
      "+-----------------+-------+-------+--------+\n",
      "[12 rows x 4 columns]\n",
      "\n"
     ]
    }
   ],
   "source": [
    "#zero weights\n",
    "non_zero_weight = model_all[\"coefficients\"][model_all[\"coefficients\"][\"value\"] == 0]\n",
    "non_zero_weight.print_rows(num_rows=20)"
   ]
  },
  {
   "cell_type": "code",
   "execution_count": 64,
   "metadata": {
    "collapsed": false
   },
   "outputs": [
    {
     "name": "stdout",
     "output_type": "stream",
     "text": [
      "+------------------+-------+---------------+--------+\n",
      "|       name       | index |     value     | stderr |\n",
      "+------------------+-------+---------------+--------+\n",
      "|   (intercept)    |  None |  274873.05595 |  None  |\n",
      "|    bathrooms     |  None | 8468.53108691 |  None  |\n",
      "|   sqft_living    |  None | 24.4207209824 |  None  |\n",
      "| sqft_living_sqrt |  None | 350.060553386 |  None  |\n",
      "|      grade       |  None | 842.068034898 |  None  |\n",
      "|    sqft_above    |  None | 20.0247224171 |  None  |\n",
      "+------------------+-------+---------------+--------+\n",
      "[6 rows x 4 columns]\n",
      "\n"
     ]
    }
   ],
   "source": [
    "# non zero weights\n",
    "zero_weight = model_all[\"coefficients\"][model_all[\"coefficients\"][\"value\"] > 0]\n",
    "zero_weight.print_rows(num_rows=20)"
   ]
  },
  {
   "cell_type": "code",
   "execution_count": 20,
   "metadata": {
    "collapsed": true
   },
   "outputs": [],
   "source": [
    "(training_and_validation, testing) = sales.random_split(.9,seed=1) # initial train/test split\n",
    "(training, validation) = training_and_validation.random_split(0.5, seed=1) # split training into train and validate"
   ]
  },
  {
   "cell_type": "code",
   "execution_count": 182,
   "metadata": {
    "collapsed": false
   },
   "outputs": [
    {
     "name": "stdout",
     "output_type": "stream",
     "text": [
      "RSS index:  0\n",
      "minimum RSS:  6.25766285142e+14\n",
      "best penalty:  10.0\n"
     ]
    }
   ],
   "source": [
    "penalties = np.logspace(1, 7, num=13)\n",
    "RSS_list = []\n",
    "for l1_penalty in penalties:\n",
    "    #print l1_penalty\n",
    "    model_penalty = graphlab.linear_regression.create(training,\n",
    "                                                     target = 'price',\n",
    "                                                     features =all_features,\n",
    "                                                     validation_set = None,\n",
    "                                                     l1_penalty = l1_penalty,\n",
    "                                                     l2_penalty=0.,\n",
    "                                                     verbose = False)\n",
    "    error =  model_penalty.predict(validation) - validation['price']\n",
    "    RSS = sum(error*error)\n",
    "    RSS_list.append(RSS)\n",
    "print \"RSS index: \", RSS_list.index(min(RSS_list))\n",
    "print \"minimum RSS: \", min(RSS_list)\n",
    "print \"best penalty: \", penalties[RSS_list.index(min(RSS_list))]"
   ]
  },
  {
   "cell_type": "code",
   "execution_count": 57,
   "metadata": {
    "collapsed": false
   },
   "outputs": [],
   "source": [
    "model1 = graphlab.linear_regression.create(sales, target='price', features=all_features,\n",
    "                                              validation_set=None, \n",
    "                                              l2_penalty=0., l1_penalty=10,\n",
    "                                             verbose = False)"
   ]
  },
  {
   "cell_type": "code",
   "execution_count": 59,
   "metadata": {
    "collapsed": false
   },
   "outputs": [
    {
     "name": "stdout",
     "output_type": "stream",
     "text": [
      "+------------------+-------+------------------+--------+\n",
      "|       name       | index |      value       | stderr |\n",
      "+------------------+-------+------------------+--------+\n",
      "|   (intercept)    |  None |  20459.2475219   |  None  |\n",
      "|     bedrooms     |  None |  8155.38098737   |  None  |\n",
      "| bedrooms_square  |  None |  1479.73787423   |  None  |\n",
      "|    bathrooms     |  None |  24576.2383172   |  None  |\n",
      "|   sqft_living    |  None |  37.4911504798   |  None  |\n",
      "| sqft_living_sqrt |  None |  1109.39597073   |  None  |\n",
      "|     sqft_lot     |  None | -0.0168499198461 |  None  |\n",
      "|  sqft_lot_sqrt   |  None |  149.569423985   |  None  |\n",
      "|      floors      |  None |  20983.5137368   |  None  |\n",
      "|  floors_square   |  None |  12278.1023451   |  None  |\n",
      "|    waterfront    |  None |  581971.306649   |  None  |\n",
      "|       view       |  None |  92988.9899686   |  None  |\n",
      "|    condition     |  None |  6924.28719657   |  None  |\n",
      "|      grade       |  None |  6205.64105779   |  None  |\n",
      "|    sqft_above    |  None |  41.3497390696   |  None  |\n",
      "|  sqft_basement   |  None |   118.23242135   |  None  |\n",
      "|     yr_built     |  None |  10.1881669529   |  None  |\n",
      "|   yr_renovated   |  None |  58.7115840166   |  None  |\n",
      "+------------------+-------+------------------+--------+\n",
      "[18 rows x 4 columns]\n",
      "\n"
     ]
    }
   ],
   "source": [
    "names2= model1.get('coefficients')\n",
    "names2.print_rows(18,4)"
   ]
  },
  {
   "cell_type": "code",
   "execution_count": 156,
   "metadata": {
    "collapsed": false
   },
   "outputs": [],
   "source": [
    "max_nonzeros = 7\n",
    "l1_penalty_values = np.logspace(8, 10, num=20)\n",
    "\n",
    "nonzero_dict = {}\n",
    "\n",
    "for i in l1_penalty_values:\n",
    "    model_narrow = graphlab.linear_regression.create(training,\n",
    "                                                     target = 'price',\n",
    "                                                     features =all_features,\n",
    "                                                     validation_set = None,\n",
    "                                                     l1_penalty = i,\n",
    "                                                     l2_penalty=0.,\n",
    "                                                     verbose = False)\n",
    "    nonzero_dict[i] = model_narrow['coefficients']['value'].nnz()"
   ]
  },
  {
   "cell_type": "code",
   "execution_count": 157,
   "metadata": {
    "collapsed": false
   },
   "outputs": [
    {
     "name": "stdout",
     "output_type": "stream",
     "text": [
      "{100000000.0: 18,\n",
      " 127427498.57031322: 18,\n",
      " 162377673.91887242: 18,\n",
      " 206913808.11147901: 18,\n",
      " 263665089.87303555: 17,\n",
      " 335981828.62837881: 17,\n",
      " 428133239.8719396: 17,\n",
      " 545559478.11685145: 17,\n",
      " 695192796.17755914: 17,\n",
      " 885866790.41008317: 16,\n",
      " 1128837891.6846883: 15,\n",
      " 1438449888.2876658: 15,\n",
      " 1832980710.8324375: 13,\n",
      " 2335721469.0901213: 12,\n",
      " 2976351441.6313133: 10,\n",
      " 3792690190.7322536: 6,\n",
      " 4832930238.5717525: 5,\n",
      " 6158482110.6602545: 3,\n",
      " 7847599703.5146227: 1,\n",
      " 10000000000.0: 1}\n"
     ]
    }
   ],
   "source": [
    "import pprint\n",
    "pprint.pprint(nonzero_dict)"
   ]
  },
  {
   "cell_type": "code",
   "execution_count": 158,
   "metadata": {
    "collapsed": true
   },
   "outputs": [],
   "source": [
    "l1_penalty_min = 2976351441.6313133\n",
    "l1_penalty_max = 3792690190.7322536"
   ]
  },
  {
   "cell_type": "code",
   "execution_count": 172,
   "metadata": {
    "collapsed": false
   },
   "outputs": [],
   "source": [
    "newl1_penalty_values = np.linspace(l1_penalty_min,l1_penalty_max,20)\n",
    "validation_rss = {}\n",
    "max_nonzeros = 7\n",
    "\n",
    "for x in newl1_penalty_values:\n",
    "    model_final = graphlab.linear_regression.create(training,\n",
    "                                                     target = 'price',\n",
    "                                                     features =all_features,\n",
    "                                                     validation_set = None,\n",
    "                                                     l1_penalty = x,\n",
    "                                                     l2_penalty=0.,\n",
    "                                                     verbose = False)\n",
    "    error =  model_final.predict(validation) - validation['price']\n",
    "    RSS = sum(error*error)\n",
    "    validation_rss[x] = RSS, model_final['coefficients']['value'].nnz()"
   ]
  },
  {
   "cell_type": "code",
   "execution_count": 178,
   "metadata": {
    "collapsed": false
   },
   "outputs": [
    {
     "name": "stdout",
     "output_type": "stream",
     "text": [
      "3577864204.13 (1060799531763289.9, 7)\n",
      "3448968612.16 (1046937488751713.5, 7)\n",
      "3491933809.48 (1051147625612863.0, 7)\n",
      "3534899006.81 (1055992735342998.9, 7)\n"
     ]
    }
   ],
   "source": [
    "for k,v in validation_rss.iteritems():\n",
    "    if (v[1] == max_nonzeros) and (v[0] < RSS):\n",
    "        bestRSS = v[0]\n",
    "        print k, v"
   ]
  },
  {
   "cell_type": "code",
   "execution_count": 179,
   "metadata": {
    "collapsed": false
   },
   "outputs": [],
   "source": [
    "model_quiz = graphlab.linear_regression.create(training, target='price', features=all_features,\n",
    "                                              validation_set=None, verbose = False,\n",
    "                                              l2_penalty=0., l1_penalty=3448968612.16)"
   ]
  },
  {
   "cell_type": "code",
   "execution_count": 180,
   "metadata": {
    "collapsed": false
   },
   "outputs": [
    {
     "name": "stdout",
     "output_type": "stream",
     "text": [
      "+------------------+-------+---------------+--------+\n",
      "|       name       | index |     value     | stderr |\n",
      "+------------------+-------+---------------+--------+\n",
      "|   (intercept)    |  None | 222253.192544 |  None  |\n",
      "|     bedrooms     |  None | 661.722717782 |  None  |\n",
      "|    bathrooms     |  None | 15873.9572593 |  None  |\n",
      "|   sqft_living    |  None | 32.4102214513 |  None  |\n",
      "| sqft_living_sqrt |  None | 690.114773313 |  None  |\n",
      "|      grade       |  None | 2899.42026975 |  None  |\n",
      "|    sqft_above    |  None | 30.0115753022 |  None  |\n",
      "+------------------+-------+---------------+--------+\n",
      "[7 rows x 4 columns]\n",
      "\n"
     ]
    }
   ],
   "source": [
    "non_zero_weight_test = model_quiz[\"coefficients\"][model_quiz[\"coefficients\"][\"value\"] > 0]\n",
    "non_zero_weight_test.print_rows(num_rows=8)"
   ]
  },
  {
   "cell_type": "code",
   "execution_count": null,
   "metadata": {
    "collapsed": true
   },
   "outputs": [],
   "source": []
  }
 ],
 "metadata": {
  "kernelspec": {
   "display_name": "Python 2",
   "language": "python",
   "name": "python2"
  },
  "language_info": {
   "codemirror_mode": {
    "name": "ipython",
    "version": 2
   },
   "file_extension": ".py",
   "mimetype": "text/x-python",
   "name": "python",
   "nbconvert_exporter": "python",
   "pygments_lexer": "ipython2",
   "version": "2.7.12"
  }
 },
 "nbformat": 4,
 "nbformat_minor": 1
}
