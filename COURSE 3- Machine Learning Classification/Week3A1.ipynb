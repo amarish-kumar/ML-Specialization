{
 "cells": [
  {
   "cell_type": "code",
   "execution_count": 7,
   "metadata": {
    "collapsed": false
   },
   "outputs": [],
   "source": [
    "import graphlab\n",
    "from graphlab import SFrame\n",
    "graphlab.canvas.set_target('ipynb')\n",
    "import numpy as np"
   ]
  },
  {
   "cell_type": "code",
   "execution_count": 8,
   "metadata": {
    "collapsed": false
   },
   "outputs": [
    {
     "name": "stdout",
     "output_type": "stream",
     "text": [
      "This non-commercial license of GraphLab Create for academic use is assigned to mukesh.mithrakumar@jacks.sdstate.edu and will expire on June 17, 2018.\n"
     ]
    },
    {
     "name": "stderr",
     "output_type": "stream",
     "text": [
      "[INFO] graphlab.cython.cy_server: GraphLab Create v2.1 started. Logging: /tmp/graphlab_server_1500544058.log\n"
     ]
    },
    {
     "data": {
      "text/html": [
       "<pre>Finished parsing file /home/jovyan/work/Course3/Week3/lending-club-data.csv</pre>"
      ],
      "text/plain": [
       "Finished parsing file /home/jovyan/work/Course3/Week3/lending-club-data.csv"
      ]
     },
     "metadata": {},
     "output_type": "display_data"
    },
    {
     "data": {
      "text/html": [
       "<pre>Parsing completed. Parsed 100 lines in 1.72757 secs.</pre>"
      ],
      "text/plain": [
       "Parsing completed. Parsed 100 lines in 1.72757 secs."
      ]
     },
     "metadata": {},
     "output_type": "display_data"
    },
    {
     "name": "stdout",
     "output_type": "stream",
     "text": [
      "------------------------------------------------------\n",
      "Inferred types from first 100 line(s) of file as \n",
      "column_type_hints=[int,int,int,int,int,str,float,float,str,str,str,str,str,int,str,str,str,str,str,str,str,str,str,str,float,int,str,int,int,int,int,int,int,float,int,str,float,float,float,float,float,float,float,float,float,str,float,str,str,int,str,int,int,str,int,int,int,int,float,int,int,int,int,float,str,int,int,int]\n",
      "If parsing fails due to incorrect types, you can correct\n",
      "the inferred type list above and pass it to read_csv in\n",
      "the column_type_hints argument\n",
      "------------------------------------------------------\n"
     ]
    },
    {
     "data": {
      "text/html": [
       "<pre>Finished parsing file /home/jovyan/work/Course3/Week3/lending-club-data.csv</pre>"
      ],
      "text/plain": [
       "Finished parsing file /home/jovyan/work/Course3/Week3/lending-club-data.csv"
      ]
     },
     "metadata": {},
     "output_type": "display_data"
    },
    {
     "data": {
      "text/html": [
       "<pre>Parsing completed. Parsed 37892 lines in 0.942644 secs.</pre>"
      ],
      "text/plain": [
       "Parsing completed. Parsed 37892 lines in 0.942644 secs."
      ]
     },
     "metadata": {},
     "output_type": "display_data"
    }
   ],
   "source": [
    "loans = SFrame('lending-club-data.csv')"
   ]
  },
  {
   "cell_type": "code",
   "execution_count": 51,
   "metadata": {
    "collapsed": false
   },
   "outputs": [
    {
     "name": "stdout",
     "output_type": "stream",
     "text": [
      "+---------+-----------+-----------+-------------+-----------------+-----------+\n",
      "|    id   | member_id | loan_amnt | funded_amnt | funded_amnt_inv |    term   |\n",
      "+---------+-----------+-----------+-------------+-----------------+-----------+\n",
      "| 1062177 |  1294027  |   15000   |    15000    |      15000      | 36 months |\n",
      "| 1049352 |  1280767  |    6600   |     6600    |       6600      | 36 months |\n",
      "| 1062976 |  1295062  |    4000   |     4000    |       4000      | 60 months |\n",
      "| 1058564 |  1290157  |    8000   |     8000    |       8000      | 36 months |\n",
      "| 1061837 |  1293455  |   15000   |    15000    |      14975      | 36 months |\n",
      "| 1058892 |  1290489  |    8000   |     8000    |       8000      | 36 months |\n",
      "| 1047771 |  1278668  |   15000   |    15000    |      15000      | 36 months |\n",
      "| 1047014 |  1277879  |    6000   |     6000    |       6000      | 36 months |\n",
      "| 1043408 |  1273730  |   35000   |    35000    |      35000      | 36 months |\n",
      "| 1045841 |  1276260  |   35000   |    35000    |      35000      | 60 months |\n",
      "| 1043785 |  1274123  |   30000   |    30000    |      29975      | 60 months |\n",
      "| 1036033 |  1265698  |    5800   |     5800    |       5800      | 60 months |\n",
      "| 1039965 |  1269917  |   20000   |    20000    |      20000      | 60 months |\n",
      "| 1031944 |  1261600  |   12100   |    12100    |      12100      | 60 months |\n",
      "| 1025389 |  1254531  |    6000   |     6000    |       6000      | 36 months |\n",
      "| 1032213 |  1261668  |   13500   |    13500    |      13500      | 60 months |\n",
      "| 1030218 |  1259618  |   25000   |    25000    |      24975      | 60 months |\n",
      "| 1019123 |  1247808  |   35000   |    35000    |      35000      | 36 months |\n",
      "| 1020621 |  1249409  |   35000   |    35000    |      34822      | 60 months |\n",
      "| 1023555 |  1252607  |   35000   |    35000    |      34997      | 60 months |\n",
      "+---------+-----------+-----------+-------------+-----------------+-----------+\n",
      "+----------+-------------+-------+-----------+-------------------------------+\n",
      "| int_rate | installment | grade | sub_grade |           emp_title           |\n",
      "+----------+-------------+-------+-----------+-------------------------------+\n",
      "|  17.27   |    536.81   |   D   |     D3    | Senior Dental Insurance So... |\n",
      "|   9.91   |    212.69   |   B   |     B1    | The Holmes Organisation, Inc. |\n",
      "|  19.91   |    105.78   |   E   |     E4    |     Newell Rubbermaid Inc     |\n",
      "|   6.03   |    243.49   |   A   |     A1    |        TOGETHER WE GROW       |\n",
      "|   6.03   |    456.54   |   A   |     A1    | Applied Development Companies |\n",
      "|  15.27   |    278.39   |   C   |     C4    |      GREEN CHOICE LIVING      |\n",
      "|   7.9    |    469.36   |   A   |     A4    |     Ohio State University     |\n",
      "|   7.9    |    187.75   |   A   |     A4    |         National Grid         |\n",
      "|  10.65   |   1140.07   |   B   |     B2    |  Jordan Physician Associates  |\n",
      "|  14.27   |    819.3    |   C   |     C2    |   PricewaterhouseCoopers LLP  |\n",
      "|  13.49   |    690.15   |   C   |     C1    |       United States Army      |\n",
      "|  17.58   |    145.96   |   D   |     D4    |       Carter Associates       |\n",
      "|  14.27   |    468.17   |   C   |     C2    |              Army             |\n",
      "|  17.27   |    302.48   |   D   |     D3    |      Wholesale Floors LLC     |\n",
      "|  15.96   |    210.83   |   C   |     C5    | School District of Palm Be... |\n",
      "|  12.42   |    303.18   |   B   |     B4    |      First Southwest Bank     |\n",
      "|  11.71   |    552.46   |   B   |     B3    |                               |\n",
      "|   7.9    |   1095.16   |   A   |     A4    |          Schlumberger         |\n",
      "|   20.3   |    933.14   |   E   |     E5    |            Kone Inc           |\n",
      "|  17.27   |    874.93   |   D   |     D3    |          State Street         |\n",
      "+----------+-------------+-------+-----------+-------------------------------+\n",
      "+------------+----------------+------------+-----------------+-----------------+\n",
      "| emp_length | home_ownership | annual_inc |     is_inc_v    |     issue_d     |\n",
      "+------------+----------------+------------+-----------------+-----------------+\n",
      "|  2 years   |    MORTGAGE    |   44400    | Source Verified | 20111201T000000 |\n",
      "|   1 year   |    MORTGAGE    |   100000   |   Not Verified  | 20111201T000000 |\n",
      "| 10+ years  |      RENT      |   45000    | Source Verified | 20111201T000000 |\n",
      "|  6 years   |      RENT      |   57600    | Source Verified | 20111201T000000 |\n",
      "|  7 years   |      RENT      |   60000    |   Not Verified  | 20111201T000000 |\n",
      "|  2 years   |      OWN       |   108000   |   Not Verified  | 20111201T000000 |\n",
      "| 10+ years  |      OWN       |   125000   | Source Verified | 20111201T000000 |\n",
      "| 10+ years  |    MORTGAGE    |   170000   | Source Verified | 20111201T000000 |\n",
      "|  7 years   |    MORTGAGE    |   365000   | Source Verified | 20111201T000000 |\n",
      "|   1 year   |    MORTGAGE    |   550000   |     Verified    | 20111201T000000 |\n",
      "|  4 years   |    MORTGAGE    |   75000    |     Verified    | 20111201T000000 |\n",
      "|  2 years   |      RENT      |   30000    | Source Verified | 20111201T000000 |\n",
      "|  4 years   |    MORTGAGE    |   40000    |     Verified    | 20111201T000000 |\n",
      "|  3 years   |      RENT      |   50000    | Source Verified | 20111201T000000 |\n",
      "|  2 years   |      RENT      |   28800    | Source Verified | 20111101T000000 |\n",
      "|  < 1 year  |    MORTGAGE    |   57840    | Source Verified | 20111201T000000 |\n",
      "|    n/a     |    MORTGAGE    |   39600    |     Verified    | 20111101T000000 |\n",
      "| 10+ years  |    MORTGAGE    |   95000    |     Verified    | 20111101T000000 |\n",
      "|  < 1 year  |    MORTGAGE    |   191000   |     Verified    | 20111101T000000 |\n",
      "|  9 years   |    MORTGAGE    |   97500    | Source Verified | 20111101T000000 |\n",
      "+------------+----------------+------------+-----------------+-----------------+\n",
      "+-------------+------------+-------------------------------+\n",
      "| loan_status | pymnt_plan |              url              |\n",
      "+-------------+------------+-------------------------------+\n",
      "|  Fully Paid |     n      | https://www.lendingclub.co... |\n",
      "|  Fully Paid |     n      | https://www.lendingclub.co... |\n",
      "| Charged Off |     n      | https://www.lendingclub.co... |\n",
      "|  Fully Paid |     n      | https://www.lendingclub.co... |\n",
      "|  Fully Paid |     n      | https://www.lendingclub.co... |\n",
      "| Charged Off |     n      | https://www.lendingclub.co... |\n",
      "|  Fully Paid |     n      | https://www.lendingclub.co... |\n",
      "|  Fully Paid |     n      | https://www.lendingclub.co... |\n",
      "|  Fully Paid |     n      | https://www.lendingclub.co... |\n",
      "|  Fully Paid |     n      | https://www.lendingclub.co... |\n",
      "|  Fully Paid |     n      | https://www.lendingclub.co... |\n",
      "| Charged Off |     n      | https://www.lendingclub.co... |\n",
      "|  Fully Paid |     n      | https://www.lendingclub.co... |\n",
      "|  Fully Paid |     n      | https://www.lendingclub.co... |\n",
      "|  Fully Paid |     n      | https://www.lendingclub.co... |\n",
      "|  Fully Paid |     n      | https://www.lendingclub.co... |\n",
      "|  Fully Paid |     n      | https://www.lendingclub.co... |\n",
      "|  Fully Paid |     n      | https://www.lendingclub.co... |\n",
      "| Charged Off |     n      | https://www.lendingclub.co... |\n",
      "| Charged Off |     n      | https://www.lendingclub.co... |\n",
      "+-------------+------------+-------------------------------+\n",
      "+-------------------------------+---------+-------------------------------+\n",
      "|              desc             | purpose |             title             |\n",
      "+-------------------------------+---------+-------------------------------+\n",
      "|                               |  house  |        home improvement       |\n",
      "| Borrower added on 12/12/11... |  house  |       Debt Consolidation      |\n",
      "|                               |  house  |            mortgage           |\n",
      "|   Borrower added on 12/08/... |  house  |          auto payoff          |\n",
      "|   Borrower added on 12/09/... |  house  | Buying A Modest Home + Sma... |\n",
      "| Borrower added on 12/06/11... |  house  |        HOME IMPROVEMENT       |\n",
      "|                               |  house  |      home improvment loan     |\n",
      "|   Borrower added on 12/02/... |  house  |     Home Improvement Loan     |\n",
      "|                               |  house  |            New Home           |\n",
      "| Borrower added on 11/28/11... |  house  |           House Loan          |\n",
      "| Borrower added on 11/28/11... |  house  |           House Loan          |\n",
      "| Borrower added on 11/30/11... |  house  |         buying houses         |\n",
      "| Borrower added on 11/23/11... |  house  |         Home purchase         |\n",
      "| Borrower added on 11/22/11... |  house  |        Getting On Track       |\n",
      "|                               |  house  |             House             |\n",
      "| Borrower added on 11/18/11... |  house  | Down Payment on Rental Pro... |\n",
      "| Borrower added on 11/17/11... |  house  |             second            |\n",
      "| Borrower added on 11/14/11... |  house  |        Home Improvement       |\n",
      "|                               |  house  |      Pay off homes Loans      |\n",
      "| Borrower added on 11/15/11... |  house  |            Our Home           |\n",
      "+-------------------------------+---------+-------------------------------+\n",
      "+----------+------------+-------+-------------+------------------+----------------+\n",
      "| zip_code | addr_state |  dti  | delinq_2yrs | earliest_cr_line | inq_last_6mths |\n",
      "+----------+------------+-------+-------------+------------------+----------------+\n",
      "|  334xx   |     FL     |  3.59 |      1      | 19830601T000000  |       0        |\n",
      "|  322xx   |     FL     | 15.53 |      0      | 20020701T000000  |       2        |\n",
      "|  179xx   |     PA     |  15.2 |      0      | 19960301T000000  |       3        |\n",
      "|  902xx   |     CA     | 11.52 |      0      | 19710701T000000  |       0        |\n",
      "|  076xx   |     NJ     | 12.78 |      0      | 20020501T000000  |       0        |\n",
      "|  906xx   |     CA     | 12.48 |      0      | 20011201T000000  |       1        |\n",
      "|  430xx   |     OH     | 10.64 |      0      | 19810901T000000  |       0        |\n",
      "|  028xx   |     RI     |  4.07 |      1      | 19871001T000000  |       1        |\n",
      "|  023xx   |     MA     | 18.14 |      0      | 19900101T000000  |       4        |\n",
      "|  201xx   |     VA     |  4.34 |      0      | 19790701T000000  |       4        |\n",
      "|  357xx   |     AL     | 22.85 |      0      | 19990101T000000  |       2        |\n",
      "|  490xx   |     MI     |  1.0  |      0      | 20010401T000000  |       2        |\n",
      "|  953xx   |     CA     |  0.6  |      0      | 20000801T000000  |       3        |\n",
      "|  853xx   |     AZ     |  11.5 |      0      | 20050401T000000  |       0        |\n",
      "|  334xx   |     FL     | 18.25 |      0      | 20061101T000000  |       2        |\n",
      "|  813xx   |     CO     |  9.05 |      1      | 19880301T000000  |       0        |\n",
      "|  890xx   |     NV     |  8.42 |      0      | 20010901T000000  |       0        |\n",
      "|  933xx   |     CA     |  2.93 |      0      | 19980901T000000  |       0        |\n",
      "|  701xx   |     LA     | 17.72 |      2      | 19941101T000000  |       1        |\n",
      "|  032xx   |     NH     | 16.52 |      0      | 19990801T000000  |       7        |\n",
      "+----------+------------+-------+-------------+------------------+----------------+\n",
      "+------------------------+------------------------+----------+---------+-----------+\n",
      "| mths_since_last_delinq | mths_since_last_record | open_acc | pub_rec | revol_bal |\n",
      "+------------------------+------------------------+----------+---------+-----------+\n",
      "|           18           |           93           |    6     |    1    |    4582   |\n",
      "|          None          |          None          |    10    |    0    |    2171   |\n",
      "|          None          |           92           |    5     |    1    |    3722   |\n",
      "|          None          |          None          |    8     |    0    |    8311   |\n",
      "|          None          |          None          |    13    |    0    |    2166   |\n",
      "|          None          |          None          |    12    |    0    |   10957   |\n",
      "|          None          |          None          |    3     |    0    |     0     |\n",
      "|           13           |          None          |    7     |    0    |    5224   |\n",
      "|          None          |          None          |    8     |    0    |   39871   |\n",
      "|          None          |          None          |    19    |    0    |   19107   |\n",
      "|          None          |          None          |    11    |    0    |    4666   |\n",
      "|          None          |          None          |    8     |    0    |     0     |\n",
      "|          None          |          None          |    5     |    0    |    816    |\n",
      "|           42           |          None          |    8     |    0    |    5579   |\n",
      "|          None          |          None          |    9     |    0    |    8032   |\n",
      "|           22           |          None          |    5     |    0    |    4143   |\n",
      "|          None          |          None          |    4     |    0    |     0     |\n",
      "|          None          |          None          |    14    |    0    |    8680   |\n",
      "|           3            |          None          |    16    |    0    |   14925   |\n",
      "|          None          |          None          |    9     |    0    |    8357   |\n",
      "+------------------------+------------------------+----------+---------+-----------+\n",
      "+------------+-----------+---------------------+-----------+---------------+\n",
      "| revol_util | total_acc | initial_list_status | out_prncp | out_prncp_inv |\n",
      "+------------+-----------+---------------------+-----------+---------------+\n",
      "|    91.6    |     16    |          f          |    0.0    |      0.0      |\n",
      "|    27.8    |     30    |          f          |    0.0    |      0.0      |\n",
      "|    22.4    |     11    |          f          |    0.0    |      0.0      |\n",
      "|    12.4    |     12    |          f          |    0.0    |      0.0      |\n",
      "|    5.5     |     27    |          f          |    0.0    |      0.0      |\n",
      "|    81.8    |     19    |          f          |    0.0    |      0.0      |\n",
      "|    0.0     |     22    |          f          |    0.0    |      0.0      |\n",
      "|    42.1    |     15    |          f          |    0.0    |      0.0      |\n",
      "|    3.9     |     33    |          f          |    0.0    |      0.0      |\n",
      "|    0.6     |     47    |          f          |    0.0    |      0.0      |\n",
      "|    26.2    |     46    |          f          |    0.0    |      0.0      |\n",
      "|    0.0     |     12    |          f          |    0.0    |      0.0      |\n",
      "|    3.7     |     23    |          f          |    0.0    |      0.0      |\n",
      "|    33.0    |     15    |          f          |    0.0    |      0.0      |\n",
      "|    57.4    |     37    |          f          |    0.0    |      0.0      |\n",
      "|    48.2    |     9     |          f          |    0.0    |      0.0      |\n",
      "|    0.0     |     19    |          f          |    0.0    |      0.0      |\n",
      "|    16.0    |     28    |          f          |    0.0    |      0.0      |\n",
      "|    75.2    |     43    |          f          |    0.0    |      0.0      |\n",
      "|    72.0    |     28    |          f          |    0.0    |      0.0      |\n",
      "+------------+-----------+---------------------+-----------+---------------+\n",
      "+-------------+-----------------+-----------------+---------------+--------------------+\n",
      "| total_pymnt | total_pymnt_inv | total_rec_prncp | total_rec_int | total_rec_late_fee |\n",
      "+-------------+-----------------+-----------------+---------------+--------------------+\n",
      "|   17991.5   |     17991.5     |     15000.0     |    2991.53    |        0.0         |\n",
      "|   7274.62   |     7274.62     |      6600.0     |     674.62    |        0.0         |\n",
      "|    1775.8   |      1775.8     |      660.29     |     924.37    |        0.0         |\n",
      "|    8765.1   |      8765.1     |      8000.0     |     765.1     |        0.0         |\n",
      "|   16434.5   |     16407.2     |     15000.0     |    1434.54    |        0.0         |\n",
      "|   3394.06   |     3394.06     |     2064.97     |     988.52    |        0.0         |\n",
      "|   16894.9   |     16894.9     |     15000.0     |     1894.9    |        0.0         |\n",
      "|   6757.85   |     6757.85     |      6000.0     |     757.85    |        0.0         |\n",
      "|   41037.6   |     41037.6     |     35000.0     |    6037.57    |        0.0         |\n",
      "|   42852.6   |     42852.6     |     35000.0     |    7852.58    |        0.0         |\n",
      "|   30338.7   |     30313.4     |     30000.0     |     338.69    |        0.0         |\n",
      "|   1754.43   |     1754.43     |      647.17     |     802.23    |        0.0         |\n",
      "|   22325.4   |     22325.4     |     20000.0     |    2325.39    |        0.0         |\n",
      "|   12784.1   |     12784.1     |     12100.0     |     684.13    |        0.0         |\n",
      "|   7147.69   |     7147.69     |      6000.0     |    1147.69    |        0.0         |\n",
      "|   16793.4   |     16793.3     |     13500.0     |    3293.35    |        0.0         |\n",
      "|   25485.8   |     25460.3     |     25000.0     |     485.79    |        0.0         |\n",
      "|   38590.3   |     38590.3     |     35000.0     |     3590.3    |        0.0         |\n",
      "|   25126.3   |     24994.3     |     9482.39     |    11957.1    |        0.0         |\n",
      "|   29743.8   |     29737.5     |     16128.4     |    13615.4    |        0.0         |\n",
      "+-------------+-----------------+-----------------+---------------+--------------------+\n",
      "+------------+-------------------------+-----------------+-----------------+--------------+\n",
      "| recoveries | collection_recovery_fee |   last_pymnt_d  | last_pymnt_amnt | next_pymnt_d |\n",
      "+------------+-------------------------+-----------------+-----------------+--------------+\n",
      "|    0.0     |           0.0           | 20130601T000000 |      9412.4     |              |\n",
      "|    0.0     |           0.0           | 20130401T000000 |     4304.99     |              |\n",
      "|   191.14   |           1.76          | 20130401T000000 |      331.68     |              |\n",
      "|    0.0     |           0.0           | 20141201T000000 |      245.81     |              |\n",
      "|    0.0     |           0.0           | 20141201T000000 |      461.36     |              |\n",
      "|   340.57   |           3.32          | 20121101T000000 |      278.39     |              |\n",
      "|    0.0     |           0.0           | 20141201T000000 |      480.04     |              |\n",
      "|    0.0     |           0.0           | 20141201T000000 |      192.32     |              |\n",
      "|    0.0     |           0.0           | 20141201T000000 |     1160.08     |              |\n",
      "|    0.0     |           0.0           | 20140901T000000 |     4174.84     |              |\n",
      "|    0.0     |           0.0           | 20120101T000000 |     30340.5     |              |\n",
      "|   305.03   |           2.79          | 20121001T000000 |      145.96     |              |\n",
      "|    0.0     |           0.0           | 20130501T000000 |     5353.01     |              |\n",
      "|    0.0     |           0.0           | 20120401T000000 |     11880.8     |              |\n",
      "|    0.0     |           0.0           | 20130601T000000 |      3571.8     |              |\n",
      "|    0.0     |           0.0           | 20140501T000000 |     8312.89     |              |\n",
      "|    0.0     |           0.0           | 20120201T000000 |     24934.8     |              |\n",
      "|    0.0     |           0.0           | 20130901T000000 |     16702.5     |              |\n",
      "|  3686.85   |         36.6408         | 20131101T000000 |      933.14     |              |\n",
      "|    0.0     |           0.0           | 20141001T000000 |     2620.96     |              |\n",
      "+------------+-------------------------+-----------------+-----------------+--------------+\n",
      "+--------------------+----------------------------+-----------------------------+\n",
      "| last_credit_pull_d | collections_12_mths_ex_med | mths_since_last_major_derog |\n",
      "+--------------------+----------------------------+-----------------------------+\n",
      "|  20150201T000000   |             0              |                             |\n",
      "|  20150201T000000   |             0              |                             |\n",
      "|  20130801T000000   |             0              |                             |\n",
      "|  20141201T000000   |             0              |                             |\n",
      "|  20141201T000000   |             0              |                             |\n",
      "|  20140401T000000   |             0              |                             |\n",
      "|  20141201T000000   |             0              |                             |\n",
      "|  20141201T000000   |             0              |                             |\n",
      "|  20141201T000000   |             0              |                             |\n",
      "|  20141001T000000   |             0              |                             |\n",
      "|  20150201T000000   |             0              |                             |\n",
      "|  20130301T000000   |             0              |                             |\n",
      "|  20130501T000000   |             0              |                             |\n",
      "|  20140501T000000   |             0              |                             |\n",
      "|  20130501T000000   |             0              |                             |\n",
      "|  20140501T000000   |             0              |                             |\n",
      "|  20140801T000000   |             0              |                             |\n",
      "|  20140301T000000   |             0              |                             |\n",
      "|  20140301T000000   |             0              |                             |\n",
      "|  20150201T000000   |             0              |                             |\n",
      "+--------------------+----------------------------+-----------------------------+\n",
      "+-------------+---------------+-------------+----------------+-----------+----------------+\n",
      "| policy_code | not_compliant |    status   | inactive_loans | bad_loans | emp_length_num |\n",
      "+-------------+---------------+-------------+----------------+-----------+----------------+\n",
      "|      1      |       0       |  Fully Paid |       1        |     0     |       3        |\n",
      "|      1      |       0       |  Fully Paid |       1        |     0     |       2        |\n",
      "|      1      |       0       | Charged Off |       1        |     1     |       11       |\n",
      "|      1      |       0       |  Fully Paid |       1        |     0     |       7        |\n",
      "|      1      |       0       |  Fully Paid |       1        |     0     |       8        |\n",
      "|      1      |       0       | Charged Off |       1        |     1     |       3        |\n",
      "|      1      |       0       |  Fully Paid |       1        |     0     |       11       |\n",
      "|      1      |       0       |  Fully Paid |       1        |     0     |       11       |\n",
      "|      1      |       0       |  Fully Paid |       1        |     0     |       8        |\n",
      "|      1      |       0       |  Fully Paid |       1        |     0     |       2        |\n",
      "|      1      |       0       |  Fully Paid |       1        |     0     |       5        |\n",
      "|      1      |       0       | Charged Off |       1        |     1     |       3        |\n",
      "|      1      |       0       |  Fully Paid |       1        |     0     |       5        |\n",
      "|      1      |       0       |  Fully Paid |       1        |     0     |       4        |\n",
      "|      1      |       0       |  Fully Paid |       1        |     0     |       3        |\n",
      "|      1      |       0       |  Fully Paid |       1        |     0     |       1        |\n",
      "|      1      |       0       |  Fully Paid |       1        |     0     |       0        |\n",
      "|      1      |       0       |  Fully Paid |       1        |     0     |       11       |\n",
      "|      1      |       0       | Charged Off |       1        |     1     |       1        |\n",
      "|      1      |       0       | Charged Off |       1        |     1     |       10       |\n",
      "+-------------+---------------+-------------+----------------+-----------+----------------+\n",
      "+-----------+---------------+------------------+--------------+--------------------------+\n",
      "| grade_num | sub_grade_num | delinq_2yrs_zero | pub_rec_zero | collections_12_mths_zero |\n",
      "+-----------+---------------+------------------+--------------+--------------------------+\n",
      "|     3     |      0.6      |        0         |      0       |            1             |\n",
      "|     5     |      0.2      |        1         |      1       |            1             |\n",
      "|     2     |      0.8      |        1         |      0       |            1             |\n",
      "|     6     |      0.2      |        1         |      1       |            1             |\n",
      "|     6     |      0.2      |        1         |      1       |            1             |\n",
      "|     4     |      0.8      |        1         |      1       |            1             |\n",
      "|     6     |      0.8      |        1         |      1       |            1             |\n",
      "|     6     |      0.8      |        0         |      1       |            1             |\n",
      "|     5     |      0.4      |        1         |      1       |            1             |\n",
      "|     4     |      0.4      |        1         |      1       |            1             |\n",
      "|     4     |      0.2      |        1         |      1       |            1             |\n",
      "|     3     |      0.8      |        1         |      1       |            1             |\n",
      "|     4     |      0.4      |        1         |      1       |            1             |\n",
      "|     3     |      0.6      |        1         |      1       |            1             |\n",
      "|     4     |      1.0      |        1         |      1       |            1             |\n",
      "|     5     |      0.8      |        0         |      1       |            1             |\n",
      "|     5     |      0.6      |        1         |      1       |            1             |\n",
      "|     6     |      0.8      |        1         |      1       |            1             |\n",
      "|     2     |      1.0      |        0         |      1       |            1             |\n",
      "|     3     |      0.6      |        1         |      1       |            1             |\n",
      "+-----------+---------------+------------------+--------------+--------------------------+\n",
      "+-----------+-------------------+-----------------+------------------+------------------+\n",
      "| short_emp | payment_inc_ratio |     final_d     | last_delinq_none | last_record_none |\n",
      "+-----------+-------------------+-----------------+------------------+------------------+\n",
      "|     0     |      14.5084      | 20141201T000000 |        0         |        0         |\n",
      "|     0     |      2.55228      | 20141201T000000 |        1         |        1         |\n",
      "|     0     |       2.8208      | 20161201T000000 |        1         |        0         |\n",
      "|     0     |      5.07271      | 20141201T000000 |        1         |        1         |\n",
      "|     0     |       9.1308      | 20141201T000000 |        1         |        1         |\n",
      "|     0     |      3.09322      | 20141201T000000 |        1         |        1         |\n",
      "|     0     |      4.50586      | 20141201T000000 |        1         |        1         |\n",
      "|     0     |      1.32529      | 20141201T000000 |        0         |        1         |\n",
      "|     0     |      3.74818      | 20141201T000000 |        1         |        1         |\n",
      "|     0     |      1.78756      | 20161201T000000 |        1         |        1         |\n",
      "|     0     |      11.0424      | 20161201T000000 |        1         |        1         |\n",
      "|     0     |       5.8384      | 20161201T000000 |        1         |        1         |\n",
      "|     0     |      14.0451      | 20161201T000000 |        1         |        1         |\n",
      "|     0     |      7.25952      | 20161201T000000 |        0         |        1         |\n",
      "|     0     |      8.78458      | 20141101T000000 |        1         |        1         |\n",
      "|     1     |      6.29004      | 20161201T000000 |        0         |        1         |\n",
      "|     1     |      16.7412      | 20161101T000000 |        1         |        1         |\n",
      "|     0     |      13.8336      | 20141101T000000 |        1         |        1         |\n",
      "|     1     |      5.86266      | 20161101T000000 |        0         |        1         |\n",
      "|     0     |      10.7684      | 20161101T000000 |        1         |        1         |\n",
      "+-----------+-------------------+-----------------+------------------+------------------+\n",
      "+-----------------------+\n",
      "| last_major_derog_none |\n",
      "+-----------------------+\n",
      "|           1           |\n",
      "|           1           |\n",
      "|           1           |\n",
      "|           1           |\n",
      "|           1           |\n",
      "|           1           |\n",
      "|           1           |\n",
      "|           1           |\n",
      "|           1           |\n",
      "|           1           |\n",
      "|           1           |\n",
      "|           1           |\n",
      "|           1           |\n",
      "|           1           |\n",
      "|           1           |\n",
      "|           1           |\n",
      "|           1           |\n",
      "|           1           |\n",
      "|           1           |\n",
      "|           1           |\n",
      "+-----------------------+\n",
      "[312 rows x 68 columns]\n",
      "\n"
     ]
    }
   ],
   "source": [
    "#filters out the purpose of the loan as house\n",
    "\n",
    "sf_filter = loans[loans['purpose'] =='house']\n",
    "sf_filter.print_rows(20,68)"
   ]
  },
  {
   "cell_type": "code",
   "execution_count": 53,
   "metadata": {
    "collapsed": false
   },
   "outputs": [
    {
     "data": {
      "application/javascript": [
       "$(\"head\").append($(\"<link/>\").attr({\n",
       "  rel:  \"stylesheet\",\n",
       "  type: \"text/css\",\n",
       "  href: \"//cdnjs.cloudflare.com/ajax/libs/font-awesome/4.1.0/css/font-awesome.min.css\"\n",
       "}));\n",
       "$(\"head\").append($(\"<link/>\").attr({\n",
       "  rel:  \"stylesheet\",\n",
       "  type: \"text/css\",\n",
       "  href: \"https://static.turi.com/products/graphlab-create/2.1/canvas/css/canvas.css\"\n",
       "}));\n",
       "\n",
       "            (function(){\n",
       "\n",
       "                var e = null;\n",
       "                if (typeof element == 'undefined') {\n",
       "                    var scripts = document.getElementsByTagName('script');\n",
       "                    var thisScriptTag = scripts[scripts.length-1];\n",
       "                    var parentDiv = thisScriptTag.parentNode;\n",
       "                    e = document.createElement('div');\n",
       "                    parentDiv.appendChild(e);\n",
       "                } else {\n",
       "                    e = element[0];\n",
       "                }\n",
       "\n",
       "                if (typeof requirejs !== 'undefined') {\n",
       "                    // disable load timeout; ipython_app.js is large and can take a while to load.\n",
       "                    requirejs.config({waitSeconds: 0});\n",
       "                }\n",
       "\n",
       "                require(['https://static.turi.com/products/graphlab-create/2.1/canvas/js/ipython_app.js'], function(IPythonApp){\n",
       "                    var app = new IPythonApp();\n",
       "                    app.attachView('sarray','Categorical', {\"ipython\": true, \"sketch\": {\"complete\": true, \"numeric\": false, \"num_unique\": 13, \"num_undefined\": 0, \"progress\": 1.0, \"frequent_items\": {\"debt_consolidation\": {\"frequency\": 15490, \"value\": \"debt_consolidation\"}, \"\": {\"frequency\": 5009, \"value\": \"\"}, \"house\": {\"frequency\": 312, \"value\": \"house\"}, \"car\": {\"frequency\": 1230, \"value\": \"car\"}, \"medical\": {\"frequency\": 581, \"value\": \"medical\"}, \"vacation\": {\"frequency\": 333, \"value\": \"vacation\"}, \"credit_card\": {\"frequency\": 4285, \"value\": \"credit_card\"}, \"other\": {\"frequency\": 3620, \"value\": \"other\"}, \"moving\": {\"frequency\": 507, \"value\": \"moving\"}, \"wedding\": {\"frequency\": 792, \"value\": \"wedding\"}, \"small_business\": {\"frequency\": 1384, \"value\": \"small_business\"}, \"major_purchase\": {\"frequency\": 1904, \"value\": \"major_purchase\"}, \"home_improvement\": {\"frequency\": 2445, \"value\": \"home_improvement\"}}, \"size\": 37892}, \"selected_variable\": {\"name\": [\"<SArray>\"], \"dtype\": \"str\", \"view_component\": \"Categorical\", \"view_file\": \"sarray\", \"descriptives\": {\"rows\": 37892}, \"type\": \"SArray\", \"view_components\": [\"Categorical\"]}, \"histogram\": null}, e);\n",
       "                });\n",
       "            })();\n",
       "        "
      ]
     },
     "metadata": {},
     "output_type": "display_data"
    }
   ],
   "source": [
    "loans['purpose'].show()"
   ]
  },
  {
   "cell_type": "code",
   "execution_count": 54,
   "metadata": {
    "collapsed": true
   },
   "outputs": [],
   "source": [
    "# safe_loans =  1 => safe\n",
    "# safe_loans = -1 => risky\n",
    "loans['safe_loans'] = loans['bad_loans'].apply(lambda x : +1 if x==0 else -1)\n",
    "loans = loans.remove_column('bad_loans')"
   ]
  },
  {
   "cell_type": "code",
   "execution_count": 55,
   "metadata": {
    "collapsed": false
   },
   "outputs": [
    {
     "data": {
      "application/javascript": [
       "$(\"head\").append($(\"<link/>\").attr({\n",
       "  rel:  \"stylesheet\",\n",
       "  type: \"text/css\",\n",
       "  href: \"//cdnjs.cloudflare.com/ajax/libs/font-awesome/4.1.0/css/font-awesome.min.css\"\n",
       "}));\n",
       "$(\"head\").append($(\"<link/>\").attr({\n",
       "  rel:  \"stylesheet\",\n",
       "  type: \"text/css\",\n",
       "  href: \"https://static.turi.com/products/graphlab-create/2.1/canvas/css/canvas.css\"\n",
       "}));\n",
       "\n",
       "            (function(){\n",
       "\n",
       "                var e = null;\n",
       "                if (typeof element == 'undefined') {\n",
       "                    var scripts = document.getElementsByTagName('script');\n",
       "                    var thisScriptTag = scripts[scripts.length-1];\n",
       "                    var parentDiv = thisScriptTag.parentNode;\n",
       "                    e = document.createElement('div');\n",
       "                    parentDiv.appendChild(e);\n",
       "                } else {\n",
       "                    e = element[0];\n",
       "                }\n",
       "\n",
       "                if (typeof requirejs !== 'undefined') {\n",
       "                    // disable load timeout; ipython_app.js is large and can take a while to load.\n",
       "                    requirejs.config({waitSeconds: 0});\n",
       "                }\n",
       "\n",
       "                require(['https://static.turi.com/products/graphlab-create/2.1/canvas/js/ipython_app.js'], function(IPythonApp){\n",
       "                    var app = new IPythonApp();\n",
       "                    app.attachView('sarray','Categorical', {\"ipython\": true, \"sketch\": {\"std\": 0.7134595595724172, \"complete\": true, \"min\": -1.0, \"max\": 1.0, \"quantile\": [-1.0, -1.0, -1.0, -1.0, -1.0, -1.0, -1.0, -1.0, -1.0, -1.0, -1.0, -1.0, -1.0, -1.0, -1.0, 1.0, 1.0, 1.0, 1.0, 1.0, 1.0, 1.0, 1.0, 1.0, 1.0, 1.0, 1.0, 1.0, 1.0, 1.0, 1.0, 1.0, 1.0, 1.0, 1.0, 1.0, 1.0, 1.0, 1.0, 1.0, 1.0, 1.0, 1.0, 1.0, 1.0, 1.0, 1.0, 1.0, 1.0, 1.0, 1.0, 1.0, 1.0, 1.0, 1.0, 1.0, 1.0, 1.0, 1.0, 1.0, 1.0, 1.0, 1.0, 1.0, 1.0, 1.0, 1.0, 1.0, 1.0, 1.0, 1.0, 1.0, 1.0, 1.0, 1.0, 1.0, 1.0, 1.0, 1.0, 1.0, 1.0, 1.0, 1.0, 1.0, 1.0, 1.0, 1.0, 1.0, 1.0, 1.0, 1.0, 1.0, 1.0, 1.0, 1.0, 1.0, 1.0, 1.0, 1.0, 1.0, 1.0], \"median\": 1.0, \"numeric\": true, \"num_unique\": 2, \"num_undefined\": 5009, \"var\": 0.5090245431452676, \"progress\": 1.0, \"size\": 37892, \"frequent_items\": {\"1\": {\"frequency\": 27962, \"value\": 1}, \"-1\": {\"frequency\": 4921, \"value\": -1}}, \"mean\": 0.7006964084785449}, \"selected_variable\": {\"name\": [\"<SArray>\"], \"dtype\": \"int\", \"view_component\": \"Categorical\", \"view_file\": \"sarray\", \"descriptives\": {\"rows\": 37892}, \"type\": \"SArray\", \"view_components\": [\"Numeric\", \"Categorical\"]}, \"histogram\": {\"progress\": 1.0, \"histogram\": {\"max\": 1.0, \"bins\": [4921, 0, 0, 0, 0, 0, 0, 0, 0, 0, 0, 27962], \"min\": -1.0}, \"min\": -1, \"complete\": 1, \"max\": 1}}, e);\n",
       "                });\n",
       "            })();\n",
       "        "
      ]
     },
     "metadata": {},
     "output_type": "display_data"
    }
   ],
   "source": [
    "loans['safe_loans'].show(view = 'Categorical')"
   ]
  },
  {
   "cell_type": "code",
   "execution_count": 56,
   "metadata": {
    "collapsed": true
   },
   "outputs": [],
   "source": [
    "features = ['grade',                     # grade of the loan\n",
    "            'sub_grade',                 # sub-grade of the loan\n",
    "            'short_emp',                 # one year or less of employment\n",
    "            'emp_length_num',            # number of years of employment\n",
    "            'home_ownership',            # home_ownership status: own, mortgage or rent\n",
    "            'dti',                       # debt to income ratio\n",
    "            'purpose',                   # the purpose of the loan\n",
    "            'term',                      # the term of the loan\n",
    "            'last_delinq_none',          # has borrower had a delinquincy\n",
    "            'last_major_derog_none',     # has borrower had 90 day or worse rating\n",
    "            'revol_util',                # percent of available credit being used\n",
    "            'total_rec_late_fee',        # total late fees received to day\n",
    "           ]\n",
    "\n",
    "target = 'safe_loans'                   # prediction target (y) (+1 means safe, -1 is risky)\n",
    "\n",
    "# Extract the feature columns and target column\n",
    "loans = loans[features + [target]]"
   ]
  },
  {
   "cell_type": "code",
   "execution_count": 57,
   "metadata": {
    "collapsed": false
   },
   "outputs": [
    {
     "name": "stdout",
     "output_type": "stream",
     "text": [
      "Number of safe loans  : 27962\n",
      "Number of risky loans : 4921\n"
     ]
    }
   ],
   "source": [
    "safe_loans_raw = loans[loans[target] == +1]\n",
    "risky_loans_raw = loans[loans[target] == -1]\n",
    "print \"Number of safe loans  : %s\" % len(safe_loans_raw)\n",
    "print \"Number of risky loans : %s\" % len(risky_loans_raw)"
   ]
  },
  {
   "cell_type": "code",
   "execution_count": 67,
   "metadata": {
    "collapsed": false
   },
   "outputs": [
    {
     "name": "stdout",
     "output_type": "stream",
     "text": [
      "Percentage of safe loans  : 0.850348204239\n",
      "Percentage of risky loans : 0.149651795761\n"
     ]
    }
   ],
   "source": [
    "total = (len(safe_loans_raw)+len(risky_loans_raw))\n",
    "print \"Percentage of safe loans  :\", len(safe_loans_raw) / float(total)\n",
    "print \"Percentage of risky loans :\", len(risky_loans_raw) / float(total)"
   ]
  },
  {
   "cell_type": "code",
   "execution_count": 68,
   "metadata": {
    "collapsed": true
   },
   "outputs": [],
   "source": [
    "# Since there are fewer risky loans than safe loans, find the ratio of the sizes\n",
    "# and use that percentage to undersample the safe loans.\n",
    "percentage = len(risky_loans_raw)/float(len(safe_loans_raw))\n",
    "\n",
    "risky_loans = risky_loans_raw\n",
    "safe_loans = safe_loans_raw.sample(percentage, seed=1)\n",
    "\n",
    "# Append the risky_loans with the downsampled version of safe_loans\n",
    "loans_data = risky_loans.append(safe_loans)"
   ]
  },
  {
   "cell_type": "code",
   "execution_count": 69,
   "metadata": {
    "collapsed": false
   },
   "outputs": [
    {
     "name": "stdout",
     "output_type": "stream",
     "text": [
      "Percentage of safe loans                 : 0.500912778905\n",
      "Percentage of risky loans                : 0.499087221095\n",
      "Total number of loans in our new dataset : 9860\n"
     ]
    }
   ],
   "source": [
    "print \"Percentage of safe loans                 :\", len(safe_loans) / float(len(loans_data))\n",
    "print \"Percentage of risky loans                :\", len(risky_loans) / float(len(loans_data))\n",
    "print \"Total number of loans in our new dataset :\", len(loans_data)"
   ]
  },
  {
   "cell_type": "code",
   "execution_count": 70,
   "metadata": {
    "collapsed": true
   },
   "outputs": [],
   "source": [
    "train_data, validation_data = loans_data.random_split(.8, seed=1)"
   ]
  },
  {
   "cell_type": "code",
   "execution_count": 71,
   "metadata": {
    "collapsed": false
   },
   "outputs": [
    {
     "data": {
      "text/html": [
       "<pre>WARNING: Detected extremely low variance for feature(s) 'last_major_derog_none' because all entries are nearly the same.\n",
       "Proceeding with model training using all features. If the model does not provide results of adequate quality, exclude the above mentioned feature(s) from the input dataset.</pre>"
      ],
      "text/plain": [
       "WARNING: Detected extremely low variance for feature(s) 'last_major_derog_none' because all entries are nearly the same.\n",
       "Proceeding with model training using all features. If the model does not provide results of adequate quality, exclude the above mentioned feature(s) from the input dataset."
      ]
     },
     "metadata": {},
     "output_type": "display_data"
    },
    {
     "data": {
      "text/html": [
       "<pre>Decision tree classifier:</pre>"
      ],
      "text/plain": [
       "Decision tree classifier:"
      ]
     },
     "metadata": {},
     "output_type": "display_data"
    },
    {
     "data": {
      "text/html": [
       "<pre>--------------------------------------------------------</pre>"
      ],
      "text/plain": [
       "--------------------------------------------------------"
      ]
     },
     "metadata": {},
     "output_type": "display_data"
    },
    {
     "data": {
      "text/html": [
       "<pre>Number of examples          : 7906</pre>"
      ],
      "text/plain": [
       "Number of examples          : 7906"
      ]
     },
     "metadata": {},
     "output_type": "display_data"
    },
    {
     "data": {
      "text/html": [
       "<pre>Number of classes           : 2</pre>"
      ],
      "text/plain": [
       "Number of classes           : 2"
      ]
     },
     "metadata": {},
     "output_type": "display_data"
    },
    {
     "data": {
      "text/html": [
       "<pre>Number of feature columns   : 12</pre>"
      ],
      "text/plain": [
       "Number of feature columns   : 12"
      ]
     },
     "metadata": {},
     "output_type": "display_data"
    },
    {
     "data": {
      "text/html": [
       "<pre>Number of unpacked features : 12</pre>"
      ],
      "text/plain": [
       "Number of unpacked features : 12"
      ]
     },
     "metadata": {},
     "output_type": "display_data"
    },
    {
     "data": {
      "text/html": [
       "<pre>+-----------+--------------+-------------------+-------------------+</pre>"
      ],
      "text/plain": [
       "+-----------+--------------+-------------------+-------------------+"
      ]
     },
     "metadata": {},
     "output_type": "display_data"
    },
    {
     "data": {
      "text/html": [
       "<pre>| Iteration | Elapsed Time | Training-accuracy | Training-log_loss |</pre>"
      ],
      "text/plain": [
       "| Iteration | Elapsed Time | Training-accuracy | Training-log_loss |"
      ]
     },
     "metadata": {},
     "output_type": "display_data"
    },
    {
     "data": {
      "text/html": [
       "<pre>+-----------+--------------+-------------------+-------------------+</pre>"
      ],
      "text/plain": [
       "+-----------+--------------+-------------------+-------------------+"
      ]
     },
     "metadata": {},
     "output_type": "display_data"
    },
    {
     "data": {
      "text/html": [
       "<pre>| 1         | 0.019273     | 0.682773          | 0.645689          |</pre>"
      ],
      "text/plain": [
       "| 1         | 0.019273     | 0.682773          | 0.645689          |"
      ]
     },
     "metadata": {},
     "output_type": "display_data"
    },
    {
     "data": {
      "text/html": [
       "<pre>+-----------+--------------+-------------------+-------------------+</pre>"
      ],
      "text/plain": [
       "+-----------+--------------+-------------------+-------------------+"
      ]
     },
     "metadata": {},
     "output_type": "display_data"
    }
   ],
   "source": [
    "decision_tree_model = graphlab.decision_tree_classifier.create(train_data, validation_set=None,\n",
    "                                target = target, features = features)"
   ]
  },
  {
   "cell_type": "code",
   "execution_count": 72,
   "metadata": {
    "collapsed": false
   },
   "outputs": [
    {
     "data": {
      "text/html": [
       "<pre>WARNING: Detected extremely low variance for feature(s) 'last_major_derog_none' because all entries are nearly the same.\n",
       "Proceeding with model training using all features. If the model does not provide results of adequate quality, exclude the above mentioned feature(s) from the input dataset.</pre>"
      ],
      "text/plain": [
       "WARNING: Detected extremely low variance for feature(s) 'last_major_derog_none' because all entries are nearly the same.\n",
       "Proceeding with model training using all features. If the model does not provide results of adequate quality, exclude the above mentioned feature(s) from the input dataset."
      ]
     },
     "metadata": {},
     "output_type": "display_data"
    },
    {
     "data": {
      "text/html": [
       "<pre>Decision tree classifier:</pre>"
      ],
      "text/plain": [
       "Decision tree classifier:"
      ]
     },
     "metadata": {},
     "output_type": "display_data"
    },
    {
     "data": {
      "text/html": [
       "<pre>--------------------------------------------------------</pre>"
      ],
      "text/plain": [
       "--------------------------------------------------------"
      ]
     },
     "metadata": {},
     "output_type": "display_data"
    },
    {
     "data": {
      "text/html": [
       "<pre>Number of examples          : 7906</pre>"
      ],
      "text/plain": [
       "Number of examples          : 7906"
      ]
     },
     "metadata": {},
     "output_type": "display_data"
    },
    {
     "data": {
      "text/html": [
       "<pre>Number of classes           : 2</pre>"
      ],
      "text/plain": [
       "Number of classes           : 2"
      ]
     },
     "metadata": {},
     "output_type": "display_data"
    },
    {
     "data": {
      "text/html": [
       "<pre>Number of feature columns   : 12</pre>"
      ],
      "text/plain": [
       "Number of feature columns   : 12"
      ]
     },
     "metadata": {},
     "output_type": "display_data"
    },
    {
     "data": {
      "text/html": [
       "<pre>Number of unpacked features : 12</pre>"
      ],
      "text/plain": [
       "Number of unpacked features : 12"
      ]
     },
     "metadata": {},
     "output_type": "display_data"
    },
    {
     "data": {
      "text/html": [
       "<pre>+-----------+--------------+-------------------+-------------------+</pre>"
      ],
      "text/plain": [
       "+-----------+--------------+-------------------+-------------------+"
      ]
     },
     "metadata": {},
     "output_type": "display_data"
    },
    {
     "data": {
      "text/html": [
       "<pre>| Iteration | Elapsed Time | Training-accuracy | Training-log_loss |</pre>"
      ],
      "text/plain": [
       "| Iteration | Elapsed Time | Training-accuracy | Training-log_loss |"
      ]
     },
     "metadata": {},
     "output_type": "display_data"
    },
    {
     "data": {
      "text/html": [
       "<pre>+-----------+--------------+-------------------+-------------------+</pre>"
      ],
      "text/plain": [
       "+-----------+--------------+-------------------+-------------------+"
      ]
     },
     "metadata": {},
     "output_type": "display_data"
    },
    {
     "data": {
      "text/html": [
       "<pre>| 1         | 0.011895     | 0.668986          | 0.660166          |</pre>"
      ],
      "text/plain": [
       "| 1         | 0.011895     | 0.668986          | 0.660166          |"
      ]
     },
     "metadata": {},
     "output_type": "display_data"
    },
    {
     "data": {
      "text/html": [
       "<pre>+-----------+--------------+-------------------+-------------------+</pre>"
      ],
      "text/plain": [
       "+-----------+--------------+-------------------+-------------------+"
      ]
     },
     "metadata": {},
     "output_type": "display_data"
    }
   ],
   "source": [
    "small_model = graphlab.decision_tree_classifier.create(train_data, validation_set=None,\n",
    "                   target = target, features = features, max_depth = 2)"
   ]
  },
  {
   "cell_type": "code",
   "execution_count": 73,
   "metadata": {
    "collapsed": false
   },
   "outputs": [
    {
     "data": {
      "application/javascript": [
       "$(\"head\").append($(\"<link/>\").attr({\n",
       "  rel:  \"stylesheet\",\n",
       "  type: \"text/css\",\n",
       "  href: \"//cdnjs.cloudflare.com/ajax/libs/font-awesome/4.1.0/css/font-awesome.min.css\"\n",
       "}));\n",
       "$(\"head\").append($(\"<link/>\").attr({\n",
       "  rel:  \"stylesheet\",\n",
       "  type: \"text/css\",\n",
       "  href: \"https://static.turi.com/products/graphlab-create/2.1/canvas/css/canvas.css\"\n",
       "}));\n",
       "\n",
       "            (function(){\n",
       "\n",
       "                var e = null;\n",
       "                if (typeof element == 'undefined') {\n",
       "                    var scripts = document.getElementsByTagName('script');\n",
       "                    var thisScriptTag = scripts[scripts.length-1];\n",
       "                    var parentDiv = thisScriptTag.parentNode;\n",
       "                    e = document.createElement('div');\n",
       "                    parentDiv.appendChild(e);\n",
       "                } else {\n",
       "                    e = element[0];\n",
       "                }\n",
       "\n",
       "                if (typeof requirejs !== 'undefined') {\n",
       "                    // disable load timeout; ipython_app.js is large and can take a while to load.\n",
       "                    requirejs.config({waitSeconds: 0});\n",
       "                }\n",
       "\n",
       "                require(['https://static.turi.com/products/graphlab-create/2.1/canvas/js/ipython_app.js'], function(IPythonApp){\n",
       "                    var app = new IPythonApp();\n",
       "                    app.attachView('sgraph','View', {\"edges_labels\": [\"yes\", \"no\", \"yes\", \"no\", \"yes\", \"no\"], \"selected_variable\": {\"name\": [\"<SGraph>\"], \"view_file\": \"sgraph\", \"view_component\": \"View\", \"view_params\": {\"elabel_hover\": false, \"vertex_positions\": null, \"h_offset\": 0.0, \"node_size\": 300, \"ecolor\": [0.37, 0.33, 0.33], \"elabel\": \"value\", \"arrows\": true, \"ewidth\": 1, \"vlabel\": \"__repr__\", \"highlight_color\": [0.69, 0.0, 0.498], \"vcolor\": [0.522, 0.741, 0.0], \"vlabel_hover\": false, \"highlight\": {\"0\": [0.69, 0.0, 0.48], \"3\": [1.0, 0.33, 0.0], \"4\": [0.039, 0.55, 0.77], \"5\": [0.039, 0.55, 0.77], \"6\": [0.039, 0.55, 0.77]}, \"v_offset\": 0.03}, \"view_components\": [\"View\"], \"type\": \"SGraph\", \"descriptives_links\": {\"edges\": \"edges\", \"vertices\": \"vertices\"}, \"descriptives\": {\"edges\": 6, \"vertices\": 7}}, \"positions\": null, \"error_type\": 0, \"vertices\": [5, 0, 2, 6, 3, 1, 4], \"vertices_labels\": [\"-0.235942\", \"term=60 months\", \"total_rec_late_fee<7.38875\", \"-0.529114\", \"0.162298\", \"total_rec_late_fee<7.340852\", \"-0.325\"], \"edges\": [[0, 2], [0, 1], [2, 5], [2, 6], [1, 3], [1, 4]], \"ipython\": true, \"error_msg\": \"\"}, e);\n",
       "                });\n",
       "            })();\n",
       "        "
      ]
     },
     "metadata": {},
     "output_type": "display_data"
    }
   ],
   "source": [
    "small_model.show(view=\"Tree\")"
   ]
  },
  {
   "cell_type": "code",
   "execution_count": 74,
   "metadata": {
    "collapsed": false
   },
   "outputs": [
    {
     "data": {
      "text/html": [
       "<div style=\"max-height:1000px;max-width:1500px;overflow:auto;\"><table frame=\"box\" rules=\"cols\">\n",
       "    <tr>\n",
       "        <th style=\"padding-left: 1em; padding-right: 1em; text-align: center\">grade</th>\n",
       "        <th style=\"padding-left: 1em; padding-right: 1em; text-align: center\">sub_grade</th>\n",
       "        <th style=\"padding-left: 1em; padding-right: 1em; text-align: center\">short_emp</th>\n",
       "        <th style=\"padding-left: 1em; padding-right: 1em; text-align: center\">emp_length_num</th>\n",
       "        <th style=\"padding-left: 1em; padding-right: 1em; text-align: center\">home_ownership</th>\n",
       "        <th style=\"padding-left: 1em; padding-right: 1em; text-align: center\">dti</th>\n",
       "        <th style=\"padding-left: 1em; padding-right: 1em; text-align: center\">purpose</th>\n",
       "        <th style=\"padding-left: 1em; padding-right: 1em; text-align: center\">term</th>\n",
       "        <th style=\"padding-left: 1em; padding-right: 1em; text-align: center\">last_delinq_none</th>\n",
       "    </tr>\n",
       "    <tr>\n",
       "        <td style=\"padding-left: 1em; padding-right: 1em; text-align: center; vertical-align: top\">A</td>\n",
       "        <td style=\"padding-left: 1em; padding-right: 1em; text-align: center; vertical-align: top\">A4</td>\n",
       "        <td style=\"padding-left: 1em; padding-right: 1em; text-align: center; vertical-align: top\">0</td>\n",
       "        <td style=\"padding-left: 1em; padding-right: 1em; text-align: center; vertical-align: top\">6</td>\n",
       "        <td style=\"padding-left: 1em; padding-right: 1em; text-align: center; vertical-align: top\">MORTGAGE</td>\n",
       "        <td style=\"padding-left: 1em; padding-right: 1em; text-align: center; vertical-align: top\">14.03</td>\n",
       "        <td style=\"padding-left: 1em; padding-right: 1em; text-align: center; vertical-align: top\">debt_consolidation</td>\n",
       "        <td style=\"padding-left: 1em; padding-right: 1em; text-align: center; vertical-align: top\">36 months</td>\n",
       "        <td style=\"padding-left: 1em; padding-right: 1em; text-align: center; vertical-align: top\">1</td>\n",
       "    </tr>\n",
       "    <tr>\n",
       "        <td style=\"padding-left: 1em; padding-right: 1em; text-align: center; vertical-align: top\">C</td>\n",
       "        <td style=\"padding-left: 1em; padding-right: 1em; text-align: center; vertical-align: top\">C5</td>\n",
       "        <td style=\"padding-left: 1em; padding-right: 1em; text-align: center; vertical-align: top\">0</td>\n",
       "        <td style=\"padding-left: 1em; padding-right: 1em; text-align: center; vertical-align: top\">8</td>\n",
       "        <td style=\"padding-left: 1em; padding-right: 1em; text-align: center; vertical-align: top\">RENT</td>\n",
       "        <td style=\"padding-left: 1em; padding-right: 1em; text-align: center; vertical-align: top\">6.35</td>\n",
       "        <td style=\"padding-left: 1em; padding-right: 1em; text-align: center; vertical-align: top\">credit_card</td>\n",
       "        <td style=\"padding-left: 1em; padding-right: 1em; text-align: center; vertical-align: top\">36 months</td>\n",
       "        <td style=\"padding-left: 1em; padding-right: 1em; text-align: center; vertical-align: top\">1</td>\n",
       "    </tr>\n",
       "    <tr>\n",
       "        <td style=\"padding-left: 1em; padding-right: 1em; text-align: center; vertical-align: top\">D</td>\n",
       "        <td style=\"padding-left: 1em; padding-right: 1em; text-align: center; vertical-align: top\">D2</td>\n",
       "        <td style=\"padding-left: 1em; padding-right: 1em; text-align: center; vertical-align: top\">0</td>\n",
       "        <td style=\"padding-left: 1em; padding-right: 1em; text-align: center; vertical-align: top\">3</td>\n",
       "        <td style=\"padding-left: 1em; padding-right: 1em; text-align: center; vertical-align: top\">RENT</td>\n",
       "        <td style=\"padding-left: 1em; padding-right: 1em; text-align: center; vertical-align: top\">13.97</td>\n",
       "        <td style=\"padding-left: 1em; padding-right: 1em; text-align: center; vertical-align: top\">other</td>\n",
       "        <td style=\"padding-left: 1em; padding-right: 1em; text-align: center; vertical-align: top\">60 months</td>\n",
       "        <td style=\"padding-left: 1em; padding-right: 1em; text-align: center; vertical-align: top\">0</td>\n",
       "    </tr>\n",
       "    <tr>\n",
       "        <td style=\"padding-left: 1em; padding-right: 1em; text-align: center; vertical-align: top\">A</td>\n",
       "        <td style=\"padding-left: 1em; padding-right: 1em; text-align: center; vertical-align: top\">A5</td>\n",
       "        <td style=\"padding-left: 1em; padding-right: 1em; text-align: center; vertical-align: top\">0</td>\n",
       "        <td style=\"padding-left: 1em; padding-right: 1em; text-align: center; vertical-align: top\">11</td>\n",
       "        <td style=\"padding-left: 1em; padding-right: 1em; text-align: center; vertical-align: top\">MORTGAGE</td>\n",
       "        <td style=\"padding-left: 1em; padding-right: 1em; text-align: center; vertical-align: top\">16.33</td>\n",
       "        <td style=\"padding-left: 1em; padding-right: 1em; text-align: center; vertical-align: top\">debt_consolidation</td>\n",
       "        <td style=\"padding-left: 1em; padding-right: 1em; text-align: center; vertical-align: top\">36 months</td>\n",
       "        <td style=\"padding-left: 1em; padding-right: 1em; text-align: center; vertical-align: top\">1</td>\n",
       "    </tr>\n",
       "</table>\n",
       "<table frame=\"box\" rules=\"cols\">\n",
       "    <tr>\n",
       "        <th style=\"padding-left: 1em; padding-right: 1em; text-align: center\">last_major_derog_none</th>\n",
       "        <th style=\"padding-left: 1em; padding-right: 1em; text-align: center\">revol_util</th>\n",
       "        <th style=\"padding-left: 1em; padding-right: 1em; text-align: center\">total_rec_late_fee</th>\n",
       "        <th style=\"padding-left: 1em; padding-right: 1em; text-align: center\">safe_loans</th>\n",
       "    </tr>\n",
       "    <tr>\n",
       "        <td style=\"padding-left: 1em; padding-right: 1em; text-align: center; vertical-align: top\">1</td>\n",
       "        <td style=\"padding-left: 1em; padding-right: 1em; text-align: center; vertical-align: top\">27.4</td>\n",
       "        <td style=\"padding-left: 1em; padding-right: 1em; text-align: center; vertical-align: top\">0.0</td>\n",
       "        <td style=\"padding-left: 1em; padding-right: 1em; text-align: center; vertical-align: top\">1</td>\n",
       "    </tr>\n",
       "    <tr>\n",
       "        <td style=\"padding-left: 1em; padding-right: 1em; text-align: center; vertical-align: top\">1</td>\n",
       "        <td style=\"padding-left: 1em; padding-right: 1em; text-align: center; vertical-align: top\">60.5</td>\n",
       "        <td style=\"padding-left: 1em; padding-right: 1em; text-align: center; vertical-align: top\">0.0</td>\n",
       "        <td style=\"padding-left: 1em; padding-right: 1em; text-align: center; vertical-align: top\">1</td>\n",
       "    </tr>\n",
       "    <tr>\n",
       "        <td style=\"padding-left: 1em; padding-right: 1em; text-align: center; vertical-align: top\">1</td>\n",
       "        <td style=\"padding-left: 1em; padding-right: 1em; text-align: center; vertical-align: top\">59.5</td>\n",
       "        <td style=\"padding-left: 1em; padding-right: 1em; text-align: center; vertical-align: top\">0.0</td>\n",
       "        <td style=\"padding-left: 1em; padding-right: 1em; text-align: center; vertical-align: top\">-1</td>\n",
       "    </tr>\n",
       "    <tr>\n",
       "        <td style=\"padding-left: 1em; padding-right: 1em; text-align: center; vertical-align: top\">1</td>\n",
       "        <td style=\"padding-left: 1em; padding-right: 1em; text-align: center; vertical-align: top\">62.1</td>\n",
       "        <td style=\"padding-left: 1em; padding-right: 1em; text-align: center; vertical-align: top\">0.0</td>\n",
       "        <td style=\"padding-left: 1em; padding-right: 1em; text-align: center; vertical-align: top\">-1</td>\n",
       "    </tr>\n",
       "</table>\n",
       "[4 rows x 13 columns]<br/>\n",
       "</div>"
      ],
      "text/plain": [
       "Columns:\n",
       "\tgrade\tstr\n",
       "\tsub_grade\tstr\n",
       "\tshort_emp\tint\n",
       "\temp_length_num\tint\n",
       "\thome_ownership\tstr\n",
       "\tdti\tfloat\n",
       "\tpurpose\tstr\n",
       "\tterm\tstr\n",
       "\tlast_delinq_none\tint\n",
       "\tlast_major_derog_none\tint\n",
       "\trevol_util\tfloat\n",
       "\ttotal_rec_late_fee\tfloat\n",
       "\tsafe_loans\tint\n",
       "\n",
       "Rows: 4\n",
       "\n",
       "Data:\n",
       "+-------+-----------+-----------+----------------+----------------+-------+\n",
       "| grade | sub_grade | short_emp | emp_length_num | home_ownership |  dti  |\n",
       "+-------+-----------+-----------+----------------+----------------+-------+\n",
       "|   A   |     A4    |     0     |       6        |    MORTGAGE    | 14.03 |\n",
       "|   C   |     C5    |     0     |       8        |      RENT      |  6.35 |\n",
       "|   D   |     D2    |     0     |       3        |      RENT      | 13.97 |\n",
       "|   A   |     A5    |     0     |       11       |    MORTGAGE    | 16.33 |\n",
       "+-------+-----------+-----------+----------------+----------------+-------+\n",
       "+--------------------+-----------+------------------+-----------------------+\n",
       "|      purpose       |    term   | last_delinq_none | last_major_derog_none |\n",
       "+--------------------+-----------+------------------+-----------------------+\n",
       "| debt_consolidation | 36 months |        1         |           1           |\n",
       "|    credit_card     | 36 months |        1         |           1           |\n",
       "|       other        | 60 months |        0         |           1           |\n",
       "| debt_consolidation | 36 months |        1         |           1           |\n",
       "+--------------------+-----------+------------------+-----------------------+\n",
       "+------------+--------------------+------------+\n",
       "| revol_util | total_rec_late_fee | safe_loans |\n",
       "+------------+--------------------+------------+\n",
       "|    27.4    |        0.0         |     1      |\n",
       "|    60.5    |        0.0         |     1      |\n",
       "|    59.5    |        0.0         |     -1     |\n",
       "|    62.1    |        0.0         |     -1     |\n",
       "+------------+--------------------+------------+\n",
       "[4 rows x 13 columns]"
      ]
     },
     "execution_count": 74,
     "metadata": {},
     "output_type": "execute_result"
    }
   ],
   "source": [
    "validation_safe_loans = validation_data[validation_data[target] == 1]\n",
    "validation_risky_loans = validation_data[validation_data[target] == -1]\n",
    "\n",
    "sample_validation_data_risky = validation_risky_loans[0:2]\n",
    "sample_validation_data_safe = validation_safe_loans[0:2]\n",
    "\n",
    "sample_validation_data = sample_validation_data_safe.append(sample_validation_data_risky)\n",
    "sample_validation_data"
   ]
  },
  {
   "cell_type": "code",
   "execution_count": 75,
   "metadata": {
    "collapsed": false
   },
   "outputs": [
    {
     "data": {
      "text/html": [
       "<pre>WARNING: The number of feature dimensions in this problem is very large in comparison with the number of examples. Unless an appropriate regularization value is set, this model may not provide accurate predictions for a validation/test set.</pre>"
      ],
      "text/plain": [
       "WARNING: The number of feature dimensions in this problem is very large in comparison with the number of examples. Unless an appropriate regularization value is set, this model may not provide accurate predictions for a validation/test set."
      ]
     },
     "metadata": {},
     "output_type": "display_data"
    },
    {
     "data": {
      "text/html": [
       "<pre>WARNING: Detected extremely low variance for feature(s) 'short_emp', 'last_major_derog_none', 'total_rec_late_fee' because all entries are nearly the same.\n",
       "Proceeding with model training using all features. If the model does not provide results of adequate quality, exclude the above mentioned feature(s) from the input dataset.</pre>"
      ],
      "text/plain": [
       "WARNING: Detected extremely low variance for feature(s) 'short_emp', 'last_major_derog_none', 'total_rec_late_fee' because all entries are nearly the same.\n",
       "Proceeding with model training using all features. If the model does not provide results of adequate quality, exclude the above mentioned feature(s) from the input dataset."
      ]
     },
     "metadata": {},
     "output_type": "display_data"
    },
    {
     "data": {
      "text/html": [
       "<pre>Decision tree classifier:</pre>"
      ],
      "text/plain": [
       "Decision tree classifier:"
      ]
     },
     "metadata": {},
     "output_type": "display_data"
    },
    {
     "data": {
      "text/html": [
       "<pre>--------------------------------------------------------</pre>"
      ],
      "text/plain": [
       "--------------------------------------------------------"
      ]
     },
     "metadata": {},
     "output_type": "display_data"
    },
    {
     "data": {
      "text/html": [
       "<pre>Number of examples          : 4</pre>"
      ],
      "text/plain": [
       "Number of examples          : 4"
      ]
     },
     "metadata": {},
     "output_type": "display_data"
    },
    {
     "data": {
      "text/html": [
       "<pre>Number of classes           : 2</pre>"
      ],
      "text/plain": [
       "Number of classes           : 2"
      ]
     },
     "metadata": {},
     "output_type": "display_data"
    },
    {
     "data": {
      "text/html": [
       "<pre>Number of feature columns   : 12</pre>"
      ],
      "text/plain": [
       "Number of feature columns   : 12"
      ]
     },
     "metadata": {},
     "output_type": "display_data"
    },
    {
     "data": {
      "text/html": [
       "<pre>Number of unpacked features : 12</pre>"
      ],
      "text/plain": [
       "Number of unpacked features : 12"
      ]
     },
     "metadata": {},
     "output_type": "display_data"
    },
    {
     "data": {
      "text/html": [
       "<pre>+-----------+--------------+-------------------+-------------------+</pre>"
      ],
      "text/plain": [
       "+-----------+--------------+-------------------+-------------------+"
      ]
     },
     "metadata": {},
     "output_type": "display_data"
    },
    {
     "data": {
      "text/html": [
       "<pre>| Iteration | Elapsed Time | Training-accuracy | Training-log_loss |</pre>"
      ],
      "text/plain": [
       "| Iteration | Elapsed Time | Training-accuracy | Training-log_loss |"
      ]
     },
     "metadata": {},
     "output_type": "display_data"
    },
    {
     "data": {
      "text/html": [
       "<pre>+-----------+--------------+-------------------+-------------------+</pre>"
      ],
      "text/plain": [
       "+-----------+--------------+-------------------+-------------------+"
      ]
     },
     "metadata": {},
     "output_type": "display_data"
    },
    {
     "data": {
      "text/html": [
       "<pre>| 1         | 0.008014     | 1.000000          | 0.616542          |</pre>"
      ],
      "text/plain": [
       "| 1         | 0.008014     | 1.000000          | 0.616542          |"
      ]
     },
     "metadata": {},
     "output_type": "display_data"
    },
    {
     "data": {
      "text/html": [
       "<pre>+-----------+--------------+-------------------+-------------------+</pre>"
      ],
      "text/plain": [
       "+-----------+--------------+-------------------+-------------------+"
      ]
     },
     "metadata": {},
     "output_type": "display_data"
    }
   ],
   "source": [
    "test_model = graphlab.decision_tree_classifier.create(sample_validation_data, validation_set=None,\n",
    "                   target = target, features = features, max_depth = 2)"
   ]
  },
  {
   "cell_type": "code",
   "execution_count": 79,
   "metadata": {
    "collapsed": false
   },
   "outputs": [
    {
     "name": "stdout",
     "output_type": "stream",
     "text": [
      "[0.529964029788971, 0.529964029788971, 0.4501660168170929, 0.4501660168170929]\n",
      "[1, 1, -1, -1]\n"
     ]
    }
   ],
   "source": [
    "prob = test_model.predict(sample_validation_data, output_type='probability')\n",
    "score = test_model.predict(sample_validation_data)\n",
    "\n",
    "print prob\n",
    "print score"
   ]
  },
  {
   "cell_type": "code",
   "execution_count": 80,
   "metadata": {
    "collapsed": false
   },
   "outputs": [
    {
     "data": {
      "text/plain": [
       "1.0"
      ]
     },
     "execution_count": 80,
     "metadata": {},
     "output_type": "execute_result"
    }
   ],
   "source": [
    "(sample_validation_data['safe_loans'] == test_model.predict(sample_validation_data)).sum()/float(len(sample_validation_data))"
   ]
  },
  {
   "cell_type": "code",
   "execution_count": 82,
   "metadata": {
    "collapsed": false
   },
   "outputs": [
    {
     "name": "stdout",
     "output_type": "stream",
     "text": [
      "[0.540485680103302, 0.540485680103302, 0.4412866234779358, 0.540485680103302]\n"
     ]
    }
   ],
   "source": [
    "prob_small = small_model.predict(sample_validation_data, output_type='probability')\n",
    "print prob_small"
   ]
  },
  {
   "cell_type": "code",
   "execution_count": 83,
   "metadata": {
    "collapsed": false
   },
   "outputs": [
    {
     "data": {
      "text/plain": [
       "{'dti': 6.35,\n",
       " 'emp_length_num': 8,\n",
       " 'grade': 'C',\n",
       " 'home_ownership': 'RENT',\n",
       " 'last_delinq_none': 1,\n",
       " 'last_major_derog_none': 1,\n",
       " 'purpose': 'credit_card',\n",
       " 'revol_util': 60.5,\n",
       " 'safe_loans': 1,\n",
       " 'short_emp': 0,\n",
       " 'sub_grade': 'C5',\n",
       " 'term': '36 months',\n",
       " 'total_rec_late_fee': 0.0}"
      ]
     },
     "execution_count": 83,
     "metadata": {},
     "output_type": "execute_result"
    }
   ],
   "source": [
    "sample_validation_data[1]"
   ]
  },
  {
   "cell_type": "code",
   "execution_count": 84,
   "metadata": {
    "collapsed": false
   },
   "outputs": [
    {
     "data": {
      "application/javascript": [
       "$(\"head\").append($(\"<link/>\").attr({\n",
       "  rel:  \"stylesheet\",\n",
       "  type: \"text/css\",\n",
       "  href: \"//cdnjs.cloudflare.com/ajax/libs/font-awesome/4.1.0/css/font-awesome.min.css\"\n",
       "}));\n",
       "$(\"head\").append($(\"<link/>\").attr({\n",
       "  rel:  \"stylesheet\",\n",
       "  type: \"text/css\",\n",
       "  href: \"https://static.turi.com/products/graphlab-create/2.1/canvas/css/canvas.css\"\n",
       "}));\n",
       "\n",
       "            (function(){\n",
       "\n",
       "                var e = null;\n",
       "                if (typeof element == 'undefined') {\n",
       "                    var scripts = document.getElementsByTagName('script');\n",
       "                    var thisScriptTag = scripts[scripts.length-1];\n",
       "                    var parentDiv = thisScriptTag.parentNode;\n",
       "                    e = document.createElement('div');\n",
       "                    parentDiv.appendChild(e);\n",
       "                } else {\n",
       "                    e = element[0];\n",
       "                }\n",
       "\n",
       "                if (typeof requirejs !== 'undefined') {\n",
       "                    // disable load timeout; ipython_app.js is large and can take a while to load.\n",
       "                    requirejs.config({waitSeconds: 0});\n",
       "                }\n",
       "\n",
       "                require(['https://static.turi.com/products/graphlab-create/2.1/canvas/js/ipython_app.js'], function(IPythonApp){\n",
       "                    var app = new IPythonApp();\n",
       "                    app.attachView('sgraph','View', {\"edges_labels\": [\"yes\", \"no\", \"yes\", \"no\", \"yes\", \"no\"], \"selected_variable\": {\"name\": [\"<SGraph>\"], \"view_file\": \"sgraph\", \"view_component\": \"View\", \"view_params\": {\"elabel_hover\": false, \"vertex_positions\": null, \"h_offset\": 0.0, \"node_size\": 300, \"ecolor\": [0.37, 0.33, 0.33], \"elabel\": \"value\", \"arrows\": true, \"ewidth\": 1, \"vlabel\": \"__repr__\", \"highlight_color\": [0.69, 0.0, 0.498], \"vcolor\": [0.522, 0.741, 0.0], \"vlabel_hover\": false, \"highlight\": {\"0\": [0.69, 0.0, 0.48], \"3\": [1.0, 0.33, 0.0], \"4\": [0.039, 0.55, 0.77], \"5\": [0.039, 0.55, 0.77], \"6\": [0.039, 0.55, 0.77]}, \"v_offset\": 0.03}, \"view_components\": [\"View\"], \"type\": \"SGraph\", \"descriptives_links\": {\"edges\": \"edges\", \"vertices\": \"vertices\"}, \"descriptives\": {\"edges\": 6, \"vertices\": 7}}, \"positions\": null, \"error_type\": 0, \"vertices\": [5, 0, 2, 6, 3, 1, 4], \"vertices_labels\": [\"-0.235942\", \"term=60 months\", \"total_rec_late_fee<7.38875\", \"-0.529114\", \"0.162298\", \"total_rec_late_fee<7.340852\", \"-0.325\"], \"edges\": [[0, 2], [0, 1], [2, 5], [2, 6], [1, 3], [1, 4]], \"ipython\": true, \"error_msg\": \"\"}, e);\n",
       "                });\n",
       "            })();\n",
       "        "
      ]
     },
     "metadata": {},
     "output_type": "display_data"
    }
   ],
   "source": [
    "small_model.show(view=\"Tree\")"
   ]
  },
  {
   "cell_type": "code",
   "execution_count": 85,
   "metadata": {
    "collapsed": false
   },
   "outputs": [
    {
     "data": {
      "text/plain": [
       "dtype: int\n",
       "Rows: 1\n",
       "[1]"
      ]
     },
     "execution_count": 85,
     "metadata": {},
     "output_type": "execute_result"
    }
   ],
   "source": [
    "small_model.predict(sample_validation_data[1])"
   ]
  },
  {
   "cell_type": "code",
   "execution_count": 87,
   "metadata": {
    "collapsed": false
   },
   "outputs": [
    {
     "name": "stdout",
     "output_type": "stream",
     "text": [
      "small model on the train data:  0.668985580572\n",
      "decision model on the train data:  0.682772577789\n"
     ]
    }
   ],
   "source": [
    "print \"small model on the train data: \", small_model.evaluate(train_data)['accuracy']\n",
    "print \"decision model on the train data: \", decision_tree_model.evaluate(train_data)['accuracy']"
   ]
  },
  {
   "cell_type": "code",
   "execution_count": 88,
   "metadata": {
    "collapsed": false
   },
   "outputs": [
    {
     "name": "stdout",
     "output_type": "stream",
     "text": [
      "small model on the validation data:  0.664278403275\n",
      "decision model on the validation data:  0.673490276356\n"
     ]
    }
   ],
   "source": [
    "print \"small model on the validation data: \", small_model.evaluate(validation_data)['accuracy']\n",
    "print \"decision model on the validation data: \", decision_tree_model.evaluate(validation_data)['accuracy']"
   ]
  },
  {
   "cell_type": "code",
   "execution_count": 89,
   "metadata": {
    "collapsed": false
   },
   "outputs": [
    {
     "data": {
      "text/html": [
       "<pre>WARNING: Detected extremely low variance for feature(s) 'last_major_derog_none' because all entries are nearly the same.\n",
       "Proceeding with model training using all features. If the model does not provide results of adequate quality, exclude the above mentioned feature(s) from the input dataset.</pre>"
      ],
      "text/plain": [
       "WARNING: Detected extremely low variance for feature(s) 'last_major_derog_none' because all entries are nearly the same.\n",
       "Proceeding with model training using all features. If the model does not provide results of adequate quality, exclude the above mentioned feature(s) from the input dataset."
      ]
     },
     "metadata": {},
     "output_type": "display_data"
    },
    {
     "data": {
      "text/html": [
       "<pre>Decision tree classifier:</pre>"
      ],
      "text/plain": [
       "Decision tree classifier:"
      ]
     },
     "metadata": {},
     "output_type": "display_data"
    },
    {
     "data": {
      "text/html": [
       "<pre>--------------------------------------------------------</pre>"
      ],
      "text/plain": [
       "--------------------------------------------------------"
      ]
     },
     "metadata": {},
     "output_type": "display_data"
    },
    {
     "data": {
      "text/html": [
       "<pre>Number of examples          : 7906</pre>"
      ],
      "text/plain": [
       "Number of examples          : 7906"
      ]
     },
     "metadata": {},
     "output_type": "display_data"
    },
    {
     "data": {
      "text/html": [
       "<pre>Number of classes           : 2</pre>"
      ],
      "text/plain": [
       "Number of classes           : 2"
      ]
     },
     "metadata": {},
     "output_type": "display_data"
    },
    {
     "data": {
      "text/html": [
       "<pre>Number of feature columns   : 12</pre>"
      ],
      "text/plain": [
       "Number of feature columns   : 12"
      ]
     },
     "metadata": {},
     "output_type": "display_data"
    },
    {
     "data": {
      "text/html": [
       "<pre>Number of unpacked features : 12</pre>"
      ],
      "text/plain": [
       "Number of unpacked features : 12"
      ]
     },
     "metadata": {},
     "output_type": "display_data"
    },
    {
     "data": {
      "text/html": [
       "<pre>+-----------+--------------+-------------------+-------------------+</pre>"
      ],
      "text/plain": [
       "+-----------+--------------+-------------------+-------------------+"
      ]
     },
     "metadata": {},
     "output_type": "display_data"
    },
    {
     "data": {
      "text/html": [
       "<pre>| Iteration | Elapsed Time | Training-accuracy | Training-log_loss |</pre>"
      ],
      "text/plain": [
       "| Iteration | Elapsed Time | Training-accuracy | Training-log_loss |"
      ]
     },
     "metadata": {},
     "output_type": "display_data"
    },
    {
     "data": {
      "text/html": [
       "<pre>+-----------+--------------+-------------------+-------------------+</pre>"
      ],
      "text/plain": [
       "+-----------+--------------+-------------------+-------------------+"
      ]
     },
     "metadata": {},
     "output_type": "display_data"
    },
    {
     "data": {
      "text/html": [
       "<pre>| 1         | 0.039577     | 0.734758          | 0.625809          |</pre>"
      ],
      "text/plain": [
       "| 1         | 0.039577     | 0.734758          | 0.625809          |"
      ]
     },
     "metadata": {},
     "output_type": "display_data"
    },
    {
     "data": {
      "text/html": [
       "<pre>+-----------+--------------+-------------------+-------------------+</pre>"
      ],
      "text/plain": [
       "+-----------+--------------+-------------------+-------------------+"
      ]
     },
     "metadata": {},
     "output_type": "display_data"
    }
   ],
   "source": [
    "big_model = graphlab.decision_tree_classifier.create(train_data, validation_set=None,\n",
    "                   target = target, features = features, max_depth = 10)"
   ]
  },
  {
   "cell_type": "code",
   "execution_count": 90,
   "metadata": {
    "collapsed": false
   },
   "outputs": [
    {
     "name": "stdout",
     "output_type": "stream",
     "text": [
      "big model on the train data:  0.734758411333\n",
      "big model on the validation data:  0.646878198567\n"
     ]
    }
   ],
   "source": [
    "print \"big model on the train data: \", big_model.evaluate(train_data)['accuracy']\n",
    "print \"big model on the validation data: \", big_model.evaluate(validation_data)['accuracy']"
   ]
  },
  {
   "cell_type": "markdown",
   "metadata": {},
   "source": [
    "* **False negatives**: Loans that were actually safe but were predicted to be risky.\n",
    "* **False positives**: Loans that were actually risky but were predicted to be safe."
   ]
  },
  {
   "cell_type": "code",
   "execution_count": 91,
   "metadata": {
    "collapsed": true
   },
   "outputs": [],
   "source": [
    "predictions = decision_tree_model.predict(validation_data)"
   ]
  },
  {
   "cell_type": "code",
   "execution_count": 96,
   "metadata": {
    "collapsed": false
   },
   "outputs": [
    {
     "name": "stdout",
     "output_type": "stream",
     "text": [
      "false positive:  459\n",
      "false negative:  179\n"
     ]
    }
   ],
   "source": [
    "sum_false_positive = (validation_data[validation_data['safe_loans'] != predictions]['safe_loans'] == -1).sum()\n",
    "sum_false_negative = (validation_data[validation_data['safe_loans'] != predictions]['safe_loans'] == +1).sum()\n",
    "\n",
    "print \"false positive: \", sum_false_positive\n",
    "print \"false negative: \", sum_false_negative"
   ]
  },
  {
   "cell_type": "code",
   "execution_count": 99,
   "metadata": {
    "collapsed": false
   },
   "outputs": [
    {
     "name": "stdout",
     "output_type": "stream",
     "text": [
      "10970000\n"
     ]
    }
   ],
   "source": [
    "total_cost = sum_false_positive*20000 + sum_false_negative*10000\n",
    "print total_cost"
   ]
  },
  {
   "cell_type": "code",
   "execution_count": null,
   "metadata": {
    "collapsed": true
   },
   "outputs": [],
   "source": []
  }
 ],
 "metadata": {
  "kernelspec": {
   "display_name": "Python 2",
   "language": "python",
   "name": "python2"
  },
  "language_info": {
   "codemirror_mode": {
    "name": "ipython",
    "version": 2
   },
   "file_extension": ".py",
   "mimetype": "text/x-python",
   "name": "python",
   "nbconvert_exporter": "python",
   "pygments_lexer": "ipython2",
   "version": "2.7.12"
  }
 },
 "nbformat": 4,
 "nbformat_minor": 1
}
