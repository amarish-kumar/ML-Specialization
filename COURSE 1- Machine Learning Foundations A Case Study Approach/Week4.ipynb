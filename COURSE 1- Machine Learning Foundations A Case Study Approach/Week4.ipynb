{
 "cells": [
  {
   "cell_type": "code",
   "execution_count": 4,
   "metadata": {
    "collapsed": false
   },
   "outputs": [],
   "source": [
    "import graphlab\n",
    "graphlab.set_runtime_config('GRAPHLAB_DEFAULT_NUM_PYLAMBDA_WORKERS', 4)\n",
    "\n",
    "people = graphlab.SFrame('people_wiki.gl/')"
   ]
  },
  {
   "cell_type": "code",
   "execution_count": 39,
   "metadata": {
    "collapsed": false
   },
   "outputs": [
    {
     "data": {
      "text/html": [
       "<pre>Starting brute force nearest neighbors model training.</pre>"
      ],
      "text/plain": [
       "Starting brute force nearest neighbors model training."
      ]
     },
     "metadata": {},
     "output_type": "display_data"
    },
    {
     "data": {
      "text/html": [
       "<pre>Starting pairwise querying.</pre>"
      ],
      "text/plain": [
       "Starting pairwise querying."
      ]
     },
     "metadata": {},
     "output_type": "display_data"
    },
    {
     "data": {
      "text/html": [
       "<pre>+--------------+---------+-------------+--------------+</pre>"
      ],
      "text/plain": [
       "+--------------+---------+-------------+--------------+"
      ]
     },
     "metadata": {},
     "output_type": "display_data"
    },
    {
     "data": {
      "text/html": [
       "<pre>| Query points | # Pairs | % Complete. | Elapsed Time |</pre>"
      ],
      "text/plain": [
       "| Query points | # Pairs | % Complete. | Elapsed Time |"
      ]
     },
     "metadata": {},
     "output_type": "display_data"
    },
    {
     "data": {
      "text/html": [
       "<pre>+--------------+---------+-------------+--------------+</pre>"
      ],
      "text/plain": [
       "+--------------+---------+-------------+--------------+"
      ]
     },
     "metadata": {},
     "output_type": "display_data"
    },
    {
     "data": {
      "text/html": [
       "<pre>| 0            | 1       | 0.00169288  | 42.085ms     |</pre>"
      ],
      "text/plain": [
       "| 0            | 1       | 0.00169288  | 42.085ms     |"
      ]
     },
     "metadata": {},
     "output_type": "display_data"
    },
    {
     "data": {
      "text/html": [
       "<pre>| Done         |         | 100         | 1.02s        |</pre>"
      ],
      "text/plain": [
       "| Done         |         | 100         | 1.02s        |"
      ]
     },
     "metadata": {},
     "output_type": "display_data"
    },
    {
     "data": {
      "text/html": [
       "<pre>+--------------+---------+-------------+--------------+</pre>"
      ],
      "text/plain": [
       "+--------------+---------+-------------+--------------+"
      ]
     },
     "metadata": {},
     "output_type": "display_data"
    },
    {
     "data": {
      "text/html": [
       "<div style=\"max-height:1000px;max-width:1500px;overflow:auto;\"><table frame=\"box\" rules=\"cols\">\n",
       "    <tr>\n",
       "        <th style=\"padding-left: 1em; padding-right: 1em; text-align: center\">query_label</th>\n",
       "        <th style=\"padding-left: 1em; padding-right: 1em; text-align: center\">reference_label</th>\n",
       "        <th style=\"padding-left: 1em; padding-right: 1em; text-align: center\">distance</th>\n",
       "        <th style=\"padding-left: 1em; padding-right: 1em; text-align: center\">rank</th>\n",
       "    </tr>\n",
       "    <tr>\n",
       "        <td style=\"padding-left: 1em; padding-right: 1em; text-align: center; vertical-align: top\">0</td>\n",
       "        <td style=\"padding-left: 1em; padding-right: 1em; text-align: center; vertical-align: top\">Barack Obama</td>\n",
       "        <td style=\"padding-left: 1em; padding-right: 1em; text-align: center; vertical-align: top\">0.0</td>\n",
       "        <td style=\"padding-left: 1em; padding-right: 1em; text-align: center; vertical-align: top\">1</td>\n",
       "    </tr>\n",
       "    <tr>\n",
       "        <td style=\"padding-left: 1em; padding-right: 1em; text-align: center; vertical-align: top\">0</td>\n",
       "        <td style=\"padding-left: 1em; padding-right: 1em; text-align: center; vertical-align: top\">Joe Biden</td>\n",
       "        <td style=\"padding-left: 1em; padding-right: 1em; text-align: center; vertical-align: top\">0.794117647059</td>\n",
       "        <td style=\"padding-left: 1em; padding-right: 1em; text-align: center; vertical-align: top\">2</td>\n",
       "    </tr>\n",
       "    <tr>\n",
       "        <td style=\"padding-left: 1em; padding-right: 1em; text-align: center; vertical-align: top\">0</td>\n",
       "        <td style=\"padding-left: 1em; padding-right: 1em; text-align: center; vertical-align: top\">Joe Lieberman</td>\n",
       "        <td style=\"padding-left: 1em; padding-right: 1em; text-align: center; vertical-align: top\">0.794685990338</td>\n",
       "        <td style=\"padding-left: 1em; padding-right: 1em; text-align: center; vertical-align: top\">3</td>\n",
       "    </tr>\n",
       "    <tr>\n",
       "        <td style=\"padding-left: 1em; padding-right: 1em; text-align: center; vertical-align: top\">0</td>\n",
       "        <td style=\"padding-left: 1em; padding-right: 1em; text-align: center; vertical-align: top\">Kelly Ayotte</td>\n",
       "        <td style=\"padding-left: 1em; padding-right: 1em; text-align: center; vertical-align: top\">0.811989100817</td>\n",
       "        <td style=\"padding-left: 1em; padding-right: 1em; text-align: center; vertical-align: top\">4</td>\n",
       "    </tr>\n",
       "    <tr>\n",
       "        <td style=\"padding-left: 1em; padding-right: 1em; text-align: center; vertical-align: top\">0</td>\n",
       "        <td style=\"padding-left: 1em; padding-right: 1em; text-align: center; vertical-align: top\">Bill Clinton</td>\n",
       "        <td style=\"padding-left: 1em; padding-right: 1em; text-align: center; vertical-align: top\">0.813852813853</td>\n",
       "        <td style=\"padding-left: 1em; padding-right: 1em; text-align: center; vertical-align: top\">5</td>\n",
       "    </tr>\n",
       "</table>\n",
       "[5 rows x 4 columns]<br/>\n",
       "</div>"
      ],
      "text/plain": [
       "Columns:\n",
       "\tquery_label\tint\n",
       "\treference_label\tstr\n",
       "\tdistance\tfloat\n",
       "\trank\tint\n",
       "\n",
       "Rows: 5\n",
       "\n",
       "Data:\n",
       "+-------------+-----------------+----------------+------+\n",
       "| query_label | reference_label |    distance    | rank |\n",
       "+-------------+-----------------+----------------+------+\n",
       "|      0      |   Barack Obama  |      0.0       |  1   |\n",
       "|      0      |    Joe Biden    | 0.794117647059 |  2   |\n",
       "|      0      |  Joe Lieberman  | 0.794685990338 |  3   |\n",
       "|      0      |   Kelly Ayotte  | 0.811989100817 |  4   |\n",
       "|      0      |   Bill Clinton  | 0.813852813853 |  5   |\n",
       "+-------------+-----------------+----------------+------+\n",
       "[5 rows x 4 columns]"
      ]
     },
     "execution_count": 39,
     "metadata": {},
     "output_type": "execute_result"
    }
   ],
   "source": [
    "#to explore the data set\n",
    "obama = people[people['name'] == 'Barack Obama']\n",
    "\n",
    "#to get the word counts for an article\n",
    "obama['word_count'] = graphlab.text_analytics.count_words(obama['text'])\n",
    "\n",
    "#stack-takes one column and stacks on top of other\n",
    "obama_word_count_table = obama[['word_count']].stack('word_count', new_column_name = ['word', 'count']).sort('count', ascending = False)\n",
    "\n",
    "#to create a column and count the words\n",
    "people['word_count'] = graphlab.text_analytics.count_words(people['text'])\n",
    "\n",
    "#to get unimportant words out- compute TF-IDF for the corpus\n",
    "tfidf = graphlab.text_analytics.tf_idf(people['word_count'])\n",
    "\n",
    "if graphlab.version <= '1.6.1':\n",
    "    tfidf = tfidf['docs']\n",
    "\n",
    "people['tfidf'] = tfidf\n",
    "    \n",
    "obama = people[people['name'] == 'Barack Obama']\n",
    "obama[['tfidf']].stack('tfidf', new_column_name = ['word', 'tfidf']).sort('tfidf', ascending = False)\n",
    "\n",
    "#to compute distances between people\n",
    "# clinton = people[people['name'] == 'Bill Clinton']\n",
    "# beckham = people[people['name'] == 'David Beckham']\n",
    "\n",
    "#to compute who is closer\n",
    "# print \"Obama vs Clinton\", graphlab.distances.cosine(obama['tfidf'][0],clinton['tfidf'][0])\n",
    "# print \"Obama vs Beckham\", graphlab.distances.cosine(obama['tfidf'][0],beckham['tfidf'][0])\n",
    "\n",
    "#computing using the nearest neighbour model for document retrieval\n",
    "knn_model = graphlab.nearest_neighbors.create(people, features = ['tfidf'], label = 'name')\n",
    "\n",
    "#who is closest to Obama\n",
    "knn_model.query(obama)"
   ]
  },
  {
   "cell_type": "code",
   "execution_count": 48,
   "metadata": {
    "collapsed": false
   },
   "outputs": [
    {
     "name": "stdout",
     "output_type": "stream",
     "text": [
      "+-------+-------+\n",
      "|  word | count |\n",
      "+-------+-------+\n",
      "|  the  |   27  |\n",
      "|   in  |   18  |\n",
      "|  and  |   15  |\n",
      "|   of  |   13  |\n",
      "|   a   |   10  |\n",
      "|  has  |   9   |\n",
      "|  john |   7   |\n",
      "|   he  |   7   |\n",
      "|   on  |   6   |\n",
      "| award |   5   |\n",
      "+-------+-------+\n",
      "[255 rows x 2 columns]\n",
      "Note: Only the head of the SFrame is printed.\n",
      "You can use print_rows(num_rows=m, num_columns=n) to print more rows and columns.\n",
      "+---------------+---------------+\n",
      "|      word     |     tfidf     |\n",
      "+---------------+---------------+\n",
      "|    furnish    |  18.38947184  |\n",
      "|     elton     |  17.48232027  |\n",
      "|   billboard   | 17.3036809575 |\n",
      "|      john     | 13.9393127924 |\n",
      "|  songwriters  |  11.250406447 |\n",
      "| tonightcandle | 10.9864953892 |\n",
      "|  overallelton | 10.9864953892 |\n",
      "|    19702000   | 10.2933482087 |\n",
      "|   fivedecade  | 10.2933482087 |\n",
      "|      aids     |  10.262846934 |\n",
      "+---------------+---------------+\n",
      "[255 rows x 2 columns]\n",
      "Note: Only the head of the SFrame is printed.\n",
      "You can use print_rows(num_rows=m, num_columns=n) to print more rows and columns.\n"
     ]
    }
   ],
   "source": [
    "#question 1\n",
    "Elton = people[people['name'] == 'Elton John']\n",
    "\n",
    "#word_count\n",
    "Elton['word_count'] = graphlab.text_analytics.count_words(Elton['text'])\n",
    "print Elton[['word_count']].stack('word_count', new_column_name = ['word', 'count']).sort('count', ascending= False)\n",
    "\n",
    "#tfidf_count\n",
    "Elton = people[people['name'] == 'Elton John']\n",
    "Elton['word_count'] = graphlab.text_analytics.count_words(Elton['text'])\n",
    "tfidf = graphlab.text_analytics.tf_idf(people['word_count'])\n",
    "\n",
    "if graphlab.version <= '1.6.1':\n",
    "    tfidf = tfidf['docs']\n",
    "tfidf\n",
    "\n",
    "people['tfidf'] = tfidf\n",
    "print Elton[['tfidf']].stack('tfidf', new_column_name = ['word', 'tfidf']).sort('tfidf', ascending= False)"
   ]
  },
  {
   "cell_type": "code",
   "execution_count": 51,
   "metadata": {
    "collapsed": false
   },
   "outputs": [
    {
     "name": "stdout",
     "output_type": "stream",
     "text": [
      " Elton vs Victoria  0.956700637666\n",
      "Elton vs Paul  0.825031002922\n"
     ]
    }
   ],
   "source": [
    "#question 2\n",
    "\n",
    "#to compute distances between people\n",
    "Victoria  = people[people['name'] == 'Victoria Beckham']\n",
    "Paul = people[people['name'] == 'Paul McCartney']\n",
    "\n",
    "#to compute who is closer\n",
    "print \"Elton vs Victoria \", graphlab.distances.cosine(Elton['tfidf'][0],Victoria ['tfidf'][0])\n",
    "print \"Elton vs Paul \", graphlab.distances.cosine(Elton['tfidf'][0],Paul ['tfidf'][0])"
   ]
  },
  {
   "cell_type": "code",
   "execution_count": 56,
   "metadata": {
    "collapsed": false
   },
   "outputs": [
    {
     "data": {
      "text/html": [
       "<pre>Starting brute force nearest neighbors model training.</pre>"
      ],
      "text/plain": [
       "Starting brute force nearest neighbors model training."
      ]
     },
     "metadata": {},
     "output_type": "display_data"
    },
    {
     "name": "stdout",
     "output_type": "stream",
     "text": [
      "-----------3a-------"
     ]
    },
    {
     "data": {
      "text/html": [
       "<pre>Starting pairwise querying.</pre>"
      ],
      "text/plain": [
       "Starting pairwise querying."
      ]
     },
     "metadata": {},
     "output_type": "display_data"
    },
    {
     "data": {
      "text/html": [
       "<pre>+--------------+---------+-------------+--------------+</pre>"
      ],
      "text/plain": [
       "+--------------+---------+-------------+--------------+"
      ]
     },
     "metadata": {},
     "output_type": "display_data"
    },
    {
     "data": {
      "text/html": [
       "<pre>| Query points | # Pairs | % Complete. | Elapsed Time |</pre>"
      ],
      "text/plain": [
       "| Query points | # Pairs | % Complete. | Elapsed Time |"
      ]
     },
     "metadata": {},
     "output_type": "display_data"
    },
    {
     "data": {
      "text/html": [
       "<pre>+--------------+---------+-------------+--------------+</pre>"
      ],
      "text/plain": [
       "+--------------+---------+-------------+--------------+"
      ]
     },
     "metadata": {},
     "output_type": "display_data"
    },
    {
     "data": {
      "text/html": [
       "<pre>| 0            | 1       | 0.00169288  | 22.301ms     |</pre>"
      ],
      "text/plain": [
       "| 0            | 1       | 0.00169288  | 22.301ms     |"
      ]
     },
     "metadata": {},
     "output_type": "display_data"
    },
    {
     "data": {
      "text/html": [
       "<pre>| Done         |         | 100         | 761.74ms     |</pre>"
      ],
      "text/plain": [
       "| Done         |         | 100         | 761.74ms     |"
      ]
     },
     "metadata": {},
     "output_type": "display_data"
    },
    {
     "data": {
      "text/html": [
       "<pre>+--------------+---------+-------------+--------------+</pre>"
      ],
      "text/plain": [
       "+--------------+---------+-------------+--------------+"
      ]
     },
     "metadata": {},
     "output_type": "display_data"
    },
    {
     "name": "stdout",
     "output_type": "stream",
     "text": [
      " +-------------+-------------------+-------------------+------+\n",
      "| query_label |  reference_label  |      distance     | rank |\n",
      "+-------------+-------------------+-------------------+------+\n",
      "|      0      |     Elton John    | 2.22044604925e-16 |  1   |\n",
      "|      0      |   Cliff Richard   |   0.16142415259   |  2   |\n",
      "|      0      |   Sandro Petrone  |   0.16822542751   |  3   |\n",
      "|      0      |    Rod Stewart    |   0.168327165587  |  4   |\n",
      "|      0      | Malachi O'Doherty |   0.177315545979  |  5   |\n",
      "+-------------+-------------------+-------------------+------+\n",
      "[5 rows x 4 columns]\n",
      "\n",
      "-----------3c-------"
     ]
    },
    {
     "data": {
      "text/html": [
       "<pre>Starting pairwise querying.</pre>"
      ],
      "text/plain": [
       "Starting pairwise querying."
      ]
     },
     "metadata": {},
     "output_type": "display_data"
    },
    {
     "data": {
      "text/html": [
       "<pre>+--------------+---------+-------------+--------------+</pre>"
      ],
      "text/plain": [
       "+--------------+---------+-------------+--------------+"
      ]
     },
     "metadata": {},
     "output_type": "display_data"
    },
    {
     "data": {
      "text/html": [
       "<pre>| Query points | # Pairs | % Complete. | Elapsed Time |</pre>"
      ],
      "text/plain": [
       "| Query points | # Pairs | % Complete. | Elapsed Time |"
      ]
     },
     "metadata": {},
     "output_type": "display_data"
    },
    {
     "data": {
      "text/html": [
       "<pre>+--------------+---------+-------------+--------------+</pre>"
      ],
      "text/plain": [
       "+--------------+---------+-------------+--------------+"
      ]
     },
     "metadata": {},
     "output_type": "display_data"
    },
    {
     "data": {
      "text/html": [
       "<pre>| 0            | 1       | 0.00169288  | 22.981ms     |</pre>"
      ],
      "text/plain": [
       "| 0            | 1       | 0.00169288  | 22.981ms     |"
      ]
     },
     "metadata": {},
     "output_type": "display_data"
    },
    {
     "data": {
      "text/html": [
       "<pre>| Done         |         | 100         | 723.709ms    |</pre>"
      ],
      "text/plain": [
       "| Done         |         | 100         | 723.709ms    |"
      ]
     },
     "metadata": {},
     "output_type": "display_data"
    },
    {
     "data": {
      "text/html": [
       "<pre>+--------------+---------+-------------+--------------+</pre>"
      ],
      "text/plain": [
       "+--------------+---------+-------------+--------------+"
      ]
     },
     "metadata": {},
     "output_type": "display_data"
    },
    {
     "name": "stdout",
     "output_type": "stream",
     "text": [
      " +-------------+--------------------------+--------------------+------+\n",
      "| query_label |     reference_label      |      distance      | rank |\n",
      "+-------------+--------------------------+--------------------+------+\n",
      "|      0      |     Victoria Beckham     | -2.22044604925e-16 |  1   |\n",
      "|      0      | Mary Fitzgerald (artist) |   0.207307036115   |  2   |\n",
      "|      0      |      Adrienne Corri      |   0.214509782788   |  3   |\n",
      "|      0      |     Beverly Jane Fry     |   0.217466468741   |  4   |\n",
      "|      0      |      Raman Mundair       |   0.217695474992   |  5   |\n",
      "+-------------+--------------------------+--------------------+------+\n",
      "[5 rows x 4 columns]\n",
      "\n"
     ]
    },
    {
     "data": {
      "text/html": [
       "<pre>Starting brute force nearest neighbors model training.</pre>"
      ],
      "text/plain": [
       "Starting brute force nearest neighbors model training."
      ]
     },
     "metadata": {},
     "output_type": "display_data"
    },
    {
     "name": "stdout",
     "output_type": "stream",
     "text": [
      "-----------3b-------"
     ]
    },
    {
     "data": {
      "text/html": [
       "<pre>Starting pairwise querying.</pre>"
      ],
      "text/plain": [
       "Starting pairwise querying."
      ]
     },
     "metadata": {},
     "output_type": "display_data"
    },
    {
     "data": {
      "text/html": [
       "<pre>+--------------+---------+-------------+--------------+</pre>"
      ],
      "text/plain": [
       "+--------------+---------+-------------+--------------+"
      ]
     },
     "metadata": {},
     "output_type": "display_data"
    },
    {
     "data": {
      "text/html": [
       "<pre>| Query points | # Pairs | % Complete. | Elapsed Time |</pre>"
      ],
      "text/plain": [
       "| Query points | # Pairs | % Complete. | Elapsed Time |"
      ]
     },
     "metadata": {},
     "output_type": "display_data"
    },
    {
     "data": {
      "text/html": [
       "<pre>+--------------+---------+-------------+--------------+</pre>"
      ],
      "text/plain": [
       "+--------------+---------+-------------+--------------+"
      ]
     },
     "metadata": {},
     "output_type": "display_data"
    },
    {
     "data": {
      "text/html": [
       "<pre>| 0            | 1       | 0.00169288  | 32.694ms     |</pre>"
      ],
      "text/plain": [
       "| 0            | 1       | 0.00169288  | 32.694ms     |"
      ]
     },
     "metadata": {},
     "output_type": "display_data"
    },
    {
     "data": {
      "text/html": [
       "<pre>| Done         |         | 100         | 1.01s        |</pre>"
      ],
      "text/plain": [
       "| Done         |         | 100         | 1.01s        |"
      ]
     },
     "metadata": {},
     "output_type": "display_data"
    },
    {
     "name": "stdout",
     "output_type": "stream",
     "text": [
      " "
     ]
    },
    {
     "data": {
      "text/html": [
       "<pre>+--------------+---------+-------------+--------------+</pre>"
      ],
      "text/plain": [
       "+--------------+---------+-------------+--------------+"
      ]
     },
     "metadata": {},
     "output_type": "display_data"
    },
    {
     "name": "stdout",
     "output_type": "stream",
     "text": [
      "+-------------+------------------+--------------------+------+\n",
      "| query_label | reference_label  |      distance      | rank |\n",
      "+-------------+------------------+--------------------+------+\n",
      "|      0      |    Elton John    | -2.22044604925e-16 |  1   |\n",
      "|      0      |   Rod Stewart    |   0.717219667893   |  2   |\n",
      "|      0      |  George Michael  |   0.747600998969   |  3   |\n",
      "|      0      | Sting (musician) |   0.747671954431   |  4   |\n",
      "|      0      |   Phil Collins   |   0.75119324879    |  5   |\n",
      "+-------------+------------------+--------------------+------+\n",
      "[5 rows x 4 columns]\n",
      "\n",
      "-----------3d-------"
     ]
    },
    {
     "data": {
      "text/html": [
       "<pre>Starting pairwise querying.</pre>"
      ],
      "text/plain": [
       "Starting pairwise querying."
      ]
     },
     "metadata": {},
     "output_type": "display_data"
    },
    {
     "data": {
      "text/html": [
       "<pre>+--------------+---------+-------------+--------------+</pre>"
      ],
      "text/plain": [
       "+--------------+---------+-------------+--------------+"
      ]
     },
     "metadata": {},
     "output_type": "display_data"
    },
    {
     "data": {
      "text/html": [
       "<pre>| Query points | # Pairs | % Complete. | Elapsed Time |</pre>"
      ],
      "text/plain": [
       "| Query points | # Pairs | % Complete. | Elapsed Time |"
      ]
     },
     "metadata": {},
     "output_type": "display_data"
    },
    {
     "data": {
      "text/html": [
       "<pre>+--------------+---------+-------------+--------------+</pre>"
      ],
      "text/plain": [
       "+--------------+---------+-------------+--------------+"
      ]
     },
     "metadata": {},
     "output_type": "display_data"
    },
    {
     "data": {
      "text/html": [
       "<pre>| 0            | 1       | 0.00169288  | 24.35ms      |</pre>"
      ],
      "text/plain": [
       "| 0            | 1       | 0.00169288  | 24.35ms      |"
      ]
     },
     "metadata": {},
     "output_type": "display_data"
    },
    {
     "data": {
      "text/html": [
       "<pre>| Done         |         | 100         | 955.123ms    |</pre>"
      ],
      "text/plain": [
       "| Done         |         | 100         | 955.123ms    |"
      ]
     },
     "metadata": {},
     "output_type": "display_data"
    },
    {
     "name": "stdout",
     "output_type": "stream",
     "text": [
      " "
     ]
    },
    {
     "data": {
      "text/html": [
       "<pre>+--------------+---------+-------------+--------------+</pre>"
      ],
      "text/plain": [
       "+--------------+---------+-------------+--------------+"
      ]
     },
     "metadata": {},
     "output_type": "display_data"
    },
    {
     "name": "stdout",
     "output_type": "stream",
     "text": [
      "+-------------+---------------------+-------------------+------+\n",
      "| query_label |   reference_label   |      distance     | rank |\n",
      "+-------------+---------------------+-------------------+------+\n",
      "|      0      |   Victoria Beckham  | 1.11022302463e-16 |  1   |\n",
      "|      0      |    David Beckham    |   0.548169610263  |  2   |\n",
      "|      0      | Stephen Dow Beckham |   0.784986706828  |  3   |\n",
      "|      0      |        Mel B        |   0.809585523409  |  4   |\n",
      "|      0      |    Caroline Rush    |   0.819826422919  |  5   |\n",
      "+-------------+---------------------+-------------------+------+\n",
      "[5 rows x 4 columns]\n",
      "\n"
     ]
    }
   ],
   "source": [
    "#question 3\n",
    "\n",
    "#question3a\n",
    "knn_model = graphlab.nearest_neighbors.create(people,features = ['word_count'], distance='cosine', label = 'name')\n",
    "print \"-----------3a-------\", knn_model.query(Elton)\n",
    "print \"-----------3c-------\", knn_model.query(Victoria)\n",
    "\n",
    "#question3b\n",
    "knn_model = graphlab.nearest_neighbors.create(people,features = ['tfidf'], distance='cosine', label = 'name')\n",
    "print \"-----------3b-------\", knn_model.query(Elton)\n",
    "print \"-----------3d-------\", knn_model.query(Victoria)"
   ]
  },
  {
   "cell_type": "code",
   "execution_count": null,
   "metadata": {
    "collapsed": false
   },
   "outputs": [],
   "source": []
  },
  {
   "cell_type": "code",
   "execution_count": null,
   "metadata": {
    "collapsed": true
   },
   "outputs": [],
   "source": []
  }
 ],
 "metadata": {
  "kernelspec": {
   "display_name": "Python 2",
   "language": "python",
   "name": "python2"
  },
  "language_info": {
   "codemirror_mode": {
    "name": "ipython",
    "version": 2
   },
   "file_extension": ".py",
   "mimetype": "text/x-python",
   "name": "python",
   "nbconvert_exporter": "python",
   "pygments_lexer": "ipython2",
   "version": "2.7.12"
  }
 },
 "nbformat": 4,
 "nbformat_minor": 1
}
